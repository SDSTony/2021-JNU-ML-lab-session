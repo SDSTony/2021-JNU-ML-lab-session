{
  "nbformat": 4,
  "nbformat_minor": 0,
  "metadata": {
    "colab": {
      "name": "notebook.ipynb",
      "provenance": [],
      "collapsed_sections": [
        "9IAx7pkThN8z"
      ]
    },
    "kernelspec": {
      "display_name": "Python 3",
      "language": "python",
      "name": "python3"
    },
    "language_info": {
      "codemirror_mode": {
        "name": "ipython",
        "version": 3
      },
      "file_extension": ".py",
      "mimetype": "text/x-python",
      "name": "python",
      "nbconvert_exporter": "python",
      "pygments_lexer": "ipython3",
      "version": "3.8.5"
    }
  },
  "cells": [
    {
      "cell_type": "markdown",
      "metadata": {
        "id": "HXO69Xc02m8C"
      },
      "source": [
        "# 1. 2021-06 제주대학교 파이썬을 활용한 머신러닝 응용"
      ]
    },
    {
      "cell_type": "markdown",
      "metadata": {
        "id": "CXi4iNNx4x5b"
      },
      "source": [
        "[![Open In Colab](https://colab.research.google.com/assets/colab-badge.svg)](https://colab.research.google.com/github/SDSTony/2021-JNU-ML-lab-session/blob/main/notebook.ipynb)\n"
      ]
    },
    {
      "cell_type": "markdown",
      "metadata": {
        "id": "qqNkDlCW2s5d"
      },
      "source": [
        "강사: 안성진 <img src=\"https://github.com/kaggler-tv/dku-kaggle-class/blob/master/course-website/imgs/Sungjin.png?raw=true\" width=\"5%\" height=\"7%\">"
      ]
    },
    {
      "cell_type": "markdown",
      "metadata": {
        "id": "sqcMl5gAt6Qo"
      },
      "source": [
        "## 1.1 데이터과학 대회 소개"
      ]
    },
    {
      "cell_type": "markdown",
      "metadata": {
        "id": "uKPo82WWt6Qo"
      },
      "source": [
        "- 데이터과학 대회: **주어진 기간** 동안 모델의 성능을 **경쟁적으로** 높이는 **배움의 장**\n",
        "    - `주어진 기간`: 대회 기간\n",
        "        - 종료된 대회 참여시 기한 없음\n",
        "    - `경쟁적으로`: 참가자들과 공개 리더보드를 통한 경쟁\n",
        "        - 나의 현재 위치를 확인하며 지속적인 동기부여와 성취감\n",
        "    - `배움의 장`: 다양한 데이터에 여러 머신러닝 기법을 적용해보면서 배우는 PBL(Project Based Learning)\n",
        "\n",
        "- 참가 이유\n",
        "\n",
        "    - 재미, 배움, **경력 개발**을 실현할 수 있는 기회\n",
        "    ![image.png](https://drive.google.com/uc?id=1DdVFF_PXr3fAcCsZgiS6LK7TgDWM8ZFB) \n",
        "        - 대회 출전자/수상자 우대 예시 1\n",
        "\n",
        "    ![image.png](https://drive.google.com/uc?id=1tzGofJu2h7Hmd6VlaO4DCYPEH_fmDPZq)\n",
        "        - 대회 출전자/수상자 우대 예시 2\n",
        "    - 나의 가설이 맞았을 때 느끼는 카타르시스\n",
        "\n",
        "\n"
      ]
    },
    {
      "cell_type": "markdown",
      "metadata": {
        "id": "mFzd5W7At6Qp"
      },
      "source": [
        "## 1.2 머신러닝 파이프라인/실험과정 소개"
      ]
    },
    {
      "cell_type": "markdown",
      "metadata": {
        "id": "2iFmJPFgt6Qp"
      },
      "source": [
        "- 데이터과학 대회(머신러닝 응용 프로젝트)를 위한 모델 구축 파이프라인은 아래와 같습니다. \n",
        "\n",
        "![image.png](https://drive.google.com/uc?id=1eoPn1YGwWs1wIHYKXsaVdzagbgSabH0y)\n",
        "\n",
        "- 먼저 데이터를 불러옵니다. \n",
        "- 불러온 데이터에 대한 탐색을 진행합니다. \n",
        "- 간단한 베이스라인 모델을 구축합니다. \n",
        "- 최적의 모델 탐색 과정을 반복하여 모델의 성능을 고도화 합니다. \n",
        "- 최종 모델을 산출합니다. "
      ]
    },
    {
      "cell_type": "code",
      "metadata": {
        "id": "6GEYijohW9CW"
      },
      "source": [
        "# 한글폰트 사용 in colab #출처: https://velog.io/@jonsyou/colabsetting1\n",
        "%matplotlib inline  \n",
        "\n",
        "import matplotlib as mpl \n",
        "import matplotlib.pyplot as plt \n",
        "import matplotlib.font_manager as fm  \n",
        "\n",
        "!apt-get update -qq\n",
        "!apt-get install fonts-nanum* -qq\n",
        "\n",
        "path = '/usr/share/fonts/truetype/nanum/NanumBarunGothic.ttf' \n",
        "font_name = fm.FontProperties(fname=path, size=10).get_name()\n",
        "print(font_name)\n",
        "plt.rc('font', family=font_name)\n",
        "\n",
        "fm._rebuild()\n",
        "mpl.rcParams['axes.unicode_minus'] = False"
      ],
      "execution_count": null,
      "outputs": []
    },
    {
      "cell_type": "markdown",
      "metadata": {
        "id": "daQNZy93bSg4"
      },
      "source": [
        "1. 위 코드를 한번 실행 시킨다\n",
        "2. 런타임 > 런타임 다시 시작 을 누른다.\n",
        "3. 다시 한번 더 위 코드를 실행 시킨다. "
      ]
    },
    {
      "cell_type": "code",
      "metadata": {
        "colab": {
          "base_uri": "https://localhost:8080/"
        },
        "id": "k8lHjMI2sQGT",
        "outputId": "65b7bd76-a304-4da1-b233-fc1c962f0155"
      },
      "source": [
        "!pip install -U scikit-learn"
      ],
      "execution_count": null,
      "outputs": [
        {
          "output_type": "stream",
          "text": [
            "Requirement already up-to-date: scikit-learn in /usr/local/lib/python3.7/dist-packages (0.24.2)\n",
            "Requirement already satisfied, skipping upgrade: scipy>=0.19.1 in /usr/local/lib/python3.7/dist-packages (from scikit-learn) (1.4.1)\n",
            "Requirement already satisfied, skipping upgrade: threadpoolctl>=2.0.0 in /usr/local/lib/python3.7/dist-packages (from scikit-learn) (2.1.0)\n",
            "Requirement already satisfied, skipping upgrade: joblib>=0.11 in /usr/local/lib/python3.7/dist-packages (from scikit-learn) (1.0.1)\n",
            "Requirement already satisfied, skipping upgrade: numpy>=1.13.3 in /usr/local/lib/python3.7/dist-packages (from scikit-learn) (1.19.5)\n"
          ],
          "name": "stdout"
        }
      ]
    },
    {
      "cell_type": "markdown",
      "metadata": {
        "id": "q0cR7t3V2xH6"
      },
      "source": [
        "## 1.3 Pandas 탐색\n"
      ]
    },
    {
      "cell_type": "code",
      "metadata": {
        "id": "3qOP9c2Iv2jh",
        "colab": {
          "base_uri": "https://localhost:8080/"
        },
        "outputId": "e68792d8-106d-4149-9351-984d8c0d57a5"
      },
      "source": [
        "# 데이터 접근을 위해 구글 드라이브에 연결\n",
        "# 데이터는 본인 구글 드라이브에 업로드\n",
        "from google.colab import drive\n",
        "drive.mount('/content/drive')"
      ],
      "execution_count": null,
      "outputs": [
        {
          "output_type": "stream",
          "text": [
            "Drive already mounted at /content/drive; to attempt to forcibly remount, call drive.mount(\"/content/drive\", force_remount=True).\n"
          ],
          "name": "stdout"
        }
      ]
    },
    {
      "cell_type": "code",
      "metadata": {
        "id": "pb0OD3v82lnT"
      },
      "source": [
        "import pandas as pd "
      ],
      "execution_count": null,
      "outputs": []
    },
    {
      "cell_type": "code",
      "metadata": {
        "id": "RzzCqQ8i1Vu7"
      },
      "source": [
        "# 데이터 불러오기\n",
        "path = '/content/drive/MyDrive/04. 데이콘/09. 데이콘 제주대 2021/data'\n",
        "train = pd.read_csv(path + '/train.csv')\n",
        "# 실습\n",
        "test = pd.read_csv(path + '/test.csv')\n",
        "submission = pd.read_csv(path + '/sample_submission.csv')"
      ],
      "execution_count": null,
      "outputs": []
    },
    {
      "cell_type": "markdown",
      "metadata": {
        "id": "SeMTXuTthA6s"
      },
      "source": [
        "#### pd.DataFrame.head()"
      ]
    },
    {
      "cell_type": "code",
      "metadata": {
        "colab": {
          "base_uri": "https://localhost:8080/",
          "height": 381
        },
        "id": "7ivpXAVykQhp",
        "outputId": "6fe17788-27dd-4994-e274-aca059bb5e9a"
      },
      "source": [
        "train.head()"
      ],
      "execution_count": null,
      "outputs": [
        {
          "output_type": "execute_result",
          "data": {
            "text/html": [
              "<div>\n",
              "<style scoped>\n",
              "    .dataframe tbody tr th:only-of-type {\n",
              "        vertical-align: middle;\n",
              "    }\n",
              "\n",
              "    .dataframe tbody tr th {\n",
              "        vertical-align: top;\n",
              "    }\n",
              "\n",
              "    .dataframe thead th {\n",
              "        text-align: right;\n",
              "    }\n",
              "</style>\n",
              "<table border=\"1\" class=\"dataframe\">\n",
              "  <thead>\n",
              "    <tr style=\"text-align: right;\">\n",
              "      <th></th>\n",
              "      <th>index</th>\n",
              "      <th>gender</th>\n",
              "      <th>car</th>\n",
              "      <th>reality</th>\n",
              "      <th>child_num</th>\n",
              "      <th>income_total</th>\n",
              "      <th>income_type</th>\n",
              "      <th>edu_type</th>\n",
              "      <th>family_type</th>\n",
              "      <th>house_type</th>\n",
              "      <th>DAYS_BIRTH</th>\n",
              "      <th>DAYS_EMPLOYED</th>\n",
              "      <th>FLAG_MOBIL</th>\n",
              "      <th>work_phone</th>\n",
              "      <th>phone</th>\n",
              "      <th>email</th>\n",
              "      <th>occyp_type</th>\n",
              "      <th>family_size</th>\n",
              "      <th>begin_month</th>\n",
              "      <th>credit</th>\n",
              "    </tr>\n",
              "  </thead>\n",
              "  <tbody>\n",
              "    <tr>\n",
              "      <th>0</th>\n",
              "      <td>0</td>\n",
              "      <td>F</td>\n",
              "      <td>N</td>\n",
              "      <td>N</td>\n",
              "      <td>0</td>\n",
              "      <td>202500.0</td>\n",
              "      <td>Commercial associate</td>\n",
              "      <td>Higher education</td>\n",
              "      <td>Married</td>\n",
              "      <td>Municipal apartment</td>\n",
              "      <td>-13899</td>\n",
              "      <td>-4709</td>\n",
              "      <td>1</td>\n",
              "      <td>0</td>\n",
              "      <td>0</td>\n",
              "      <td>0</td>\n",
              "      <td>NaN</td>\n",
              "      <td>2.0</td>\n",
              "      <td>-6.0</td>\n",
              "      <td>1.0</td>\n",
              "    </tr>\n",
              "    <tr>\n",
              "      <th>1</th>\n",
              "      <td>1</td>\n",
              "      <td>F</td>\n",
              "      <td>N</td>\n",
              "      <td>Y</td>\n",
              "      <td>1</td>\n",
              "      <td>247500.0</td>\n",
              "      <td>Commercial associate</td>\n",
              "      <td>Secondary / secondary special</td>\n",
              "      <td>Civil marriage</td>\n",
              "      <td>House / apartment</td>\n",
              "      <td>-11380</td>\n",
              "      <td>-1540</td>\n",
              "      <td>1</td>\n",
              "      <td>0</td>\n",
              "      <td>0</td>\n",
              "      <td>1</td>\n",
              "      <td>Laborers</td>\n",
              "      <td>3.0</td>\n",
              "      <td>-5.0</td>\n",
              "      <td>1.0</td>\n",
              "    </tr>\n",
              "    <tr>\n",
              "      <th>2</th>\n",
              "      <td>2</td>\n",
              "      <td>M</td>\n",
              "      <td>Y</td>\n",
              "      <td>Y</td>\n",
              "      <td>0</td>\n",
              "      <td>450000.0</td>\n",
              "      <td>Working</td>\n",
              "      <td>Higher education</td>\n",
              "      <td>Married</td>\n",
              "      <td>House / apartment</td>\n",
              "      <td>-19087</td>\n",
              "      <td>-4434</td>\n",
              "      <td>1</td>\n",
              "      <td>0</td>\n",
              "      <td>1</td>\n",
              "      <td>0</td>\n",
              "      <td>Managers</td>\n",
              "      <td>2.0</td>\n",
              "      <td>-22.0</td>\n",
              "      <td>2.0</td>\n",
              "    </tr>\n",
              "    <tr>\n",
              "      <th>3</th>\n",
              "      <td>3</td>\n",
              "      <td>F</td>\n",
              "      <td>N</td>\n",
              "      <td>Y</td>\n",
              "      <td>0</td>\n",
              "      <td>202500.0</td>\n",
              "      <td>Commercial associate</td>\n",
              "      <td>Secondary / secondary special</td>\n",
              "      <td>Married</td>\n",
              "      <td>House / apartment</td>\n",
              "      <td>-15088</td>\n",
              "      <td>-2092</td>\n",
              "      <td>1</td>\n",
              "      <td>0</td>\n",
              "      <td>1</td>\n",
              "      <td>0</td>\n",
              "      <td>Sales staff</td>\n",
              "      <td>2.0</td>\n",
              "      <td>-37.0</td>\n",
              "      <td>0.0</td>\n",
              "    </tr>\n",
              "    <tr>\n",
              "      <th>4</th>\n",
              "      <td>4</td>\n",
              "      <td>F</td>\n",
              "      <td>Y</td>\n",
              "      <td>Y</td>\n",
              "      <td>0</td>\n",
              "      <td>157500.0</td>\n",
              "      <td>State servant</td>\n",
              "      <td>Higher education</td>\n",
              "      <td>Married</td>\n",
              "      <td>House / apartment</td>\n",
              "      <td>-15037</td>\n",
              "      <td>-2105</td>\n",
              "      <td>1</td>\n",
              "      <td>0</td>\n",
              "      <td>0</td>\n",
              "      <td>0</td>\n",
              "      <td>Managers</td>\n",
              "      <td>2.0</td>\n",
              "      <td>-26.0</td>\n",
              "      <td>2.0</td>\n",
              "    </tr>\n",
              "  </tbody>\n",
              "</table>\n",
              "</div>"
            ],
            "text/plain": [
              "   index gender car reality  ...   occyp_type  family_size begin_month credit\n",
              "0      0      F   N       N  ...          NaN          2.0        -6.0    1.0\n",
              "1      1      F   N       Y  ...     Laborers          3.0        -5.0    1.0\n",
              "2      2      M   Y       Y  ...     Managers          2.0       -22.0    2.0\n",
              "3      3      F   N       Y  ...  Sales staff          2.0       -37.0    0.0\n",
              "4      4      F   Y       Y  ...     Managers          2.0       -26.0    2.0\n",
              "\n",
              "[5 rows x 20 columns]"
            ]
          },
          "metadata": {
            "tags": []
          },
          "execution_count": 22
        }
      ]
    },
    {
      "cell_type": "code",
      "metadata": {
        "id": "Lxo9k86b41Bs",
        "colab": {
          "base_uri": "https://localhost:8080/",
          "height": 415
        },
        "outputId": "b7c4d7b9-5558-44d3-859f-f3890f7b4a97"
      },
      "source": [
        "train.tail()"
      ],
      "execution_count": null,
      "outputs": [
        {
          "output_type": "execute_result",
          "data": {
            "text/html": [
              "<div>\n",
              "<style scoped>\n",
              "    .dataframe tbody tr th:only-of-type {\n",
              "        vertical-align: middle;\n",
              "    }\n",
              "\n",
              "    .dataframe tbody tr th {\n",
              "        vertical-align: top;\n",
              "    }\n",
              "\n",
              "    .dataframe thead th {\n",
              "        text-align: right;\n",
              "    }\n",
              "</style>\n",
              "<table border=\"1\" class=\"dataframe\">\n",
              "  <thead>\n",
              "    <tr style=\"text-align: right;\">\n",
              "      <th></th>\n",
              "      <th>index</th>\n",
              "      <th>gender</th>\n",
              "      <th>car</th>\n",
              "      <th>reality</th>\n",
              "      <th>child_num</th>\n",
              "      <th>income_total</th>\n",
              "      <th>income_type</th>\n",
              "      <th>edu_type</th>\n",
              "      <th>family_type</th>\n",
              "      <th>house_type</th>\n",
              "      <th>DAYS_BIRTH</th>\n",
              "      <th>DAYS_EMPLOYED</th>\n",
              "      <th>FLAG_MOBIL</th>\n",
              "      <th>work_phone</th>\n",
              "      <th>phone</th>\n",
              "      <th>email</th>\n",
              "      <th>occyp_type</th>\n",
              "      <th>family_size</th>\n",
              "      <th>begin_month</th>\n",
              "      <th>credit</th>\n",
              "    </tr>\n",
              "  </thead>\n",
              "  <tbody>\n",
              "    <tr>\n",
              "      <th>26452</th>\n",
              "      <td>26452</td>\n",
              "      <td>F</td>\n",
              "      <td>N</td>\n",
              "      <td>N</td>\n",
              "      <td>2</td>\n",
              "      <td>225000.0</td>\n",
              "      <td>State servant</td>\n",
              "      <td>Secondary / secondary special</td>\n",
              "      <td>Married</td>\n",
              "      <td>House / apartment</td>\n",
              "      <td>-12079</td>\n",
              "      <td>-1984</td>\n",
              "      <td>1</td>\n",
              "      <td>0</td>\n",
              "      <td>0</td>\n",
              "      <td>0</td>\n",
              "      <td>Core staff</td>\n",
              "      <td>4.0</td>\n",
              "      <td>-2.0</td>\n",
              "      <td>1.0</td>\n",
              "    </tr>\n",
              "    <tr>\n",
              "      <th>26453</th>\n",
              "      <td>26453</td>\n",
              "      <td>F</td>\n",
              "      <td>N</td>\n",
              "      <td>Y</td>\n",
              "      <td>1</td>\n",
              "      <td>180000.0</td>\n",
              "      <td>Working</td>\n",
              "      <td>Higher education</td>\n",
              "      <td>Separated</td>\n",
              "      <td>House / apartment</td>\n",
              "      <td>-15291</td>\n",
              "      <td>-2475</td>\n",
              "      <td>1</td>\n",
              "      <td>0</td>\n",
              "      <td>0</td>\n",
              "      <td>0</td>\n",
              "      <td>NaN</td>\n",
              "      <td>2.0</td>\n",
              "      <td>-47.0</td>\n",
              "      <td>2.0</td>\n",
              "    </tr>\n",
              "    <tr>\n",
              "      <th>26454</th>\n",
              "      <td>26454</td>\n",
              "      <td>F</td>\n",
              "      <td>Y</td>\n",
              "      <td>N</td>\n",
              "      <td>0</td>\n",
              "      <td>292500.0</td>\n",
              "      <td>Working</td>\n",
              "      <td>Secondary / secondary special</td>\n",
              "      <td>Civil marriage</td>\n",
              "      <td>With parents</td>\n",
              "      <td>-10082</td>\n",
              "      <td>-2015</td>\n",
              "      <td>1</td>\n",
              "      <td>0</td>\n",
              "      <td>0</td>\n",
              "      <td>0</td>\n",
              "      <td>Core staff</td>\n",
              "      <td>2.0</td>\n",
              "      <td>-25.0</td>\n",
              "      <td>2.0</td>\n",
              "    </tr>\n",
              "    <tr>\n",
              "      <th>26455</th>\n",
              "      <td>26455</td>\n",
              "      <td>M</td>\n",
              "      <td>N</td>\n",
              "      <td>Y</td>\n",
              "      <td>0</td>\n",
              "      <td>171000.0</td>\n",
              "      <td>Working</td>\n",
              "      <td>Incomplete higher</td>\n",
              "      <td>Single / not married</td>\n",
              "      <td>House / apartment</td>\n",
              "      <td>-10145</td>\n",
              "      <td>-107</td>\n",
              "      <td>1</td>\n",
              "      <td>0</td>\n",
              "      <td>0</td>\n",
              "      <td>0</td>\n",
              "      <td>Laborers</td>\n",
              "      <td>1.0</td>\n",
              "      <td>-59.0</td>\n",
              "      <td>2.0</td>\n",
              "    </tr>\n",
              "    <tr>\n",
              "      <th>26456</th>\n",
              "      <td>26456</td>\n",
              "      <td>F</td>\n",
              "      <td>N</td>\n",
              "      <td>N</td>\n",
              "      <td>0</td>\n",
              "      <td>81000.0</td>\n",
              "      <td>Working</td>\n",
              "      <td>Secondary / secondary special</td>\n",
              "      <td>Civil marriage</td>\n",
              "      <td>House / apartment</td>\n",
              "      <td>-19569</td>\n",
              "      <td>-1013</td>\n",
              "      <td>1</td>\n",
              "      <td>0</td>\n",
              "      <td>0</td>\n",
              "      <td>0</td>\n",
              "      <td>Security staff</td>\n",
              "      <td>2.0</td>\n",
              "      <td>-9.0</td>\n",
              "      <td>2.0</td>\n",
              "    </tr>\n",
              "  </tbody>\n",
              "</table>\n",
              "</div>"
            ],
            "text/plain": [
              "       index gender car  ... family_size  begin_month  credit\n",
              "26452  26452      F   N  ...         4.0         -2.0     1.0\n",
              "26453  26453      F   N  ...         2.0        -47.0     2.0\n",
              "26454  26454      F   Y  ...         2.0        -25.0     2.0\n",
              "26455  26455      M   N  ...         1.0        -59.0     2.0\n",
              "26456  26456      F   N  ...         2.0         -9.0     2.0\n",
              "\n",
              "[5 rows x 20 columns]"
            ]
          },
          "metadata": {
            "tags": []
          },
          "execution_count": 23
        }
      ]
    },
    {
      "cell_type": "markdown",
      "metadata": {
        "id": "6LcH-7xT1WTq"
      },
      "source": [
        "- 전처리 할 수 있는 것들\n",
        "    - 문자열 컬럼\n",
        "        - ordinal 인코딩\n",
        "        - one-hot 인코딩\n",
        "        - etc.\n",
        "    - 음수로 입력된 컬럼\n",
        "    - 결측값\n",
        "        - 최빈값\n",
        "        - 제거\n",
        "        - etc.\n",
        "- 여러 실험/가설들을 생각해볼 수 있음"
      ]
    },
    {
      "cell_type": "code",
      "metadata": {
        "colab": {
          "base_uri": "https://localhost:8080/",
          "height": 415
        },
        "id": "1lmSoJUHgwkF",
        "outputId": "04531cda-96df-426d-dd3c-717bf190b6d1"
      },
      "source": [
        "test.head()"
      ],
      "execution_count": null,
      "outputs": [
        {
          "output_type": "execute_result",
          "data": {
            "text/html": [
              "<div>\n",
              "<style scoped>\n",
              "    .dataframe tbody tr th:only-of-type {\n",
              "        vertical-align: middle;\n",
              "    }\n",
              "\n",
              "    .dataframe tbody tr th {\n",
              "        vertical-align: top;\n",
              "    }\n",
              "\n",
              "    .dataframe thead th {\n",
              "        text-align: right;\n",
              "    }\n",
              "</style>\n",
              "<table border=\"1\" class=\"dataframe\">\n",
              "  <thead>\n",
              "    <tr style=\"text-align: right;\">\n",
              "      <th></th>\n",
              "      <th>index</th>\n",
              "      <th>gender</th>\n",
              "      <th>car</th>\n",
              "      <th>reality</th>\n",
              "      <th>child_num</th>\n",
              "      <th>income_total</th>\n",
              "      <th>income_type</th>\n",
              "      <th>edu_type</th>\n",
              "      <th>family_type</th>\n",
              "      <th>house_type</th>\n",
              "      <th>DAYS_BIRTH</th>\n",
              "      <th>DAYS_EMPLOYED</th>\n",
              "      <th>FLAG_MOBIL</th>\n",
              "      <th>work_phone</th>\n",
              "      <th>phone</th>\n",
              "      <th>email</th>\n",
              "      <th>occyp_type</th>\n",
              "      <th>family_size</th>\n",
              "      <th>begin_month</th>\n",
              "    </tr>\n",
              "  </thead>\n",
              "  <tbody>\n",
              "    <tr>\n",
              "      <th>0</th>\n",
              "      <td>26457</td>\n",
              "      <td>M</td>\n",
              "      <td>Y</td>\n",
              "      <td>N</td>\n",
              "      <td>0</td>\n",
              "      <td>112500.0</td>\n",
              "      <td>Pensioner</td>\n",
              "      <td>Secondary / secondary special</td>\n",
              "      <td>Civil marriage</td>\n",
              "      <td>House / apartment</td>\n",
              "      <td>-21990</td>\n",
              "      <td>365243</td>\n",
              "      <td>1</td>\n",
              "      <td>0</td>\n",
              "      <td>1</td>\n",
              "      <td>0</td>\n",
              "      <td>NaN</td>\n",
              "      <td>2.0</td>\n",
              "      <td>-60.0</td>\n",
              "    </tr>\n",
              "    <tr>\n",
              "      <th>1</th>\n",
              "      <td>26458</td>\n",
              "      <td>F</td>\n",
              "      <td>N</td>\n",
              "      <td>Y</td>\n",
              "      <td>0</td>\n",
              "      <td>135000.0</td>\n",
              "      <td>State servant</td>\n",
              "      <td>Higher education</td>\n",
              "      <td>Married</td>\n",
              "      <td>House / apartment</td>\n",
              "      <td>-18964</td>\n",
              "      <td>-8671</td>\n",
              "      <td>1</td>\n",
              "      <td>0</td>\n",
              "      <td>1</td>\n",
              "      <td>0</td>\n",
              "      <td>Core staff</td>\n",
              "      <td>2.0</td>\n",
              "      <td>-36.0</td>\n",
              "    </tr>\n",
              "    <tr>\n",
              "      <th>2</th>\n",
              "      <td>26459</td>\n",
              "      <td>F</td>\n",
              "      <td>N</td>\n",
              "      <td>Y</td>\n",
              "      <td>0</td>\n",
              "      <td>69372.0</td>\n",
              "      <td>Working</td>\n",
              "      <td>Secondary / secondary special</td>\n",
              "      <td>Married</td>\n",
              "      <td>House / apartment</td>\n",
              "      <td>-15887</td>\n",
              "      <td>-217</td>\n",
              "      <td>1</td>\n",
              "      <td>1</td>\n",
              "      <td>1</td>\n",
              "      <td>0</td>\n",
              "      <td>Laborers</td>\n",
              "      <td>2.0</td>\n",
              "      <td>-40.0</td>\n",
              "    </tr>\n",
              "    <tr>\n",
              "      <th>3</th>\n",
              "      <td>26460</td>\n",
              "      <td>M</td>\n",
              "      <td>Y</td>\n",
              "      <td>N</td>\n",
              "      <td>0</td>\n",
              "      <td>112500.0</td>\n",
              "      <td>Commercial associate</td>\n",
              "      <td>Secondary / secondary special</td>\n",
              "      <td>Married</td>\n",
              "      <td>House / apartment</td>\n",
              "      <td>-19270</td>\n",
              "      <td>-2531</td>\n",
              "      <td>1</td>\n",
              "      <td>1</td>\n",
              "      <td>0</td>\n",
              "      <td>0</td>\n",
              "      <td>Drivers</td>\n",
              "      <td>2.0</td>\n",
              "      <td>-41.0</td>\n",
              "    </tr>\n",
              "    <tr>\n",
              "      <th>4</th>\n",
              "      <td>26461</td>\n",
              "      <td>F</td>\n",
              "      <td>Y</td>\n",
              "      <td>Y</td>\n",
              "      <td>0</td>\n",
              "      <td>225000.0</td>\n",
              "      <td>State servant</td>\n",
              "      <td>Higher education</td>\n",
              "      <td>Married</td>\n",
              "      <td>House / apartment</td>\n",
              "      <td>-17822</td>\n",
              "      <td>-9385</td>\n",
              "      <td>1</td>\n",
              "      <td>1</td>\n",
              "      <td>0</td>\n",
              "      <td>0</td>\n",
              "      <td>Managers</td>\n",
              "      <td>2.0</td>\n",
              "      <td>-8.0</td>\n",
              "    </tr>\n",
              "  </tbody>\n",
              "</table>\n",
              "</div>"
            ],
            "text/plain": [
              "   index gender car reality  ...  email  occyp_type family_size begin_month\n",
              "0  26457      M   Y       N  ...      0         NaN         2.0       -60.0\n",
              "1  26458      F   N       Y  ...      0  Core staff         2.0       -36.0\n",
              "2  26459      F   N       Y  ...      0    Laborers         2.0       -40.0\n",
              "3  26460      M   Y       N  ...      0     Drivers         2.0       -41.0\n",
              "4  26461      F   Y       Y  ...      0    Managers         2.0        -8.0\n",
              "\n",
              "[5 rows x 19 columns]"
            ]
          },
          "metadata": {
            "tags": []
          },
          "execution_count": 24
        }
      ]
    },
    {
      "cell_type": "code",
      "metadata": {
        "colab": {
          "base_uri": "https://localhost:8080/",
          "height": 205
        },
        "id": "9Q6R3QIlg1T2",
        "outputId": "e5bc93ae-c229-4246-e88b-2ba6d1bb27f4"
      },
      "source": [
        "submission.head()"
      ],
      "execution_count": null,
      "outputs": [
        {
          "output_type": "execute_result",
          "data": {
            "text/html": [
              "<div>\n",
              "<style scoped>\n",
              "    .dataframe tbody tr th:only-of-type {\n",
              "        vertical-align: middle;\n",
              "    }\n",
              "\n",
              "    .dataframe tbody tr th {\n",
              "        vertical-align: top;\n",
              "    }\n",
              "\n",
              "    .dataframe thead th {\n",
              "        text-align: right;\n",
              "    }\n",
              "</style>\n",
              "<table border=\"1\" class=\"dataframe\">\n",
              "  <thead>\n",
              "    <tr style=\"text-align: right;\">\n",
              "      <th></th>\n",
              "      <th>index</th>\n",
              "      <th>0</th>\n",
              "      <th>1</th>\n",
              "      <th>2</th>\n",
              "    </tr>\n",
              "  </thead>\n",
              "  <tbody>\n",
              "    <tr>\n",
              "      <th>0</th>\n",
              "      <td>26457</td>\n",
              "      <td>0</td>\n",
              "      <td>0</td>\n",
              "      <td>0</td>\n",
              "    </tr>\n",
              "    <tr>\n",
              "      <th>1</th>\n",
              "      <td>26458</td>\n",
              "      <td>0</td>\n",
              "      <td>0</td>\n",
              "      <td>0</td>\n",
              "    </tr>\n",
              "    <tr>\n",
              "      <th>2</th>\n",
              "      <td>26459</td>\n",
              "      <td>0</td>\n",
              "      <td>0</td>\n",
              "      <td>0</td>\n",
              "    </tr>\n",
              "    <tr>\n",
              "      <th>3</th>\n",
              "      <td>26460</td>\n",
              "      <td>0</td>\n",
              "      <td>0</td>\n",
              "      <td>0</td>\n",
              "    </tr>\n",
              "    <tr>\n",
              "      <th>4</th>\n",
              "      <td>26461</td>\n",
              "      <td>0</td>\n",
              "      <td>0</td>\n",
              "      <td>0</td>\n",
              "    </tr>\n",
              "  </tbody>\n",
              "</table>\n",
              "</div>"
            ],
            "text/plain": [
              "   index  0  1  2\n",
              "0  26457  0  0  0\n",
              "1  26458  0  0  0\n",
              "2  26459  0  0  0\n",
              "3  26460  0  0  0\n",
              "4  26461  0  0  0"
            ]
          },
          "metadata": {
            "tags": []
          },
          "execution_count": 25
        }
      ]
    },
    {
      "cell_type": "markdown",
      "metadata": {
        "id": "9IAx7pkThN8z"
      },
      "source": [
        "#### log loss\n",
        "\n",
        "- 분류 모델 평가 시 사용\n",
        "- 모델이 예측한 확률을 직접적으로 반영하여 계산\n",
        "\n",
        "    - 예시) 3 곱하기 5는? (1점)\n",
        "\n",
        "|        | 학생 A | 학생 B |\n",
        "| ------ | ------ | ------ |\n",
        "| (1) 15 |**0.99**   | **0.2**   |\n",
        "| (2) 2  | 0      | 0.2    |\n",
        "| (3) 8  | 0.01   | 0.2    |\n",
        "| (4) 1  | 0      | 0.2    |\n",
        "| (5) -2 | 0      | 0.2    |\n",
        "\n",
        "- 학생 A, 학생 B 모두 1번을 선택했으나 학생 A는 확신에 찬 상태로 선택했으며 학생 B는 찍었음\n",
        "- accuracy(정확도)로 평가를 하게 되면 맞춘 여부만 고려하기 때문에 두 학생 모두 1점을 획득\n",
        "- 확률 값으로 점수를 매기면 학생 A는 0.99점, 학생 B는 0.2점을 획득\n",
        "- log loss는 확률 값을 음의 로그 취한뒤 평균을 산출\n",
        "\n",
        "![](https://miro.medium.com/max/1162/0*i2_eUc_t8A1EJObd.png)\n",
        "- 출처: [medium](https://medium.com/usf-msds/choosing-the-right-metric-for-evaluating-machine-learning-models-part-2-86d5649a5428)\n",
        "\n",
        "- **참고)** 모델 평가시에는 확률값 산출이 가능하지만, 현실 세계에서는 학생이 해당 답을 선택한 확률을 알기 어려움\n",
        "- [log loss에 대해 알아보자 영상](https://www.youtube.com/watch?v=i5U2inxzXx4) 참고\n"
      ]
    },
    {
      "cell_type": "markdown",
      "metadata": {
        "id": "S2N02puchEcw"
      },
      "source": [
        "#### pd.DataFrame.shape"
      ]
    },
    {
      "cell_type": "code",
      "metadata": {
        "id": "NF7F3UfSxr3g",
        "colab": {
          "base_uri": "https://localhost:8080/"
        },
        "outputId": "c5df50e0-6618-4322-bf78-67c3010c15dc"
      },
      "source": [
        "train.shape, test.shape, submission.shape"
      ],
      "execution_count": null,
      "outputs": [
        {
          "output_type": "execute_result",
          "data": {
            "text/plain": [
              "((26457, 20), (10000, 19), (10000, 4))"
            ]
          },
          "metadata": {
            "tags": []
          },
          "execution_count": 26
        }
      ]
    },
    {
      "cell_type": "markdown",
      "metadata": {
        "id": "luXBMI8ShG9q"
      },
      "source": [
        "#### pd.DataFrame.info()"
      ]
    },
    {
      "cell_type": "code",
      "metadata": {
        "id": "Em0NvFjox7PT",
        "colab": {
          "base_uri": "https://localhost:8080/"
        },
        "outputId": "5a7dc395-ac1f-464d-f71c-09d89ba2c4f8"
      },
      "source": [
        "train.info()"
      ],
      "execution_count": null,
      "outputs": [
        {
          "output_type": "stream",
          "text": [
            "<class 'pandas.core.frame.DataFrame'>\n",
            "RangeIndex: 26457 entries, 0 to 26456\n",
            "Data columns (total 20 columns):\n",
            " #   Column         Non-Null Count  Dtype  \n",
            "---  ------         --------------  -----  \n",
            " 0   index          26457 non-null  int64  \n",
            " 1   gender         26457 non-null  object \n",
            " 2   car            26457 non-null  object \n",
            " 3   reality        26457 non-null  object \n",
            " 4   child_num      26457 non-null  int64  \n",
            " 5   income_total   26457 non-null  float64\n",
            " 6   income_type    26457 non-null  object \n",
            " 7   edu_type       26457 non-null  object \n",
            " 8   family_type    26457 non-null  object \n",
            " 9   house_type     26457 non-null  object \n",
            " 10  DAYS_BIRTH     26457 non-null  int64  \n",
            " 11  DAYS_EMPLOYED  26457 non-null  int64  \n",
            " 12  FLAG_MOBIL     26457 non-null  int64  \n",
            " 13  work_phone     26457 non-null  int64  \n",
            " 14  phone          26457 non-null  int64  \n",
            " 15  email          26457 non-null  int64  \n",
            " 16  occyp_type     18286 non-null  object \n",
            " 17  family_size    26457 non-null  float64\n",
            " 18  begin_month    26457 non-null  float64\n",
            " 19  credit         26457 non-null  float64\n",
            "dtypes: float64(4), int64(8), object(8)\n",
            "memory usage: 4.0+ MB\n"
          ],
          "name": "stdout"
        }
      ]
    },
    {
      "cell_type": "markdown",
      "metadata": {
        "id": "FdiFC9j5vdkc"
      },
      "source": [
        "#### pd.DataFrame.select_dtypes(include=[ ])"
      ]
    },
    {
      "cell_type": "markdown",
      "metadata": {
        "id": "GenYP0z_lLjP"
      },
      "source": [
        "- object: 문자열\n",
        "- int64, float64: 정수, 실수"
      ]
    },
    {
      "cell_type": "code",
      "metadata": {
        "colab": {
          "base_uri": "https://localhost:8080/",
          "height": 595
        },
        "id": "q4roPSAJhNEw",
        "outputId": "2cdcc8d9-d3a9-4f6f-aba2-fb2fc33f44f3"
      },
      "source": [
        "train.select_dtypes(include=['object'])"
      ],
      "execution_count": null,
      "outputs": [
        {
          "output_type": "execute_result",
          "data": {
            "text/html": [
              "<div>\n",
              "<style scoped>\n",
              "    .dataframe tbody tr th:only-of-type {\n",
              "        vertical-align: middle;\n",
              "    }\n",
              "\n",
              "    .dataframe tbody tr th {\n",
              "        vertical-align: top;\n",
              "    }\n",
              "\n",
              "    .dataframe thead th {\n",
              "        text-align: right;\n",
              "    }\n",
              "</style>\n",
              "<table border=\"1\" class=\"dataframe\">\n",
              "  <thead>\n",
              "    <tr style=\"text-align: right;\">\n",
              "      <th></th>\n",
              "      <th>gender</th>\n",
              "      <th>car</th>\n",
              "      <th>reality</th>\n",
              "      <th>income_type</th>\n",
              "      <th>edu_type</th>\n",
              "      <th>family_type</th>\n",
              "      <th>house_type</th>\n",
              "      <th>occyp_type</th>\n",
              "    </tr>\n",
              "  </thead>\n",
              "  <tbody>\n",
              "    <tr>\n",
              "      <th>0</th>\n",
              "      <td>F</td>\n",
              "      <td>N</td>\n",
              "      <td>N</td>\n",
              "      <td>Commercial associate</td>\n",
              "      <td>Higher education</td>\n",
              "      <td>Married</td>\n",
              "      <td>Municipal apartment</td>\n",
              "      <td>NaN</td>\n",
              "    </tr>\n",
              "    <tr>\n",
              "      <th>1</th>\n",
              "      <td>F</td>\n",
              "      <td>N</td>\n",
              "      <td>Y</td>\n",
              "      <td>Commercial associate</td>\n",
              "      <td>Secondary / secondary special</td>\n",
              "      <td>Civil marriage</td>\n",
              "      <td>House / apartment</td>\n",
              "      <td>Laborers</td>\n",
              "    </tr>\n",
              "    <tr>\n",
              "      <th>2</th>\n",
              "      <td>M</td>\n",
              "      <td>Y</td>\n",
              "      <td>Y</td>\n",
              "      <td>Working</td>\n",
              "      <td>Higher education</td>\n",
              "      <td>Married</td>\n",
              "      <td>House / apartment</td>\n",
              "      <td>Managers</td>\n",
              "    </tr>\n",
              "    <tr>\n",
              "      <th>3</th>\n",
              "      <td>F</td>\n",
              "      <td>N</td>\n",
              "      <td>Y</td>\n",
              "      <td>Commercial associate</td>\n",
              "      <td>Secondary / secondary special</td>\n",
              "      <td>Married</td>\n",
              "      <td>House / apartment</td>\n",
              "      <td>Sales staff</td>\n",
              "    </tr>\n",
              "    <tr>\n",
              "      <th>4</th>\n",
              "      <td>F</td>\n",
              "      <td>Y</td>\n",
              "      <td>Y</td>\n",
              "      <td>State servant</td>\n",
              "      <td>Higher education</td>\n",
              "      <td>Married</td>\n",
              "      <td>House / apartment</td>\n",
              "      <td>Managers</td>\n",
              "    </tr>\n",
              "    <tr>\n",
              "      <th>...</th>\n",
              "      <td>...</td>\n",
              "      <td>...</td>\n",
              "      <td>...</td>\n",
              "      <td>...</td>\n",
              "      <td>...</td>\n",
              "      <td>...</td>\n",
              "      <td>...</td>\n",
              "      <td>...</td>\n",
              "    </tr>\n",
              "    <tr>\n",
              "      <th>26452</th>\n",
              "      <td>F</td>\n",
              "      <td>N</td>\n",
              "      <td>N</td>\n",
              "      <td>State servant</td>\n",
              "      <td>Secondary / secondary special</td>\n",
              "      <td>Married</td>\n",
              "      <td>House / apartment</td>\n",
              "      <td>Core staff</td>\n",
              "    </tr>\n",
              "    <tr>\n",
              "      <th>26453</th>\n",
              "      <td>F</td>\n",
              "      <td>N</td>\n",
              "      <td>Y</td>\n",
              "      <td>Working</td>\n",
              "      <td>Higher education</td>\n",
              "      <td>Separated</td>\n",
              "      <td>House / apartment</td>\n",
              "      <td>NaN</td>\n",
              "    </tr>\n",
              "    <tr>\n",
              "      <th>26454</th>\n",
              "      <td>F</td>\n",
              "      <td>Y</td>\n",
              "      <td>N</td>\n",
              "      <td>Working</td>\n",
              "      <td>Secondary / secondary special</td>\n",
              "      <td>Civil marriage</td>\n",
              "      <td>With parents</td>\n",
              "      <td>Core staff</td>\n",
              "    </tr>\n",
              "    <tr>\n",
              "      <th>26455</th>\n",
              "      <td>M</td>\n",
              "      <td>N</td>\n",
              "      <td>Y</td>\n",
              "      <td>Working</td>\n",
              "      <td>Incomplete higher</td>\n",
              "      <td>Single / not married</td>\n",
              "      <td>House / apartment</td>\n",
              "      <td>Laborers</td>\n",
              "    </tr>\n",
              "    <tr>\n",
              "      <th>26456</th>\n",
              "      <td>F</td>\n",
              "      <td>N</td>\n",
              "      <td>N</td>\n",
              "      <td>Working</td>\n",
              "      <td>Secondary / secondary special</td>\n",
              "      <td>Civil marriage</td>\n",
              "      <td>House / apartment</td>\n",
              "      <td>Security staff</td>\n",
              "    </tr>\n",
              "  </tbody>\n",
              "</table>\n",
              "<p>26457 rows × 8 columns</p>\n",
              "</div>"
            ],
            "text/plain": [
              "      gender car  ...           house_type      occyp_type\n",
              "0          F   N  ...  Municipal apartment             NaN\n",
              "1          F   N  ...    House / apartment        Laborers\n",
              "2          M   Y  ...    House / apartment        Managers\n",
              "3          F   N  ...    House / apartment     Sales staff\n",
              "4          F   Y  ...    House / apartment        Managers\n",
              "...      ...  ..  ...                  ...             ...\n",
              "26452      F   N  ...    House / apartment      Core staff\n",
              "26453      F   N  ...    House / apartment             NaN\n",
              "26454      F   Y  ...         With parents      Core staff\n",
              "26455      M   N  ...    House / apartment        Laborers\n",
              "26456      F   N  ...    House / apartment  Security staff\n",
              "\n",
              "[26457 rows x 8 columns]"
            ]
          },
          "metadata": {
            "tags": []
          },
          "execution_count": 28
        }
      ]
    },
    {
      "cell_type": "code",
      "metadata": {
        "colab": {
          "base_uri": "https://localhost:8080/",
          "height": 442
        },
        "id": "HIwgR7qQlE-C",
        "outputId": "515cce61-c5e8-4f0e-8b3d-dd43f6372ad0"
      },
      "source": [
        "train.select_dtypes(include=['int64', 'float64'])"
      ],
      "execution_count": null,
      "outputs": [
        {
          "output_type": "execute_result",
          "data": {
            "text/html": [
              "<div>\n",
              "<style scoped>\n",
              "    .dataframe tbody tr th:only-of-type {\n",
              "        vertical-align: middle;\n",
              "    }\n",
              "\n",
              "    .dataframe tbody tr th {\n",
              "        vertical-align: top;\n",
              "    }\n",
              "\n",
              "    .dataframe thead th {\n",
              "        text-align: right;\n",
              "    }\n",
              "</style>\n",
              "<table border=\"1\" class=\"dataframe\">\n",
              "  <thead>\n",
              "    <tr style=\"text-align: right;\">\n",
              "      <th></th>\n",
              "      <th>index</th>\n",
              "      <th>child_num</th>\n",
              "      <th>income_total</th>\n",
              "      <th>DAYS_BIRTH</th>\n",
              "      <th>DAYS_EMPLOYED</th>\n",
              "      <th>FLAG_MOBIL</th>\n",
              "      <th>work_phone</th>\n",
              "      <th>phone</th>\n",
              "      <th>email</th>\n",
              "      <th>family_size</th>\n",
              "      <th>begin_month</th>\n",
              "      <th>credit</th>\n",
              "    </tr>\n",
              "  </thead>\n",
              "  <tbody>\n",
              "    <tr>\n",
              "      <th>0</th>\n",
              "      <td>0</td>\n",
              "      <td>0</td>\n",
              "      <td>202500.0</td>\n",
              "      <td>-13899</td>\n",
              "      <td>-4709</td>\n",
              "      <td>1</td>\n",
              "      <td>0</td>\n",
              "      <td>0</td>\n",
              "      <td>0</td>\n",
              "      <td>2.0</td>\n",
              "      <td>-6.0</td>\n",
              "      <td>1.0</td>\n",
              "    </tr>\n",
              "    <tr>\n",
              "      <th>1</th>\n",
              "      <td>1</td>\n",
              "      <td>1</td>\n",
              "      <td>247500.0</td>\n",
              "      <td>-11380</td>\n",
              "      <td>-1540</td>\n",
              "      <td>1</td>\n",
              "      <td>0</td>\n",
              "      <td>0</td>\n",
              "      <td>1</td>\n",
              "      <td>3.0</td>\n",
              "      <td>-5.0</td>\n",
              "      <td>1.0</td>\n",
              "    </tr>\n",
              "    <tr>\n",
              "      <th>2</th>\n",
              "      <td>2</td>\n",
              "      <td>0</td>\n",
              "      <td>450000.0</td>\n",
              "      <td>-19087</td>\n",
              "      <td>-4434</td>\n",
              "      <td>1</td>\n",
              "      <td>0</td>\n",
              "      <td>1</td>\n",
              "      <td>0</td>\n",
              "      <td>2.0</td>\n",
              "      <td>-22.0</td>\n",
              "      <td>2.0</td>\n",
              "    </tr>\n",
              "    <tr>\n",
              "      <th>3</th>\n",
              "      <td>3</td>\n",
              "      <td>0</td>\n",
              "      <td>202500.0</td>\n",
              "      <td>-15088</td>\n",
              "      <td>-2092</td>\n",
              "      <td>1</td>\n",
              "      <td>0</td>\n",
              "      <td>1</td>\n",
              "      <td>0</td>\n",
              "      <td>2.0</td>\n",
              "      <td>-37.0</td>\n",
              "      <td>0.0</td>\n",
              "    </tr>\n",
              "    <tr>\n",
              "      <th>4</th>\n",
              "      <td>4</td>\n",
              "      <td>0</td>\n",
              "      <td>157500.0</td>\n",
              "      <td>-15037</td>\n",
              "      <td>-2105</td>\n",
              "      <td>1</td>\n",
              "      <td>0</td>\n",
              "      <td>0</td>\n",
              "      <td>0</td>\n",
              "      <td>2.0</td>\n",
              "      <td>-26.0</td>\n",
              "      <td>2.0</td>\n",
              "    </tr>\n",
              "    <tr>\n",
              "      <th>...</th>\n",
              "      <td>...</td>\n",
              "      <td>...</td>\n",
              "      <td>...</td>\n",
              "      <td>...</td>\n",
              "      <td>...</td>\n",
              "      <td>...</td>\n",
              "      <td>...</td>\n",
              "      <td>...</td>\n",
              "      <td>...</td>\n",
              "      <td>...</td>\n",
              "      <td>...</td>\n",
              "      <td>...</td>\n",
              "    </tr>\n",
              "    <tr>\n",
              "      <th>26452</th>\n",
              "      <td>26452</td>\n",
              "      <td>2</td>\n",
              "      <td>225000.0</td>\n",
              "      <td>-12079</td>\n",
              "      <td>-1984</td>\n",
              "      <td>1</td>\n",
              "      <td>0</td>\n",
              "      <td>0</td>\n",
              "      <td>0</td>\n",
              "      <td>4.0</td>\n",
              "      <td>-2.0</td>\n",
              "      <td>1.0</td>\n",
              "    </tr>\n",
              "    <tr>\n",
              "      <th>26453</th>\n",
              "      <td>26453</td>\n",
              "      <td>1</td>\n",
              "      <td>180000.0</td>\n",
              "      <td>-15291</td>\n",
              "      <td>-2475</td>\n",
              "      <td>1</td>\n",
              "      <td>0</td>\n",
              "      <td>0</td>\n",
              "      <td>0</td>\n",
              "      <td>2.0</td>\n",
              "      <td>-47.0</td>\n",
              "      <td>2.0</td>\n",
              "    </tr>\n",
              "    <tr>\n",
              "      <th>26454</th>\n",
              "      <td>26454</td>\n",
              "      <td>0</td>\n",
              "      <td>292500.0</td>\n",
              "      <td>-10082</td>\n",
              "      <td>-2015</td>\n",
              "      <td>1</td>\n",
              "      <td>0</td>\n",
              "      <td>0</td>\n",
              "      <td>0</td>\n",
              "      <td>2.0</td>\n",
              "      <td>-25.0</td>\n",
              "      <td>2.0</td>\n",
              "    </tr>\n",
              "    <tr>\n",
              "      <th>26455</th>\n",
              "      <td>26455</td>\n",
              "      <td>0</td>\n",
              "      <td>171000.0</td>\n",
              "      <td>-10145</td>\n",
              "      <td>-107</td>\n",
              "      <td>1</td>\n",
              "      <td>0</td>\n",
              "      <td>0</td>\n",
              "      <td>0</td>\n",
              "      <td>1.0</td>\n",
              "      <td>-59.0</td>\n",
              "      <td>2.0</td>\n",
              "    </tr>\n",
              "    <tr>\n",
              "      <th>26456</th>\n",
              "      <td>26456</td>\n",
              "      <td>0</td>\n",
              "      <td>81000.0</td>\n",
              "      <td>-19569</td>\n",
              "      <td>-1013</td>\n",
              "      <td>1</td>\n",
              "      <td>0</td>\n",
              "      <td>0</td>\n",
              "      <td>0</td>\n",
              "      <td>2.0</td>\n",
              "      <td>-9.0</td>\n",
              "      <td>2.0</td>\n",
              "    </tr>\n",
              "  </tbody>\n",
              "</table>\n",
              "<p>26457 rows × 12 columns</p>\n",
              "</div>"
            ],
            "text/plain": [
              "       index  child_num  income_total  ...  family_size  begin_month  credit\n",
              "0          0          0      202500.0  ...          2.0         -6.0     1.0\n",
              "1          1          1      247500.0  ...          3.0         -5.0     1.0\n",
              "2          2          0      450000.0  ...          2.0        -22.0     2.0\n",
              "3          3          0      202500.0  ...          2.0        -37.0     0.0\n",
              "4          4          0      157500.0  ...          2.0        -26.0     2.0\n",
              "...      ...        ...           ...  ...          ...          ...     ...\n",
              "26452  26452          2      225000.0  ...          4.0         -2.0     1.0\n",
              "26453  26453          1      180000.0  ...          2.0        -47.0     2.0\n",
              "26454  26454          0      292500.0  ...          2.0        -25.0     2.0\n",
              "26455  26455          0      171000.0  ...          1.0        -59.0     2.0\n",
              "26456  26456          0       81000.0  ...          2.0         -9.0     2.0\n",
              "\n",
              "[26457 rows x 12 columns]"
            ]
          },
          "metadata": {
            "tags": []
          },
          "execution_count": 29
        }
      ]
    },
    {
      "cell_type": "markdown",
      "metadata": {
        "id": "72T5cYGo3NA-"
      },
      "source": [
        "#### pd.DataFrame.groupby()"
      ]
    },
    {
      "cell_type": "code",
      "metadata": {
        "colab": {
          "base_uri": "https://localhost:8080/",
          "height": 644
        },
        "id": "vXVqTLgavx-C",
        "outputId": "aed44f70-d0a3-4971-d27c-8cf3db5e2ce3"
      },
      "source": [
        "train[['occyp_type', 'credit']].groupby(['occyp_type']).mean().sort_values(by='credit')"
      ],
      "execution_count": null,
      "outputs": [
        {
          "output_type": "execute_result",
          "data": {
            "text/html": [
              "<div>\n",
              "<style scoped>\n",
              "    .dataframe tbody tr th:only-of-type {\n",
              "        vertical-align: middle;\n",
              "    }\n",
              "\n",
              "    .dataframe tbody tr th {\n",
              "        vertical-align: top;\n",
              "    }\n",
              "\n",
              "    .dataframe thead th {\n",
              "        text-align: right;\n",
              "    }\n",
              "</style>\n",
              "<table border=\"1\" class=\"dataframe\">\n",
              "  <thead>\n",
              "    <tr style=\"text-align: right;\">\n",
              "      <th></th>\n",
              "      <th>credit</th>\n",
              "    </tr>\n",
              "    <tr>\n",
              "      <th>occyp_type</th>\n",
              "      <th></th>\n",
              "    </tr>\n",
              "  </thead>\n",
              "  <tbody>\n",
              "    <tr>\n",
              "      <th>IT staff</th>\n",
              "      <td>1.365854</td>\n",
              "    </tr>\n",
              "    <tr>\n",
              "      <th>Waiters/barmen staff</th>\n",
              "      <td>1.435484</td>\n",
              "    </tr>\n",
              "    <tr>\n",
              "      <th>Private service staff</th>\n",
              "      <td>1.485597</td>\n",
              "    </tr>\n",
              "    <tr>\n",
              "      <th>Accountants</th>\n",
              "      <td>1.486696</td>\n",
              "    </tr>\n",
              "    <tr>\n",
              "      <th>Low-skill Laborers</th>\n",
              "      <td>1.488189</td>\n",
              "    </tr>\n",
              "    <tr>\n",
              "      <th>Secretaries</th>\n",
              "      <td>1.494845</td>\n",
              "    </tr>\n",
              "    <tr>\n",
              "      <th>Laborers</th>\n",
              "      <td>1.500443</td>\n",
              "    </tr>\n",
              "    <tr>\n",
              "      <th>Core staff</th>\n",
              "      <td>1.502646</td>\n",
              "    </tr>\n",
              "    <tr>\n",
              "      <th>High skill tech staff</th>\n",
              "      <td>1.503846</td>\n",
              "    </tr>\n",
              "    <tr>\n",
              "      <th>Cooking staff</th>\n",
              "      <td>1.505470</td>\n",
              "    </tr>\n",
              "    <tr>\n",
              "      <th>Sales staff</th>\n",
              "      <td>1.513194</td>\n",
              "    </tr>\n",
              "    <tr>\n",
              "      <th>Managers</th>\n",
              "      <td>1.530226</td>\n",
              "    </tr>\n",
              "    <tr>\n",
              "      <th>Drivers</th>\n",
              "      <td>1.535238</td>\n",
              "    </tr>\n",
              "    <tr>\n",
              "      <th>Realty agents</th>\n",
              "      <td>1.539683</td>\n",
              "    </tr>\n",
              "    <tr>\n",
              "      <th>Cleaning staff</th>\n",
              "      <td>1.570720</td>\n",
              "    </tr>\n",
              "    <tr>\n",
              "      <th>Medicine staff</th>\n",
              "      <td>1.586806</td>\n",
              "    </tr>\n",
              "    <tr>\n",
              "      <th>Security staff</th>\n",
              "      <td>1.608491</td>\n",
              "    </tr>\n",
              "    <tr>\n",
              "      <th>HR staff</th>\n",
              "      <td>1.709677</td>\n",
              "    </tr>\n",
              "  </tbody>\n",
              "</table>\n",
              "</div>"
            ],
            "text/plain": [
              "                         credit\n",
              "occyp_type                     \n",
              "IT staff               1.365854\n",
              "Waiters/barmen staff   1.435484\n",
              "Private service staff  1.485597\n",
              "Accountants            1.486696\n",
              "Low-skill Laborers     1.488189\n",
              "Secretaries            1.494845\n",
              "Laborers               1.500443\n",
              "Core staff             1.502646\n",
              "High skill tech staff  1.503846\n",
              "Cooking staff          1.505470\n",
              "Sales staff            1.513194\n",
              "Managers               1.530226\n",
              "Drivers                1.535238\n",
              "Realty agents          1.539683\n",
              "Cleaning staff         1.570720\n",
              "Medicine staff         1.586806\n",
              "Security staff         1.608491\n",
              "HR staff               1.709677"
            ]
          },
          "metadata": {
            "tags": []
          },
          "execution_count": 30
        }
      ]
    },
    {
      "cell_type": "markdown",
      "metadata": {
        "id": "XAwfVs2nk0MI"
      },
      "source": [
        "Q. edu_type 범주별 credit의 평균을 오름차순으로 나렬하시오."
      ]
    },
    {
      "cell_type": "code",
      "metadata": {
        "id": "JTJJp2zrkzfo"
      },
      "source": [
        ""
      ],
      "execution_count": null,
      "outputs": []
    },
    {
      "cell_type": "markdown",
      "metadata": {
        "id": "-68Vc5fQ3Qxd"
      },
      "source": [
        "#### pd.DataFrame.agg()"
      ]
    },
    {
      "cell_type": "code",
      "metadata": {
        "colab": {
          "base_uri": "https://localhost:8080/",
          "height": 644
        },
        "id": "6C4unaOSw6Qe",
        "outputId": "7116b1d8-4be2-4490-855e-3800f4c5f903"
      },
      "source": [
        "train[['occyp_type', 'credit']].groupby(['occyp_type']).agg(['mean', 'count', 'min', 'max']).droplevel(level=0, axis=1)"
      ],
      "execution_count": null,
      "outputs": [
        {
          "output_type": "execute_result",
          "data": {
            "text/html": [
              "<div>\n",
              "<style scoped>\n",
              "    .dataframe tbody tr th:only-of-type {\n",
              "        vertical-align: middle;\n",
              "    }\n",
              "\n",
              "    .dataframe tbody tr th {\n",
              "        vertical-align: top;\n",
              "    }\n",
              "\n",
              "    .dataframe thead th {\n",
              "        text-align: right;\n",
              "    }\n",
              "</style>\n",
              "<table border=\"1\" class=\"dataframe\">\n",
              "  <thead>\n",
              "    <tr style=\"text-align: right;\">\n",
              "      <th></th>\n",
              "      <th>mean</th>\n",
              "      <th>count</th>\n",
              "      <th>min</th>\n",
              "      <th>max</th>\n",
              "    </tr>\n",
              "    <tr>\n",
              "      <th>occyp_type</th>\n",
              "      <th></th>\n",
              "      <th></th>\n",
              "      <th></th>\n",
              "      <th></th>\n",
              "    </tr>\n",
              "  </thead>\n",
              "  <tbody>\n",
              "    <tr>\n",
              "      <th>Accountants</th>\n",
              "      <td>1.486696</td>\n",
              "      <td>902</td>\n",
              "      <td>0.0</td>\n",
              "      <td>2.0</td>\n",
              "    </tr>\n",
              "    <tr>\n",
              "      <th>Cleaning staff</th>\n",
              "      <td>1.570720</td>\n",
              "      <td>403</td>\n",
              "      <td>0.0</td>\n",
              "      <td>2.0</td>\n",
              "    </tr>\n",
              "    <tr>\n",
              "      <th>Cooking staff</th>\n",
              "      <td>1.505470</td>\n",
              "      <td>457</td>\n",
              "      <td>0.0</td>\n",
              "      <td>2.0</td>\n",
              "    </tr>\n",
              "    <tr>\n",
              "      <th>Core staff</th>\n",
              "      <td>1.502646</td>\n",
              "      <td>2646</td>\n",
              "      <td>0.0</td>\n",
              "      <td>2.0</td>\n",
              "    </tr>\n",
              "    <tr>\n",
              "      <th>Drivers</th>\n",
              "      <td>1.535238</td>\n",
              "      <td>1575</td>\n",
              "      <td>0.0</td>\n",
              "      <td>2.0</td>\n",
              "    </tr>\n",
              "    <tr>\n",
              "      <th>HR staff</th>\n",
              "      <td>1.709677</td>\n",
              "      <td>62</td>\n",
              "      <td>0.0</td>\n",
              "      <td>2.0</td>\n",
              "    </tr>\n",
              "    <tr>\n",
              "      <th>High skill tech staff</th>\n",
              "      <td>1.503846</td>\n",
              "      <td>1040</td>\n",
              "      <td>0.0</td>\n",
              "      <td>2.0</td>\n",
              "    </tr>\n",
              "    <tr>\n",
              "      <th>IT staff</th>\n",
              "      <td>1.365854</td>\n",
              "      <td>41</td>\n",
              "      <td>0.0</td>\n",
              "      <td>2.0</td>\n",
              "    </tr>\n",
              "    <tr>\n",
              "      <th>Laborers</th>\n",
              "      <td>1.500443</td>\n",
              "      <td>4512</td>\n",
              "      <td>0.0</td>\n",
              "      <td>2.0</td>\n",
              "    </tr>\n",
              "    <tr>\n",
              "      <th>Low-skill Laborers</th>\n",
              "      <td>1.488189</td>\n",
              "      <td>127</td>\n",
              "      <td>0.0</td>\n",
              "      <td>2.0</td>\n",
              "    </tr>\n",
              "    <tr>\n",
              "      <th>Managers</th>\n",
              "      <td>1.530226</td>\n",
              "      <td>2167</td>\n",
              "      <td>0.0</td>\n",
              "      <td>2.0</td>\n",
              "    </tr>\n",
              "    <tr>\n",
              "      <th>Medicine staff</th>\n",
              "      <td>1.586806</td>\n",
              "      <td>864</td>\n",
              "      <td>0.0</td>\n",
              "      <td>2.0</td>\n",
              "    </tr>\n",
              "    <tr>\n",
              "      <th>Private service staff</th>\n",
              "      <td>1.485597</td>\n",
              "      <td>243</td>\n",
              "      <td>0.0</td>\n",
              "      <td>2.0</td>\n",
              "    </tr>\n",
              "    <tr>\n",
              "      <th>Realty agents</th>\n",
              "      <td>1.539683</td>\n",
              "      <td>63</td>\n",
              "      <td>0.0</td>\n",
              "      <td>2.0</td>\n",
              "    </tr>\n",
              "    <tr>\n",
              "      <th>Sales staff</th>\n",
              "      <td>1.513194</td>\n",
              "      <td>2539</td>\n",
              "      <td>0.0</td>\n",
              "      <td>2.0</td>\n",
              "    </tr>\n",
              "    <tr>\n",
              "      <th>Secretaries</th>\n",
              "      <td>1.494845</td>\n",
              "      <td>97</td>\n",
              "      <td>0.0</td>\n",
              "      <td>2.0</td>\n",
              "    </tr>\n",
              "    <tr>\n",
              "      <th>Security staff</th>\n",
              "      <td>1.608491</td>\n",
              "      <td>424</td>\n",
              "      <td>0.0</td>\n",
              "      <td>2.0</td>\n",
              "    </tr>\n",
              "    <tr>\n",
              "      <th>Waiters/barmen staff</th>\n",
              "      <td>1.435484</td>\n",
              "      <td>124</td>\n",
              "      <td>0.0</td>\n",
              "      <td>2.0</td>\n",
              "    </tr>\n",
              "  </tbody>\n",
              "</table>\n",
              "</div>"
            ],
            "text/plain": [
              "                           mean  count  min  max\n",
              "occyp_type                                      \n",
              "Accountants            1.486696    902  0.0  2.0\n",
              "Cleaning staff         1.570720    403  0.0  2.0\n",
              "Cooking staff          1.505470    457  0.0  2.0\n",
              "Core staff             1.502646   2646  0.0  2.0\n",
              "Drivers                1.535238   1575  0.0  2.0\n",
              "HR staff               1.709677     62  0.0  2.0\n",
              "High skill tech staff  1.503846   1040  0.0  2.0\n",
              "IT staff               1.365854     41  0.0  2.0\n",
              "Laborers               1.500443   4512  0.0  2.0\n",
              "Low-skill Laborers     1.488189    127  0.0  2.0\n",
              "Managers               1.530226   2167  0.0  2.0\n",
              "Medicine staff         1.586806    864  0.0  2.0\n",
              "Private service staff  1.485597    243  0.0  2.0\n",
              "Realty agents          1.539683     63  0.0  2.0\n",
              "Sales staff            1.513194   2539  0.0  2.0\n",
              "Secretaries            1.494845     97  0.0  2.0\n",
              "Security staff         1.608491    424  0.0  2.0\n",
              "Waiters/barmen staff   1.435484    124  0.0  2.0"
            ]
          },
          "metadata": {
            "tags": []
          },
          "execution_count": 31
        }
      ]
    },
    {
      "cell_type": "markdown",
      "metadata": {
        "id": "JcO5N6hEAP7G"
      },
      "source": [
        "#### pd.DataFrame.describe()"
      ]
    },
    {
      "cell_type": "code",
      "metadata": {
        "id": "xqcP_IGfXw_3",
        "colab": {
          "base_uri": "https://localhost:8080/",
          "height": 319
        },
        "outputId": "c5ec1863-8545-45e8-8477-fda5c9358888"
      },
      "source": [
        "train.describe()"
      ],
      "execution_count": null,
      "outputs": [
        {
          "output_type": "execute_result",
          "data": {
            "text/html": [
              "<div>\n",
              "<style scoped>\n",
              "    .dataframe tbody tr th:only-of-type {\n",
              "        vertical-align: middle;\n",
              "    }\n",
              "\n",
              "    .dataframe tbody tr th {\n",
              "        vertical-align: top;\n",
              "    }\n",
              "\n",
              "    .dataframe thead th {\n",
              "        text-align: right;\n",
              "    }\n",
              "</style>\n",
              "<table border=\"1\" class=\"dataframe\">\n",
              "  <thead>\n",
              "    <tr style=\"text-align: right;\">\n",
              "      <th></th>\n",
              "      <th>index</th>\n",
              "      <th>child_num</th>\n",
              "      <th>income_total</th>\n",
              "      <th>DAYS_BIRTH</th>\n",
              "      <th>DAYS_EMPLOYED</th>\n",
              "      <th>FLAG_MOBIL</th>\n",
              "      <th>work_phone</th>\n",
              "      <th>phone</th>\n",
              "      <th>email</th>\n",
              "      <th>family_size</th>\n",
              "      <th>begin_month</th>\n",
              "      <th>credit</th>\n",
              "    </tr>\n",
              "  </thead>\n",
              "  <tbody>\n",
              "    <tr>\n",
              "      <th>count</th>\n",
              "      <td>26457.000000</td>\n",
              "      <td>26457.000000</td>\n",
              "      <td>2.645700e+04</td>\n",
              "      <td>26457.000000</td>\n",
              "      <td>26457.000000</td>\n",
              "      <td>26457.0</td>\n",
              "      <td>26457.000000</td>\n",
              "      <td>26457.000000</td>\n",
              "      <td>26457.000000</td>\n",
              "      <td>26457.000000</td>\n",
              "      <td>26457.000000</td>\n",
              "      <td>26457.000000</td>\n",
              "    </tr>\n",
              "    <tr>\n",
              "      <th>mean</th>\n",
              "      <td>13228.000000</td>\n",
              "      <td>0.428658</td>\n",
              "      <td>1.873065e+05</td>\n",
              "      <td>-15958.053899</td>\n",
              "      <td>59068.750728</td>\n",
              "      <td>1.0</td>\n",
              "      <td>0.224742</td>\n",
              "      <td>0.294251</td>\n",
              "      <td>0.091280</td>\n",
              "      <td>2.196848</td>\n",
              "      <td>-26.123294</td>\n",
              "      <td>1.519560</td>\n",
              "    </tr>\n",
              "    <tr>\n",
              "      <th>std</th>\n",
              "      <td>7637.622372</td>\n",
              "      <td>0.747326</td>\n",
              "      <td>1.018784e+05</td>\n",
              "      <td>4201.589022</td>\n",
              "      <td>137475.427503</td>\n",
              "      <td>0.0</td>\n",
              "      <td>0.417420</td>\n",
              "      <td>0.455714</td>\n",
              "      <td>0.288013</td>\n",
              "      <td>0.916717</td>\n",
              "      <td>16.559550</td>\n",
              "      <td>0.702283</td>\n",
              "    </tr>\n",
              "    <tr>\n",
              "      <th>min</th>\n",
              "      <td>0.000000</td>\n",
              "      <td>0.000000</td>\n",
              "      <td>2.700000e+04</td>\n",
              "      <td>-25152.000000</td>\n",
              "      <td>-15713.000000</td>\n",
              "      <td>1.0</td>\n",
              "      <td>0.000000</td>\n",
              "      <td>0.000000</td>\n",
              "      <td>0.000000</td>\n",
              "      <td>1.000000</td>\n",
              "      <td>-60.000000</td>\n",
              "      <td>0.000000</td>\n",
              "    </tr>\n",
              "    <tr>\n",
              "      <th>25%</th>\n",
              "      <td>6614.000000</td>\n",
              "      <td>0.000000</td>\n",
              "      <td>1.215000e+05</td>\n",
              "      <td>-19431.000000</td>\n",
              "      <td>-3153.000000</td>\n",
              "      <td>1.0</td>\n",
              "      <td>0.000000</td>\n",
              "      <td>0.000000</td>\n",
              "      <td>0.000000</td>\n",
              "      <td>2.000000</td>\n",
              "      <td>-39.000000</td>\n",
              "      <td>1.000000</td>\n",
              "    </tr>\n",
              "    <tr>\n",
              "      <th>50%</th>\n",
              "      <td>13228.000000</td>\n",
              "      <td>0.000000</td>\n",
              "      <td>1.575000e+05</td>\n",
              "      <td>-15547.000000</td>\n",
              "      <td>-1539.000000</td>\n",
              "      <td>1.0</td>\n",
              "      <td>0.000000</td>\n",
              "      <td>0.000000</td>\n",
              "      <td>0.000000</td>\n",
              "      <td>2.000000</td>\n",
              "      <td>-24.000000</td>\n",
              "      <td>2.000000</td>\n",
              "    </tr>\n",
              "    <tr>\n",
              "      <th>75%</th>\n",
              "      <td>19842.000000</td>\n",
              "      <td>1.000000</td>\n",
              "      <td>2.250000e+05</td>\n",
              "      <td>-12446.000000</td>\n",
              "      <td>-407.000000</td>\n",
              "      <td>1.0</td>\n",
              "      <td>0.000000</td>\n",
              "      <td>1.000000</td>\n",
              "      <td>0.000000</td>\n",
              "      <td>3.000000</td>\n",
              "      <td>-12.000000</td>\n",
              "      <td>2.000000</td>\n",
              "    </tr>\n",
              "    <tr>\n",
              "      <th>max</th>\n",
              "      <td>26456.000000</td>\n",
              "      <td>19.000000</td>\n",
              "      <td>1.575000e+06</td>\n",
              "      <td>-7705.000000</td>\n",
              "      <td>365243.000000</td>\n",
              "      <td>1.0</td>\n",
              "      <td>1.000000</td>\n",
              "      <td>1.000000</td>\n",
              "      <td>1.000000</td>\n",
              "      <td>20.000000</td>\n",
              "      <td>0.000000</td>\n",
              "      <td>2.000000</td>\n",
              "    </tr>\n",
              "  </tbody>\n",
              "</table>\n",
              "</div>"
            ],
            "text/plain": [
              "              index     child_num  ...   begin_month        credit\n",
              "count  26457.000000  26457.000000  ...  26457.000000  26457.000000\n",
              "mean   13228.000000      0.428658  ...    -26.123294      1.519560\n",
              "std     7637.622372      0.747326  ...     16.559550      0.702283\n",
              "min        0.000000      0.000000  ...    -60.000000      0.000000\n",
              "25%     6614.000000      0.000000  ...    -39.000000      1.000000\n",
              "50%    13228.000000      0.000000  ...    -24.000000      2.000000\n",
              "75%    19842.000000      1.000000  ...    -12.000000      2.000000\n",
              "max    26456.000000     19.000000  ...      0.000000      2.000000\n",
              "\n",
              "[8 rows x 12 columns]"
            ]
          },
          "metadata": {
            "tags": []
          },
          "execution_count": 32
        }
      ]
    },
    {
      "cell_type": "markdown",
      "metadata": {
        "id": "3Rp_rCW-lXY1"
      },
      "source": [
        "#### pd.DataFrame.plot()\n",
        "\n",
        "- pandas만 사용해서 기본적인 시각화 가능\n",
        "- 인사이트를 도출하기 위해 사용"
      ]
    },
    {
      "cell_type": "markdown",
      "metadata": {
        "id": "xxQm6H33VA0a"
      },
      "source": [
        "kind : str\n",
        "\n",
        "- `line` : line plot (default)\n",
        "- `bar` : vertical bar plot\n",
        "- `barh` : horizontal bar plot\n",
        "- `hist` : histogram\n",
        "- `box` : boxplot\n",
        "- `scatter` : scatter plot"
      ]
    },
    {
      "cell_type": "code",
      "metadata": {
        "colab": {
          "base_uri": "https://localhost:8080/",
          "height": 319
        },
        "id": "-VK46wnOubmm",
        "outputId": "104a5a9a-72ba-49bb-e975-401559a002c6"
      },
      "source": [
        "train.plot(x='child_num', y='credit', kind='scatter')"
      ],
      "execution_count": null,
      "outputs": [
        {
          "output_type": "execute_result",
          "data": {
            "text/plain": [
              "<matplotlib.axes._subplots.AxesSubplot at 0x7f2cf69e0e50>"
            ]
          },
          "metadata": {
            "tags": []
          },
          "execution_count": 33
        },
        {
          "output_type": "stream",
          "text": [
            "findfont: Font family ['NanumBarunGothic'] not found. Falling back to DejaVu Sans.\n"
          ],
          "name": "stderr"
        },
        {
          "output_type": "display_data",
          "data": {
            "image/png": "[encoded data removed]",
            "text/plain": [
              "<Figure size 432x288 with 1 Axes>"
            ]
          },
          "metadata": {
            "tags": [],
            "needs_background": "light"
          }
        }
      ]
    },
    {
      "cell_type": "code",
      "metadata": {
        "colab": {
          "base_uri": "https://localhost:8080/",
          "height": 299
        },
        "id": "HNfh88amxd8m",
        "outputId": "1c00e620-e176-4cac-ed9c-5b54f11ec6ee"
      },
      "source": [
        "train.plot(x='DAYS_EMPLOYED', y='DAYS_BIRTH', kind='scatter', alpha=0.2)"
      ],
      "execution_count": null,
      "outputs": [
        {
          "output_type": "execute_result",
          "data": {
            "text/plain": [
              "<matplotlib.axes._subplots.AxesSubplot at 0x7f2cf68c5590>"
            ]
          },
          "metadata": {
            "tags": []
          },
          "execution_count": 34
        },
        {
          "output_type": "display_data",
          "data": {
            "image/png": "[encoded data removed]",
            "text/plain": [
              "<Figure size 432x288 with 1 Axes>"
            ]
          },
          "metadata": {
            "tags": [],
            "needs_background": "light"
          }
        }
      ]
    },
    {
      "cell_type": "markdown",
      "metadata": {
        "id": "Vfu5JJNty1P7"
      },
      "source": [
        "- 데이터 탐색 과정에서 데이터에 대한 이해도 증가\n",
        "    - 위 예시에서는 이상치 발견\n",
        "\n",
        "- 도메인 지식이 없을 때는 모든 컬럼을 하나씩 탐색 하면서 인사이트 도출, 이상치 탐지, 실험 아이디어 기록을 하게 되서, 일반적으로 가장 많이 시간 투자하는 단계\n",
        "\n",
        "- 도메인 지식을 알고 있으면 효율적인 탐색 시작 위치를 알고 있기 때문에 탐색 시간이 줄어들 수 있음"
      ]
    },
    {
      "cell_type": "code",
      "metadata": {
        "colab": {
          "base_uri": "https://localhost:8080/",
          "height": 299
        },
        "id": "PMp6Zpeezaz-",
        "outputId": "98349d5d-0381-4721-feca-a91c0d1c6a90"
      },
      "source": [
        "train[train['DAYS_EMPLOYED'] < 0].plot(x='DAYS_EMPLOYED', y='DAYS_BIRTH', kind='scatter', alpha=0.01)"
      ],
      "execution_count": null,
      "outputs": [
        {
          "output_type": "execute_result",
          "data": {
            "text/plain": [
              "<matplotlib.axes._subplots.AxesSubplot at 0x7f2cf6421110>"
            ]
          },
          "metadata": {
            "tags": []
          },
          "execution_count": 35
        },
        {
          "output_type": "display_data",
          "data": {
            "image/png": "[encoded data removed]",
            "text/plain": [
              "<Figure size 432x288 with 1 Axes>"
            ]
          },
          "metadata": {
            "tags": [],
            "needs_background": "light"
          }
        }
      ]
    },
    {
      "cell_type": "code",
      "metadata": {
        "colab": {
          "base_uri": "https://localhost:8080/"
        },
        "id": "2PkiORymyESx",
        "outputId": "c3074cb1-d38f-44c8-f92f-3c14b6970c6f"
      },
      "source": [
        "train['DAYS_EMPLOYED'].describe()"
      ],
      "execution_count": null,
      "outputs": [
        {
          "output_type": "execute_result",
          "data": {
            "text/plain": [
              "count     26457.000000\n",
              "mean      59068.750728\n",
              "std      137475.427503\n",
              "min      -15713.000000\n",
              "25%       -3153.000000\n",
              "50%       -1539.000000\n",
              "75%        -407.000000\n",
              "max      365243.000000\n",
              "Name: DAYS_EMPLOYED, dtype: float64"
            ]
          },
          "metadata": {
            "tags": []
          },
          "execution_count": 36
        }
      ]
    },
    {
      "cell_type": "code",
      "metadata": {
        "colab": {
          "base_uri": "https://localhost:8080/"
        },
        "id": "s0Z8nvEbyWaw",
        "outputId": "d35c2e8f-9d10-49da-cf57-dd1928c6003d"
      },
      "source": [
        "train[train['DAYS_EMPLOYED'] > 0]['DAYS_EMPLOYED'].unique()"
      ],
      "execution_count": null,
      "outputs": [
        {
          "output_type": "execute_result",
          "data": {
            "text/plain": [
              "array([365243])"
            ]
          },
          "metadata": {
            "tags": []
          },
          "execution_count": 37
        }
      ]
    },
    {
      "cell_type": "markdown",
      "metadata": {
        "id": "xxRH1cOl1rdX"
      },
      "source": [
        "#### 튜토리얼 보면서, 본인 데이터에 적용해보기\n",
        "\n",
        "- 일반적으로 시각화를 할 때 다양한 기능을 외우는 것도 좋지만, 공식 문서를 함께 참조하여 사용합니다. \n",
        "- 시각화를 할 때 다양한 공개 문서를 참조하여 본인 데이터에 적용하는 방법을 실습해보겠습니다. \n",
        "- 함수가 입력받는 데이터 형태를 확인\n",
        "- [공개된 코드 예시](https://pandas.pydata.org/pandas-docs/stable/user_guide/visualization.html)\n"
      ]
    },
    {
      "cell_type": "code",
      "metadata": {
        "colab": {
          "base_uri": "https://localhost:8080/",
          "height": 280
        },
        "id": "uDCfcyz6Nxgr",
        "outputId": "de7868ca-d847-48e9-89c8-2e1c5fd47bd2"
      },
      "source": [
        "import numpy as np \n",
        "\n",
        "df2 = pd.DataFrame(np.random.rand(10, 4), columns=[\"a\", \"b\", \"c\", \"d\"])\n",
        "df2.plot.bar()"
      ],
      "execution_count": null,
      "outputs": [
        {
          "output_type": "execute_result",
          "data": {
            "text/plain": [
              "<matplotlib.axes._subplots.AxesSubplot at 0x7f2cf5981610>"
            ]
          },
          "metadata": {
            "tags": []
          },
          "execution_count": 38
        },
        {
          "output_type": "display_data",
          "data": {
            "image/png": "[encoded data removed]",
            "text/plain": [
              "<Figure size 432x288 with 1 Axes>"
            ]
          },
          "metadata": {
            "tags": [],
            "needs_background": "light"
          }
        }
      ]
    },
    {
      "cell_type": "code",
      "metadata": {
        "colab": {
          "base_uri": "https://localhost:8080/",
          "height": 362
        },
        "id": "PnL9bbDlOOIr",
        "outputId": "a1aaa2b3-68d9-4716-b0bf-439c600cf792"
      },
      "source": [
        "df2"
      ],
      "execution_count": null,
      "outputs": [
        {
          "output_type": "execute_result",
          "data": {
            "text/html": [
              "<div>\n",
              "<style scoped>\n",
              "    .dataframe tbody tr th:only-of-type {\n",
              "        vertical-align: middle;\n",
              "    }\n",
              "\n",
              "    .dataframe tbody tr th {\n",
              "        vertical-align: top;\n",
              "    }\n",
              "\n",
              "    .dataframe thead th {\n",
              "        text-align: right;\n",
              "    }\n",
              "</style>\n",
              "<table border=\"1\" class=\"dataframe\">\n",
              "  <thead>\n",
              "    <tr style=\"text-align: right;\">\n",
              "      <th></th>\n",
              "      <th>a</th>\n",
              "      <th>b</th>\n",
              "      <th>c</th>\n",
              "      <th>d</th>\n",
              "    </tr>\n",
              "  </thead>\n",
              "  <tbody>\n",
              "    <tr>\n",
              "      <th>0</th>\n",
              "      <td>0.011363</td>\n",
              "      <td>0.396726</td>\n",
              "      <td>0.170003</td>\n",
              "      <td>0.179738</td>\n",
              "    </tr>\n",
              "    <tr>\n",
              "      <th>1</th>\n",
              "      <td>0.967231</td>\n",
              "      <td>0.157369</td>\n",
              "      <td>0.550494</td>\n",
              "      <td>0.202137</td>\n",
              "    </tr>\n",
              "    <tr>\n",
              "      <th>2</th>\n",
              "      <td>0.149835</td>\n",
              "      <td>0.660468</td>\n",
              "      <td>0.847518</td>\n",
              "      <td>0.697145</td>\n",
              "    </tr>\n",
              "    <tr>\n",
              "      <th>3</th>\n",
              "      <td>0.769397</td>\n",
              "      <td>0.262603</td>\n",
              "      <td>0.969987</td>\n",
              "      <td>0.261446</td>\n",
              "    </tr>\n",
              "    <tr>\n",
              "      <th>4</th>\n",
              "      <td>0.136994</td>\n",
              "      <td>0.700843</td>\n",
              "      <td>0.243301</td>\n",
              "      <td>0.178816</td>\n",
              "    </tr>\n",
              "    <tr>\n",
              "      <th>5</th>\n",
              "      <td>0.294804</td>\n",
              "      <td>0.175531</td>\n",
              "      <td>0.032480</td>\n",
              "      <td>0.247788</td>\n",
              "    </tr>\n",
              "    <tr>\n",
              "      <th>6</th>\n",
              "      <td>0.587003</td>\n",
              "      <td>0.680426</td>\n",
              "      <td>0.975661</td>\n",
              "      <td>0.612805</td>\n",
              "    </tr>\n",
              "    <tr>\n",
              "      <th>7</th>\n",
              "      <td>0.307307</td>\n",
              "      <td>0.686034</td>\n",
              "      <td>0.163206</td>\n",
              "      <td>0.054735</td>\n",
              "    </tr>\n",
              "    <tr>\n",
              "      <th>8</th>\n",
              "      <td>0.312079</td>\n",
              "      <td>0.443038</td>\n",
              "      <td>0.543804</td>\n",
              "      <td>0.288468</td>\n",
              "    </tr>\n",
              "    <tr>\n",
              "      <th>9</th>\n",
              "      <td>0.112030</td>\n",
              "      <td>0.792726</td>\n",
              "      <td>0.314542</td>\n",
              "      <td>0.193948</td>\n",
              "    </tr>\n",
              "  </tbody>\n",
              "</table>\n",
              "</div>"
            ],
            "text/plain": [
              "          a         b         c         d\n",
              "0  0.011363  0.396726  0.170003  0.179738\n",
              "1  0.967231  0.157369  0.550494  0.202137\n",
              "2  0.149835  0.660468  0.847518  0.697145\n",
              "3  0.769397  0.262603  0.969987  0.261446\n",
              "4  0.136994  0.700843  0.243301  0.178816\n",
              "5  0.294804  0.175531  0.032480  0.247788\n",
              "6  0.587003  0.680426  0.975661  0.612805\n",
              "7  0.307307  0.686034  0.163206  0.054735\n",
              "8  0.312079  0.443038  0.543804  0.288468\n",
              "9  0.112030  0.792726  0.314542  0.193948"
            ]
          },
          "metadata": {
            "tags": []
          },
          "execution_count": 39
        }
      ]
    },
    {
      "cell_type": "code",
      "metadata": {
        "colab": {
          "base_uri": "https://localhost:8080/",
          "height": 283
        },
        "id": "eq13jmnK2dTo",
        "outputId": "763e2588-f205-4447-afb0-1bd0a71b34fc"
      },
      "source": [
        "train[['edu_type', 'credit']].value_counts().reset_index().pivot(index='edu_type', columns='credit', values=0).plot.barh()"
      ],
      "execution_count": null,
      "outputs": [
        {
          "output_type": "execute_result",
          "data": {
            "text/plain": [
              "<matplotlib.axes._subplots.AxesSubplot at 0x7f2cf3fee110>"
            ]
          },
          "metadata": {
            "tags": []
          },
          "execution_count": 40
        },
        {
          "output_type": "display_data",
          "data": {
            "image/png": "[encoded data removed]",
            "text/plain": [
              "<Figure size 432x288 with 1 Axes>"
            ]
          },
          "metadata": {
            "tags": [],
            "needs_background": "light"
          }
        }
      ]
    },
    {
      "cell_type": "markdown",
      "metadata": {
        "id": "wnFON6qMTh8i"
      },
      "source": [
        "참고자료\n",
        "\n",
        "- [Pandas 10분 완성](https://dataitgirls2.github.io/10minutes2pandas/)\n",
        "    - [데잇걸즈](https://dataitgirls3.github.io/) 단체에서 번역한 pandas 튜토리얼\n",
        "- [Pandas 공식 튜토리얼](https://pandas.pydata.org/docs/user_guide/cookbook.html#cookbook)\n",
        "    - Pandas 공식 홈페이지에서 제공하는 문서\n",
        "\n",
        "- [Pandas 공식 시각화 튜토리얼](https://pandas.pydata.org/pandas-docs/stable/user_guide/visualization.html)"
      ]
    },
    {
      "cell_type": "markdown",
      "metadata": {
        "id": "dNSKkUl1PKZs"
      },
      "source": [
        "## 1.4 Matplotlib, Seaborn 탐색"
      ]
    },
    {
      "cell_type": "code",
      "metadata": {
        "id": "POCXcnKrTfrs"
      },
      "source": [
        "import matplotlib.pyplot as plt\n",
        "import seaborn as sns"
      ],
      "execution_count": null,
      "outputs": []
    },
    {
      "cell_type": "code",
      "metadata": {
        "id": "oilihBGjUebo",
        "colab": {
          "base_uri": "https://localhost:8080/",
          "height": 381
        },
        "outputId": "f8cd13ef-6640-44cb-f5b4-b13674acb940"
      },
      "source": [
        "train.head()"
      ],
      "execution_count": null,
      "outputs": [
        {
          "output_type": "execute_result",
          "data": {
            "text/html": [
              "<div>\n",
              "<style scoped>\n",
              "    .dataframe tbody tr th:only-of-type {\n",
              "        vertical-align: middle;\n",
              "    }\n",
              "\n",
              "    .dataframe tbody tr th {\n",
              "        vertical-align: top;\n",
              "    }\n",
              "\n",
              "    .dataframe thead th {\n",
              "        text-align: right;\n",
              "    }\n",
              "</style>\n",
              "<table border=\"1\" class=\"dataframe\">\n",
              "  <thead>\n",
              "    <tr style=\"text-align: right;\">\n",
              "      <th></th>\n",
              "      <th>index</th>\n",
              "      <th>gender</th>\n",
              "      <th>car</th>\n",
              "      <th>reality</th>\n",
              "      <th>child_num</th>\n",
              "      <th>income_total</th>\n",
              "      <th>income_type</th>\n",
              "      <th>edu_type</th>\n",
              "      <th>family_type</th>\n",
              "      <th>house_type</th>\n",
              "      <th>DAYS_BIRTH</th>\n",
              "      <th>DAYS_EMPLOYED</th>\n",
              "      <th>FLAG_MOBIL</th>\n",
              "      <th>work_phone</th>\n",
              "      <th>phone</th>\n",
              "      <th>email</th>\n",
              "      <th>occyp_type</th>\n",
              "      <th>family_size</th>\n",
              "      <th>begin_month</th>\n",
              "      <th>credit</th>\n",
              "    </tr>\n",
              "  </thead>\n",
              "  <tbody>\n",
              "    <tr>\n",
              "      <th>0</th>\n",
              "      <td>0</td>\n",
              "      <td>F</td>\n",
              "      <td>N</td>\n",
              "      <td>N</td>\n",
              "      <td>0</td>\n",
              "      <td>202500.0</td>\n",
              "      <td>Commercial associate</td>\n",
              "      <td>Higher education</td>\n",
              "      <td>Married</td>\n",
              "      <td>Municipal apartment</td>\n",
              "      <td>-13899</td>\n",
              "      <td>-4709</td>\n",
              "      <td>1</td>\n",
              "      <td>0</td>\n",
              "      <td>0</td>\n",
              "      <td>0</td>\n",
              "      <td>NaN</td>\n",
              "      <td>2.0</td>\n",
              "      <td>-6.0</td>\n",
              "      <td>1.0</td>\n",
              "    </tr>\n",
              "    <tr>\n",
              "      <th>1</th>\n",
              "      <td>1</td>\n",
              "      <td>F</td>\n",
              "      <td>N</td>\n",
              "      <td>Y</td>\n",
              "      <td>1</td>\n",
              "      <td>247500.0</td>\n",
              "      <td>Commercial associate</td>\n",
              "      <td>Secondary / secondary special</td>\n",
              "      <td>Civil marriage</td>\n",
              "      <td>House / apartment</td>\n",
              "      <td>-11380</td>\n",
              "      <td>-1540</td>\n",
              "      <td>1</td>\n",
              "      <td>0</td>\n",
              "      <td>0</td>\n",
              "      <td>1</td>\n",
              "      <td>Laborers</td>\n",
              "      <td>3.0</td>\n",
              "      <td>-5.0</td>\n",
              "      <td>1.0</td>\n",
              "    </tr>\n",
              "    <tr>\n",
              "      <th>2</th>\n",
              "      <td>2</td>\n",
              "      <td>M</td>\n",
              "      <td>Y</td>\n",
              "      <td>Y</td>\n",
              "      <td>0</td>\n",
              "      <td>450000.0</td>\n",
              "      <td>Working</td>\n",
              "      <td>Higher education</td>\n",
              "      <td>Married</td>\n",
              "      <td>House / apartment</td>\n",
              "      <td>-19087</td>\n",
              "      <td>-4434</td>\n",
              "      <td>1</td>\n",
              "      <td>0</td>\n",
              "      <td>1</td>\n",
              "      <td>0</td>\n",
              "      <td>Managers</td>\n",
              "      <td>2.0</td>\n",
              "      <td>-22.0</td>\n",
              "      <td>2.0</td>\n",
              "    </tr>\n",
              "    <tr>\n",
              "      <th>3</th>\n",
              "      <td>3</td>\n",
              "      <td>F</td>\n",
              "      <td>N</td>\n",
              "      <td>Y</td>\n",
              "      <td>0</td>\n",
              "      <td>202500.0</td>\n",
              "      <td>Commercial associate</td>\n",
              "      <td>Secondary / secondary special</td>\n",
              "      <td>Married</td>\n",
              "      <td>House / apartment</td>\n",
              "      <td>-15088</td>\n",
              "      <td>-2092</td>\n",
              "      <td>1</td>\n",
              "      <td>0</td>\n",
              "      <td>1</td>\n",
              "      <td>0</td>\n",
              "      <td>Sales staff</td>\n",
              "      <td>2.0</td>\n",
              "      <td>-37.0</td>\n",
              "      <td>0.0</td>\n",
              "    </tr>\n",
              "    <tr>\n",
              "      <th>4</th>\n",
              "      <td>4</td>\n",
              "      <td>F</td>\n",
              "      <td>Y</td>\n",
              "      <td>Y</td>\n",
              "      <td>0</td>\n",
              "      <td>157500.0</td>\n",
              "      <td>State servant</td>\n",
              "      <td>Higher education</td>\n",
              "      <td>Married</td>\n",
              "      <td>House / apartment</td>\n",
              "      <td>-15037</td>\n",
              "      <td>-2105</td>\n",
              "      <td>1</td>\n",
              "      <td>0</td>\n",
              "      <td>0</td>\n",
              "      <td>0</td>\n",
              "      <td>Managers</td>\n",
              "      <td>2.0</td>\n",
              "      <td>-26.0</td>\n",
              "      <td>2.0</td>\n",
              "    </tr>\n",
              "  </tbody>\n",
              "</table>\n",
              "</div>"
            ],
            "text/plain": [
              "   index gender car reality  ...   occyp_type  family_size begin_month credit\n",
              "0      0      F   N       N  ...          NaN          2.0        -6.0    1.0\n",
              "1      1      F   N       Y  ...     Laborers          3.0        -5.0    1.0\n",
              "2      2      M   Y       Y  ...     Managers          2.0       -22.0    2.0\n",
              "3      3      F   N       Y  ...  Sales staff          2.0       -37.0    0.0\n",
              "4      4      F   Y       Y  ...     Managers          2.0       -26.0    2.0\n",
              "\n",
              "[5 rows x 20 columns]"
            ]
          },
          "metadata": {
            "tags": []
          },
          "execution_count": 42
        }
      ]
    },
    {
      "cell_type": "markdown",
      "metadata": {
        "id": "GZJT2XbgR4bU"
      },
      "source": [
        "[샘플 코드](https://www.python-graph-gallery.com/basic-barplot-with-seaborn) 확인 후 `occyp_type`별 `credit`의 평균을 막대그리프로 시각화 해보기"
      ]
    },
    {
      "cell_type": "code",
      "metadata": {
        "colab": {
          "base_uri": "https://localhost:8080/",
          "height": 448
        },
        "id": "H4QqB8P7iZ8_",
        "outputId": "108663ea-0cdd-43d7-88fa-02c5f9b513ce"
      },
      "source": [
        "# import libraries\n",
        "import seaborn as sns\n",
        "import matplotlib.pyplot as plt\n",
        "\n",
        "# set plot style: grey grid in the background:\n",
        "sns.set(style=\"darkgrid\")\n",
        "\n",
        "# load dataset\n",
        "tips = sns.load_dataset(\"tips\")\n",
        "\n",
        "# Set the figure size\n",
        "plt.figure(figsize=(10, 7))\n",
        "\n",
        "# plot a bar chart\n",
        "sns.barplot(\n",
        "    x=\"total_bill\", \n",
        "    y=\"day\", \n",
        "    data=tips, \n",
        "    estimator=sum, \n",
        "    ci=None, \n",
        "    color='#69b3a2')"
      ],
      "execution_count": null,
      "outputs": [
        {
          "output_type": "display_data",
          "data": {
            "image/png": "[encoded data removed]",
            "text/plain": [
              "<Figure size 720x504 with 1 Axes>"
            ]
          },
          "metadata": {
            "tags": []
          }
        }
      ]
    },
    {
      "cell_type": "code",
      "metadata": {
        "id": "NhQBQx4kUkxz",
        "colab": {
          "base_uri": "https://localhost:8080/",
          "height": 303
        },
        "outputId": "16ff9774-0074-4466-80b5-c6de13bd98c6"
      },
      "source": [
        ""
      ],
      "execution_count": null,
      "outputs": [
        {
          "output_type": "execute_result",
          "data": {
            "text/plain": [
              "<matplotlib.axes._subplots.AxesSubplot at 0x7f2ce630d090>"
            ]
          },
          "metadata": {
            "tags": []
          },
          "execution_count": 88
        },
        {
          "output_type": "display_data",
          "data": {
            "image/png": "[encoded data removed]",
            "text/plain": [
              "<Figure size 432x288 with 1 Axes>"
            ]
          },
          "metadata": {
            "tags": []
          }
        }
      ]
    },
    {
      "cell_type": "markdown",
      "metadata": {
        "id": "BKAkZvhZPg8n"
      },
      "source": [
        "참고자료\n",
        "\n",
        "- [Matplotlib.pyplot 기본 튜토리얼, 스타일, 캔버스](https://teddylee777.github.io/visualization/matplotlib-tutorial)\n",
        "- [Matplotlib을 활용한 데이터 시각화 그래프 예제](https://teddylee777.github.io/visualization/matplotlib-tutorial-2)\n",
        "- [Seaborn의 통계 차트 및 데이터 시각화 예제](https://teddylee777.github.io/visualization/seaborn-tutorial-1)\n",
        "- [Python Graph Gallery](https://www.python-graph-gallery.com/)"
      ]
    },
    {
      "cell_type": "markdown",
      "metadata": {
        "id": "zQ4ua2SmQwXd"
      },
      "source": [
        "## 1.5 베이스라인 모델 구축"
      ]
    },
    {
      "cell_type": "markdown",
      "metadata": {
        "id": "oMBvGsaQaCeT"
      },
      "source": [
        "- 베이스라인으로 로지스틱회귀 모델을 사용해보겠습니다. "
      ]
    },
    {
      "cell_type": "code",
      "metadata": {
        "id": "HLwQG5UzYLjg"
      },
      "source": [
        "from sklearn.linear_model import LogisticRegression"
      ],
      "execution_count": null,
      "outputs": []
    },
    {
      "cell_type": "code",
      "metadata": {
        "id": "aU69vID2YL3Y"
      },
      "source": [
        "model = LogisticRegression()"
      ],
      "execution_count": null,
      "outputs": []
    },
    {
      "cell_type": "code",
      "metadata": {
        "colab": {
          "base_uri": "https://localhost:8080/"
        },
        "id": "wrqfSSb4YMUJ",
        "outputId": "4688596b-7b44-43fd-a67f-f5e1f34f7d23"
      },
      "source": [
        "model"
      ],
      "execution_count": null,
      "outputs": [
        {
          "output_type": "execute_result",
          "data": {
            "text/plain": [
              "LogisticRegression()"
            ]
          },
          "metadata": {
            "tags": []
          },
          "execution_count": 91
        }
      ]
    },
    {
      "cell_type": "markdown",
      "metadata": {
        "id": "Q3pec9SbQyke"
      },
      "source": [
        "## 1.6 모델 검증 방법"
      ]
    },
    {
      "cell_type": "markdown",
      "metadata": {
        "id": "O3MkJsafaJSy"
      },
      "source": [
        "![image.png](https://drive.google.com/uc?id=1zZpBaXpYszxISryqKWY_ECt13tDWumUE)\n",
        "\n",
        "- K Fold 교차검증 (Cross-Valdation)"
      ]
    },
    {
      "cell_type": "code",
      "metadata": {
        "id": "g6tmm4XDaVNi"
      },
      "source": [
        "from sklearn.model_selection import KFold\n",
        "from sklearn.metrics import log_loss\n",
        "import numpy as np"
      ],
      "execution_count": null,
      "outputs": []
    },
    {
      "cell_type": "code",
      "metadata": {
        "colab": {
          "base_uri": "https://localhost:8080/",
          "height": 381
        },
        "id": "SWTCsvGBM91a",
        "outputId": "13588638-7310-452d-cc6d-654a96d420b9"
      },
      "source": [
        "train.head()"
      ],
      "execution_count": null,
      "outputs": [
        {
          "output_type": "execute_result",
          "data": {
            "text/html": [
              "<div>\n",
              "<style scoped>\n",
              "    .dataframe tbody tr th:only-of-type {\n",
              "        vertical-align: middle;\n",
              "    }\n",
              "\n",
              "    .dataframe tbody tr th {\n",
              "        vertical-align: top;\n",
              "    }\n",
              "\n",
              "    .dataframe thead th {\n",
              "        text-align: right;\n",
              "    }\n",
              "</style>\n",
              "<table border=\"1\" class=\"dataframe\">\n",
              "  <thead>\n",
              "    <tr style=\"text-align: right;\">\n",
              "      <th></th>\n",
              "      <th>index</th>\n",
              "      <th>gender</th>\n",
              "      <th>car</th>\n",
              "      <th>reality</th>\n",
              "      <th>child_num</th>\n",
              "      <th>income_total</th>\n",
              "      <th>income_type</th>\n",
              "      <th>edu_type</th>\n",
              "      <th>family_type</th>\n",
              "      <th>house_type</th>\n",
              "      <th>DAYS_BIRTH</th>\n",
              "      <th>DAYS_EMPLOYED</th>\n",
              "      <th>FLAG_MOBIL</th>\n",
              "      <th>work_phone</th>\n",
              "      <th>phone</th>\n",
              "      <th>email</th>\n",
              "      <th>occyp_type</th>\n",
              "      <th>family_size</th>\n",
              "      <th>begin_month</th>\n",
              "      <th>credit</th>\n",
              "    </tr>\n",
              "  </thead>\n",
              "  <tbody>\n",
              "    <tr>\n",
              "      <th>0</th>\n",
              "      <td>0</td>\n",
              "      <td>F</td>\n",
              "      <td>N</td>\n",
              "      <td>N</td>\n",
              "      <td>0</td>\n",
              "      <td>202500.0</td>\n",
              "      <td>Commercial associate</td>\n",
              "      <td>Higher education</td>\n",
              "      <td>Married</td>\n",
              "      <td>Municipal apartment</td>\n",
              "      <td>-13899</td>\n",
              "      <td>-4709</td>\n",
              "      <td>1</td>\n",
              "      <td>0</td>\n",
              "      <td>0</td>\n",
              "      <td>0</td>\n",
              "      <td>NaN</td>\n",
              "      <td>2.0</td>\n",
              "      <td>-6.0</td>\n",
              "      <td>1.0</td>\n",
              "    </tr>\n",
              "    <tr>\n",
              "      <th>1</th>\n",
              "      <td>1</td>\n",
              "      <td>F</td>\n",
              "      <td>N</td>\n",
              "      <td>Y</td>\n",
              "      <td>1</td>\n",
              "      <td>247500.0</td>\n",
              "      <td>Commercial associate</td>\n",
              "      <td>Secondary / secondary special</td>\n",
              "      <td>Civil marriage</td>\n",
              "      <td>House / apartment</td>\n",
              "      <td>-11380</td>\n",
              "      <td>-1540</td>\n",
              "      <td>1</td>\n",
              "      <td>0</td>\n",
              "      <td>0</td>\n",
              "      <td>1</td>\n",
              "      <td>Laborers</td>\n",
              "      <td>3.0</td>\n",
              "      <td>-5.0</td>\n",
              "      <td>1.0</td>\n",
              "    </tr>\n",
              "    <tr>\n",
              "      <th>2</th>\n",
              "      <td>2</td>\n",
              "      <td>M</td>\n",
              "      <td>Y</td>\n",
              "      <td>Y</td>\n",
              "      <td>0</td>\n",
              "      <td>450000.0</td>\n",
              "      <td>Working</td>\n",
              "      <td>Higher education</td>\n",
              "      <td>Married</td>\n",
              "      <td>House / apartment</td>\n",
              "      <td>-19087</td>\n",
              "      <td>-4434</td>\n",
              "      <td>1</td>\n",
              "      <td>0</td>\n",
              "      <td>1</td>\n",
              "      <td>0</td>\n",
              "      <td>Managers</td>\n",
              "      <td>2.0</td>\n",
              "      <td>-22.0</td>\n",
              "      <td>2.0</td>\n",
              "    </tr>\n",
              "    <tr>\n",
              "      <th>3</th>\n",
              "      <td>3</td>\n",
              "      <td>F</td>\n",
              "      <td>N</td>\n",
              "      <td>Y</td>\n",
              "      <td>0</td>\n",
              "      <td>202500.0</td>\n",
              "      <td>Commercial associate</td>\n",
              "      <td>Secondary / secondary special</td>\n",
              "      <td>Married</td>\n",
              "      <td>House / apartment</td>\n",
              "      <td>-15088</td>\n",
              "      <td>-2092</td>\n",
              "      <td>1</td>\n",
              "      <td>0</td>\n",
              "      <td>1</td>\n",
              "      <td>0</td>\n",
              "      <td>Sales staff</td>\n",
              "      <td>2.0</td>\n",
              "      <td>-37.0</td>\n",
              "      <td>0.0</td>\n",
              "    </tr>\n",
              "    <tr>\n",
              "      <th>4</th>\n",
              "      <td>4</td>\n",
              "      <td>F</td>\n",
              "      <td>Y</td>\n",
              "      <td>Y</td>\n",
              "      <td>0</td>\n",
              "      <td>157500.0</td>\n",
              "      <td>State servant</td>\n",
              "      <td>Higher education</td>\n",
              "      <td>Married</td>\n",
              "      <td>House / apartment</td>\n",
              "      <td>-15037</td>\n",
              "      <td>-2105</td>\n",
              "      <td>1</td>\n",
              "      <td>0</td>\n",
              "      <td>0</td>\n",
              "      <td>0</td>\n",
              "      <td>Managers</td>\n",
              "      <td>2.0</td>\n",
              "      <td>-26.0</td>\n",
              "      <td>2.0</td>\n",
              "    </tr>\n",
              "  </tbody>\n",
              "</table>\n",
              "</div>"
            ],
            "text/plain": [
              "   index gender car reality  ...   occyp_type  family_size begin_month credit\n",
              "0      0      F   N       N  ...          NaN          2.0        -6.0    1.0\n",
              "1      1      F   N       Y  ...     Laborers          3.0        -5.0    1.0\n",
              "2      2      M   Y       Y  ...     Managers          2.0       -22.0    2.0\n",
              "3      3      F   N       Y  ...  Sales staff          2.0       -37.0    0.0\n",
              "4      4      F   Y       Y  ...     Managers          2.0       -26.0    2.0\n",
              "\n",
              "[5 rows x 20 columns]"
            ]
          },
          "metadata": {
            "tags": []
          },
          "execution_count": 48
        }
      ]
    },
    {
      "cell_type": "code",
      "metadata": {
        "id": "s2anAOCccZGP"
      },
      "source": [
        "# numeric column만 추출 \n",
        "num_features = ['income_total', 'DAYS_BIRTH', 'DAYS_EMPLOYED', 'FLAG_MOBIL', 'work_phone', 'phone', 'email', 'family_size', 'begin_month']\n",
        "trn = train[num_features].values\n",
        "y = train['credit'].values\n",
        "tst = test[num_features].values"
      ],
      "execution_count": null,
      "outputs": []
    },
    {
      "cell_type": "code",
      "metadata": {
        "colab": {
          "base_uri": "https://localhost:8080/"
        },
        "id": "LwsEIWZDnE4N",
        "outputId": "456813f1-012a-48f9-83fa-fa5ccb25fd2a"
      },
      "source": [
        "trn"
      ],
      "execution_count": null,
      "outputs": [
        {
          "output_type": "execute_result",
          "data": {
            "text/plain": [
              "array([[ 2.0250e+05, -1.3899e+04, -4.7090e+03, ...,  0.0000e+00,\n",
              "         2.0000e+00, -6.0000e+00],\n",
              "       [ 2.4750e+05, -1.1380e+04, -1.5400e+03, ...,  1.0000e+00,\n",
              "         3.0000e+00, -5.0000e+00],\n",
              "       [ 4.5000e+05, -1.9087e+04, -4.4340e+03, ...,  0.0000e+00,\n",
              "         2.0000e+00, -2.2000e+01],\n",
              "       ...,\n",
              "       [ 2.9250e+05, -1.0082e+04, -2.0150e+03, ...,  0.0000e+00,\n",
              "         2.0000e+00, -2.5000e+01],\n",
              "       [ 1.7100e+05, -1.0145e+04, -1.0700e+02, ...,  0.0000e+00,\n",
              "         1.0000e+00, -5.9000e+01],\n",
              "       [ 8.1000e+04, -1.9569e+04, -1.0130e+03, ...,  0.0000e+00,\n",
              "         2.0000e+00, -9.0000e+00]])"
            ]
          },
          "metadata": {
            "tags": []
          },
          "execution_count": 50
        }
      ]
    },
    {
      "cell_type": "code",
      "metadata": {
        "colab": {
          "base_uri": "https://localhost:8080/"
        },
        "id": "A7OvIQgSNT2t",
        "outputId": "c358036e-7c0c-4ac0-9083-9c856f37c380"
      },
      "source": [
        "trn.shape, y.shape, tst.shape"
      ],
      "execution_count": null,
      "outputs": [
        {
          "output_type": "execute_result",
          "data": {
            "text/plain": [
              "((26457, 9), (26457,), (10000, 9))"
            ]
          },
          "metadata": {
            "tags": []
          },
          "execution_count": 51
        }
      ]
    },
    {
      "cell_type": "code",
      "metadata": {
        "id": "S6ASyfLUbAQ2"
      },
      "source": [
        "n_fold = 5\n",
        "seed = 42\n",
        "cv = KFold(n_splits=n_fold, shuffle=True, random_state=seed)"
      ],
      "execution_count": null,
      "outputs": []
    },
    {
      "cell_type": "code",
      "metadata": {
        "colab": {
          "base_uri": "https://localhost:8080/"
        },
        "id": "KOitPhVTN4cs",
        "outputId": "255e3bf8-14ce-4d37-c74c-e6622006db62"
      },
      "source": [
        "cv"
      ],
      "execution_count": null,
      "outputs": [
        {
          "output_type": "execute_result",
          "data": {
            "text/plain": [
              "KFold(n_splits=5, random_state=42, shuffle=True)"
            ]
          },
          "metadata": {
            "tags": []
          },
          "execution_count": 53
        }
      ]
    },
    {
      "cell_type": "code",
      "metadata": {
        "colab": {
          "base_uri": "https://localhost:8080/"
        },
        "id": "eeJUgmQiaiL1",
        "outputId": "3c628eda-c464-408e-9443-b49ad0f3251e"
      },
      "source": [
        "# 입력 값의 형태 파악이 중요\n",
        "result_val = np.zeros((trn.shape[0], 3)) # 600 X 3 행렬 생성\n",
        "result_tst = np.zeros((tst.shape[0], 3))\n",
        "\n",
        "for i, (i_trn, i_val) in enumerate(cv.split(trn)):\n",
        "    print(f'training model for CV #{i}')\n",
        "    model = LogisticRegression()\n",
        "    model.fit(trn[i_trn], y[i_trn])\n",
        "    result_val[i_val, :] = model.predict_proba(trn[i_val])\n",
        "    result_tst += model.predict_proba(tst) / n_fold"
      ],
      "execution_count": null,
      "outputs": [
        {
          "output_type": "stream",
          "text": [
            "training model for CV #0\n",
            "training model for CV #1\n",
            "training model for CV #2\n",
            "training model for CV #3\n",
            "training model for CV #4\n"
          ],
          "name": "stdout"
        }
      ]
    },
    {
      "cell_type": "code",
      "metadata": {
        "colab": {
          "base_uri": "https://localhost:8080/"
        },
        "id": "dJC-B71vZ1W7",
        "outputId": "5cf34eb0-1c0a-48fe-b252-878c72b1ba12"
      },
      "source": [
        "log_loss(y, np.zeros((trn.shape[0], 3)))"
      ],
      "execution_count": null,
      "outputs": [
        {
          "output_type": "execute_result",
          "data": {
            "text/plain": [
              "1.0986122886681096"
            ]
          },
          "metadata": {
            "tags": []
          },
          "execution_count": 55
        }
      ]
    },
    {
      "cell_type": "code",
      "metadata": {
        "colab": {
          "base_uri": "https://localhost:8080/"
        },
        "id": "-3DsnuOqV2Dw",
        "outputId": "41ce1943-363f-46c5-f436-6ded7874f7b2"
      },
      "source": [
        "log_loss(y, result_val)"
      ],
      "execution_count": null,
      "outputs": [
        {
          "output_type": "execute_result",
          "data": {
            "text/plain": [
              "0.8779836220054456"
            ]
          },
          "metadata": {
            "tags": []
          },
          "execution_count": 56
        }
      ]
    },
    {
      "cell_type": "code",
      "metadata": {
        "colab": {
          "base_uri": "https://localhost:8080/"
        },
        "id": "q7R02VssPVKQ",
        "outputId": "eda85a2a-8b80-4f28-f51f-39b113fe8a84"
      },
      "source": [
        "result_val.shape"
      ],
      "execution_count": null,
      "outputs": [
        {
          "output_type": "execute_result",
          "data": {
            "text/plain": [
              "(26457, 3)"
            ]
          },
          "metadata": {
            "tags": []
          },
          "execution_count": 57
        }
      ]
    },
    {
      "cell_type": "code",
      "metadata": {
        "id": "PKAp35XU1z75"
      },
      "source": [
        "np.savetxt('logistic_cv.txt', result_val, fmt='%.6f', delimiter=',')\n",
        "np.savetxt('logistic_tst.txt', result_tst, fmt='%.6f', delimiter=',')"
      ],
      "execution_count": null,
      "outputs": []
    },
    {
      "cell_type": "markdown",
      "metadata": {
        "id": "X7diPJnTailF"
      },
      "source": [
        "참고자료\n",
        "\n",
        "- [모델 성능 평가 지표 (회귀 모델, 분류 모델)](https://rk1993.tistory.com/entry/%EB%AA%A8%EB%8D%B8-%EC%84%B1%EB%8A%A5-%ED%8F%89%EA%B0%80-%EC%A7%80%ED%91%9C-%ED%9A%8C%EA%B7%80-%EB%AA%A8%EB%8D%B8-%EB%B6%84%EB%A5%98-%EB%AA%A8%EB%8D%B8)\n",
        "- [Cross-Validation, Stacking](https://kaggler-tv.github.io/dku-kaggle-class/lectures/08-cv-stacking.html)"
      ]
    },
    {
      "cell_type": "markdown",
      "metadata": {
        "id": "u7TU3AZbP4gp"
      },
      "source": [
        "## 1.7 범주형 데이터 전처리 방법"
      ]
    },
    {
      "cell_type": "markdown",
      "metadata": {
        "id": "fxXzxmj3QDUd"
      },
      "source": [
        "### 1.7.1 ordinal/label 인코딩"
      ]
    },
    {
      "cell_type": "markdown",
      "metadata": {
        "id": "Y3UkR8Wb9L_G"
      },
      "source": [
        "![](https://miro.medium.com/max/700/1*kPKvp4c462GB1NS8UotXYQ.png)\n",
        "\n",
        "- 출처: [medium](https://towardsdatascience.com/categorical-encoding-techniques-93ebd18e1f24)"
      ]
    },
    {
      "cell_type": "code",
      "metadata": {
        "colab": {
          "base_uri": "https://localhost:8080/",
          "height": 381
        },
        "id": "aLv67pXdgwO0",
        "outputId": "2dd47d4d-2e34-497f-f95d-85e1f6c3a7c0"
      },
      "source": [
        "train.head()"
      ],
      "execution_count": null,
      "outputs": [
        {
          "output_type": "execute_result",
          "data": {
            "text/html": [
              "<div>\n",
              "<style scoped>\n",
              "    .dataframe tbody tr th:only-of-type {\n",
              "        vertical-align: middle;\n",
              "    }\n",
              "\n",
              "    .dataframe tbody tr th {\n",
              "        vertical-align: top;\n",
              "    }\n",
              "\n",
              "    .dataframe thead th {\n",
              "        text-align: right;\n",
              "    }\n",
              "</style>\n",
              "<table border=\"1\" class=\"dataframe\">\n",
              "  <thead>\n",
              "    <tr style=\"text-align: right;\">\n",
              "      <th></th>\n",
              "      <th>index</th>\n",
              "      <th>gender</th>\n",
              "      <th>car</th>\n",
              "      <th>reality</th>\n",
              "      <th>child_num</th>\n",
              "      <th>income_total</th>\n",
              "      <th>income_type</th>\n",
              "      <th>edu_type</th>\n",
              "      <th>family_type</th>\n",
              "      <th>house_type</th>\n",
              "      <th>DAYS_BIRTH</th>\n",
              "      <th>DAYS_EMPLOYED</th>\n",
              "      <th>FLAG_MOBIL</th>\n",
              "      <th>work_phone</th>\n",
              "      <th>phone</th>\n",
              "      <th>email</th>\n",
              "      <th>occyp_type</th>\n",
              "      <th>family_size</th>\n",
              "      <th>begin_month</th>\n",
              "      <th>credit</th>\n",
              "    </tr>\n",
              "  </thead>\n",
              "  <tbody>\n",
              "    <tr>\n",
              "      <th>0</th>\n",
              "      <td>0</td>\n",
              "      <td>F</td>\n",
              "      <td>N</td>\n",
              "      <td>N</td>\n",
              "      <td>0</td>\n",
              "      <td>202500.0</td>\n",
              "      <td>Commercial associate</td>\n",
              "      <td>Higher education</td>\n",
              "      <td>Married</td>\n",
              "      <td>Municipal apartment</td>\n",
              "      <td>-13899</td>\n",
              "      <td>-4709</td>\n",
              "      <td>1</td>\n",
              "      <td>0</td>\n",
              "      <td>0</td>\n",
              "      <td>0</td>\n",
              "      <td>NaN</td>\n",
              "      <td>2.0</td>\n",
              "      <td>-6.0</td>\n",
              "      <td>1.0</td>\n",
              "    </tr>\n",
              "    <tr>\n",
              "      <th>1</th>\n",
              "      <td>1</td>\n",
              "      <td>F</td>\n",
              "      <td>N</td>\n",
              "      <td>Y</td>\n",
              "      <td>1</td>\n",
              "      <td>247500.0</td>\n",
              "      <td>Commercial associate</td>\n",
              "      <td>Secondary / secondary special</td>\n",
              "      <td>Civil marriage</td>\n",
              "      <td>House / apartment</td>\n",
              "      <td>-11380</td>\n",
              "      <td>-1540</td>\n",
              "      <td>1</td>\n",
              "      <td>0</td>\n",
              "      <td>0</td>\n",
              "      <td>1</td>\n",
              "      <td>Laborers</td>\n",
              "      <td>3.0</td>\n",
              "      <td>-5.0</td>\n",
              "      <td>1.0</td>\n",
              "    </tr>\n",
              "    <tr>\n",
              "      <th>2</th>\n",
              "      <td>2</td>\n",
              "      <td>M</td>\n",
              "      <td>Y</td>\n",
              "      <td>Y</td>\n",
              "      <td>0</td>\n",
              "      <td>450000.0</td>\n",
              "      <td>Working</td>\n",
              "      <td>Higher education</td>\n",
              "      <td>Married</td>\n",
              "      <td>House / apartment</td>\n",
              "      <td>-19087</td>\n",
              "      <td>-4434</td>\n",
              "      <td>1</td>\n",
              "      <td>0</td>\n",
              "      <td>1</td>\n",
              "      <td>0</td>\n",
              "      <td>Managers</td>\n",
              "      <td>2.0</td>\n",
              "      <td>-22.0</td>\n",
              "      <td>2.0</td>\n",
              "    </tr>\n",
              "    <tr>\n",
              "      <th>3</th>\n",
              "      <td>3</td>\n",
              "      <td>F</td>\n",
              "      <td>N</td>\n",
              "      <td>Y</td>\n",
              "      <td>0</td>\n",
              "      <td>202500.0</td>\n",
              "      <td>Commercial associate</td>\n",
              "      <td>Secondary / secondary special</td>\n",
              "      <td>Married</td>\n",
              "      <td>House / apartment</td>\n",
              "      <td>-15088</td>\n",
              "      <td>-2092</td>\n",
              "      <td>1</td>\n",
              "      <td>0</td>\n",
              "      <td>1</td>\n",
              "      <td>0</td>\n",
              "      <td>Sales staff</td>\n",
              "      <td>2.0</td>\n",
              "      <td>-37.0</td>\n",
              "      <td>0.0</td>\n",
              "    </tr>\n",
              "    <tr>\n",
              "      <th>4</th>\n",
              "      <td>4</td>\n",
              "      <td>F</td>\n",
              "      <td>Y</td>\n",
              "      <td>Y</td>\n",
              "      <td>0</td>\n",
              "      <td>157500.0</td>\n",
              "      <td>State servant</td>\n",
              "      <td>Higher education</td>\n",
              "      <td>Married</td>\n",
              "      <td>House / apartment</td>\n",
              "      <td>-15037</td>\n",
              "      <td>-2105</td>\n",
              "      <td>1</td>\n",
              "      <td>0</td>\n",
              "      <td>0</td>\n",
              "      <td>0</td>\n",
              "      <td>Managers</td>\n",
              "      <td>2.0</td>\n",
              "      <td>-26.0</td>\n",
              "      <td>2.0</td>\n",
              "    </tr>\n",
              "  </tbody>\n",
              "</table>\n",
              "</div>"
            ],
            "text/plain": [
              "   index gender car reality  ...   occyp_type  family_size begin_month credit\n",
              "0      0      F   N       N  ...          NaN          2.0        -6.0    1.0\n",
              "1      1      F   N       Y  ...     Laborers          3.0        -5.0    1.0\n",
              "2      2      M   Y       Y  ...     Managers          2.0       -22.0    2.0\n",
              "3      3      F   N       Y  ...  Sales staff          2.0       -37.0    0.0\n",
              "4      4      F   Y       Y  ...     Managers          2.0       -26.0    2.0\n",
              "\n",
              "[5 rows x 20 columns]"
            ]
          },
          "metadata": {
            "tags": []
          },
          "execution_count": 59
        }
      ]
    },
    {
      "cell_type": "code",
      "metadata": {
        "colab": {
          "base_uri": "https://localhost:8080/"
        },
        "id": "AF6PYzz4pmAb",
        "outputId": "e8274e12-af93-48e0-b9e2-e3c43deb6374"
      },
      "source": [
        "train.info()"
      ],
      "execution_count": null,
      "outputs": [
        {
          "output_type": "stream",
          "text": [
            "<class 'pandas.core.frame.DataFrame'>\n",
            "RangeIndex: 26457 entries, 0 to 26456\n",
            "Data columns (total 20 columns):\n",
            " #   Column         Non-Null Count  Dtype  \n",
            "---  ------         --------------  -----  \n",
            " 0   index          26457 non-null  int64  \n",
            " 1   gender         26457 non-null  object \n",
            " 2   car            26457 non-null  object \n",
            " 3   reality        26457 non-null  object \n",
            " 4   child_num      26457 non-null  int64  \n",
            " 5   income_total   26457 non-null  float64\n",
            " 6   income_type    26457 non-null  object \n",
            " 7   edu_type       26457 non-null  object \n",
            " 8   family_type    26457 non-null  object \n",
            " 9   house_type     26457 non-null  object \n",
            " 10  DAYS_BIRTH     26457 non-null  int64  \n",
            " 11  DAYS_EMPLOYED  26457 non-null  int64  \n",
            " 12  FLAG_MOBIL     26457 non-null  int64  \n",
            " 13  work_phone     26457 non-null  int64  \n",
            " 14  phone          26457 non-null  int64  \n",
            " 15  email          26457 non-null  int64  \n",
            " 16  occyp_type     18286 non-null  object \n",
            " 17  family_size    26457 non-null  float64\n",
            " 18  begin_month    26457 non-null  float64\n",
            " 19  credit         26457 non-null  float64\n",
            "dtypes: float64(4), int64(8), object(8)\n",
            "memory usage: 4.0+ MB\n"
          ],
          "name": "stdout"
        }
      ]
    },
    {
      "cell_type": "code",
      "metadata": {
        "colab": {
          "base_uri": "https://localhost:8080/",
          "height": 205
        },
        "id": "EmRutaeZg1jM",
        "outputId": "6fa37b40-e18b-4cb3-b6c0-09c5f83b191e"
      },
      "source": [
        "from sklearn.preprocessing import OrdinalEncoder\n",
        "train_cat = train.copy()\n",
        "oe = OrdinalEncoder()\n",
        "# categorical columns\n",
        "cat_cols = ['income_type', 'edu_type', 'family_type', 'house_type']\n",
        "train_cat[cat_cols] = oe.fit_transform(train_cat[cat_cols])\n",
        "train_cat[cat_cols].head()"
      ],
      "execution_count": null,
      "outputs": [
        {
          "output_type": "execute_result",
          "data": {
            "text/html": [
              "<div>\n",
              "<style scoped>\n",
              "    .dataframe tbody tr th:only-of-type {\n",
              "        vertical-align: middle;\n",
              "    }\n",
              "\n",
              "    .dataframe tbody tr th {\n",
              "        vertical-align: top;\n",
              "    }\n",
              "\n",
              "    .dataframe thead th {\n",
              "        text-align: right;\n",
              "    }\n",
              "</style>\n",
              "<table border=\"1\" class=\"dataframe\">\n",
              "  <thead>\n",
              "    <tr style=\"text-align: right;\">\n",
              "      <th></th>\n",
              "      <th>income_type</th>\n",
              "      <th>edu_type</th>\n",
              "      <th>family_type</th>\n",
              "      <th>house_type</th>\n",
              "    </tr>\n",
              "  </thead>\n",
              "  <tbody>\n",
              "    <tr>\n",
              "      <th>0</th>\n",
              "      <td>0.0</td>\n",
              "      <td>1.0</td>\n",
              "      <td>1.0</td>\n",
              "      <td>2.0</td>\n",
              "    </tr>\n",
              "    <tr>\n",
              "      <th>1</th>\n",
              "      <td>0.0</td>\n",
              "      <td>4.0</td>\n",
              "      <td>0.0</td>\n",
              "      <td>1.0</td>\n",
              "    </tr>\n",
              "    <tr>\n",
              "      <th>2</th>\n",
              "      <td>4.0</td>\n",
              "      <td>1.0</td>\n",
              "      <td>1.0</td>\n",
              "      <td>1.0</td>\n",
              "    </tr>\n",
              "    <tr>\n",
              "      <th>3</th>\n",
              "      <td>0.0</td>\n",
              "      <td>4.0</td>\n",
              "      <td>1.0</td>\n",
              "      <td>1.0</td>\n",
              "    </tr>\n",
              "    <tr>\n",
              "      <th>4</th>\n",
              "      <td>2.0</td>\n",
              "      <td>1.0</td>\n",
              "      <td>1.0</td>\n",
              "      <td>1.0</td>\n",
              "    </tr>\n",
              "  </tbody>\n",
              "</table>\n",
              "</div>"
            ],
            "text/plain": [
              "   income_type  edu_type  family_type  house_type\n",
              "0          0.0       1.0          1.0         2.0\n",
              "1          0.0       4.0          0.0         1.0\n",
              "2          4.0       1.0          1.0         1.0\n",
              "3          0.0       4.0          1.0         1.0\n",
              "4          2.0       1.0          1.0         1.0"
            ]
          },
          "metadata": {
            "tags": []
          },
          "execution_count": 61
        }
      ]
    },
    {
      "cell_type": "code",
      "metadata": {
        "colab": {
          "base_uri": "https://localhost:8080/",
          "height": 422
        },
        "id": "csPKPlcEiDTZ",
        "outputId": "734d66de-c387-44e7-ef2d-effe5d6d57a7"
      },
      "source": [
        "test_cat = test.copy()\n",
        "test_cat[cat_cols] = oe.transform(test_cat[cat_cols])\n",
        "test_cat[cat_cols]"
      ],
      "execution_count": null,
      "outputs": [
        {
          "output_type": "execute_result",
          "data": {
            "text/html": [
              "<div>\n",
              "<style scoped>\n",
              "    .dataframe tbody tr th:only-of-type {\n",
              "        vertical-align: middle;\n",
              "    }\n",
              "\n",
              "    .dataframe tbody tr th {\n",
              "        vertical-align: top;\n",
              "    }\n",
              "\n",
              "    .dataframe thead th {\n",
              "        text-align: right;\n",
              "    }\n",
              "</style>\n",
              "<table border=\"1\" class=\"dataframe\">\n",
              "  <thead>\n",
              "    <tr style=\"text-align: right;\">\n",
              "      <th></th>\n",
              "      <th>income_type</th>\n",
              "      <th>edu_type</th>\n",
              "      <th>family_type</th>\n",
              "      <th>house_type</th>\n",
              "    </tr>\n",
              "  </thead>\n",
              "  <tbody>\n",
              "    <tr>\n",
              "      <th>0</th>\n",
              "      <td>1.0</td>\n",
              "      <td>4.0</td>\n",
              "      <td>0.0</td>\n",
              "      <td>1.0</td>\n",
              "    </tr>\n",
              "    <tr>\n",
              "      <th>1</th>\n",
              "      <td>2.0</td>\n",
              "      <td>1.0</td>\n",
              "      <td>1.0</td>\n",
              "      <td>1.0</td>\n",
              "    </tr>\n",
              "    <tr>\n",
              "      <th>2</th>\n",
              "      <td>4.0</td>\n",
              "      <td>4.0</td>\n",
              "      <td>1.0</td>\n",
              "      <td>1.0</td>\n",
              "    </tr>\n",
              "    <tr>\n",
              "      <th>3</th>\n",
              "      <td>0.0</td>\n",
              "      <td>4.0</td>\n",
              "      <td>1.0</td>\n",
              "      <td>1.0</td>\n",
              "    </tr>\n",
              "    <tr>\n",
              "      <th>4</th>\n",
              "      <td>2.0</td>\n",
              "      <td>1.0</td>\n",
              "      <td>1.0</td>\n",
              "      <td>1.0</td>\n",
              "    </tr>\n",
              "    <tr>\n",
              "      <th>...</th>\n",
              "      <td>...</td>\n",
              "      <td>...</td>\n",
              "      <td>...</td>\n",
              "      <td>...</td>\n",
              "    </tr>\n",
              "    <tr>\n",
              "      <th>9995</th>\n",
              "      <td>4.0</td>\n",
              "      <td>2.0</td>\n",
              "      <td>1.0</td>\n",
              "      <td>1.0</td>\n",
              "    </tr>\n",
              "    <tr>\n",
              "      <th>9996</th>\n",
              "      <td>4.0</td>\n",
              "      <td>4.0</td>\n",
              "      <td>0.0</td>\n",
              "      <td>1.0</td>\n",
              "    </tr>\n",
              "    <tr>\n",
              "      <th>9997</th>\n",
              "      <td>4.0</td>\n",
              "      <td>4.0</td>\n",
              "      <td>1.0</td>\n",
              "      <td>1.0</td>\n",
              "    </tr>\n",
              "    <tr>\n",
              "      <th>9998</th>\n",
              "      <td>0.0</td>\n",
              "      <td>4.0</td>\n",
              "      <td>1.0</td>\n",
              "      <td>1.0</td>\n",
              "    </tr>\n",
              "    <tr>\n",
              "      <th>9999</th>\n",
              "      <td>4.0</td>\n",
              "      <td>1.0</td>\n",
              "      <td>1.0</td>\n",
              "      <td>1.0</td>\n",
              "    </tr>\n",
              "  </tbody>\n",
              "</table>\n",
              "<p>10000 rows × 4 columns</p>\n",
              "</div>"
            ],
            "text/plain": [
              "      income_type  edu_type  family_type  house_type\n",
              "0             1.0       4.0          0.0         1.0\n",
              "1             2.0       1.0          1.0         1.0\n",
              "2             4.0       4.0          1.0         1.0\n",
              "3             0.0       4.0          1.0         1.0\n",
              "4             2.0       1.0          1.0         1.0\n",
              "...           ...       ...          ...         ...\n",
              "9995          4.0       2.0          1.0         1.0\n",
              "9996          4.0       4.0          0.0         1.0\n",
              "9997          4.0       4.0          1.0         1.0\n",
              "9998          0.0       4.0          1.0         1.0\n",
              "9999          4.0       1.0          1.0         1.0\n",
              "\n",
              "[10000 rows x 4 columns]"
            ]
          },
          "metadata": {
            "tags": []
          },
          "execution_count": 62
        }
      ]
    },
    {
      "cell_type": "code",
      "metadata": {
        "id": "D3b4Jwjlh6Bk"
      },
      "source": [
        "features = num_features + cat_cols\n",
        "trn = train_cat[features].values\n",
        "y = train_cat['credit'].values\n",
        "tst = test_cat[features].values"
      ],
      "execution_count": null,
      "outputs": []
    },
    {
      "cell_type": "code",
      "metadata": {
        "id": "uCQXRUYdh6Bl"
      },
      "source": [
        "n_fold = 5\n",
        "seed = 42\n",
        "cv = KFold(n_splits=n_fold, shuffle=True, random_state=seed)"
      ],
      "execution_count": null,
      "outputs": []
    },
    {
      "cell_type": "code",
      "metadata": {
        "colab": {
          "base_uri": "https://localhost:8080/"
        },
        "id": "mSLCdVhHh6Bl",
        "outputId": "e18b4ca9-76f9-4a94-89a2-b549a4f73975"
      },
      "source": [
        "result_val = np.zeros((trn.shape[0], 3))\n",
        "result_tst = np.zeros((tst.shape[0], 3))\n",
        "\n",
        "for i, (i_trn, i_val) in enumerate(cv.split(trn)):\n",
        "    print(f'training model for CV #{i}')\n",
        "    model = LogisticRegression()\n",
        "    model.fit(trn[i_trn], y[i_trn])\n",
        "    result_val[i_val, :] = model.predict_proba(trn[i_val])\n",
        "    result_tst += model.predict_proba(tst) / n_fold"
      ],
      "execution_count": null,
      "outputs": [
        {
          "output_type": "stream",
          "text": [
            "training model for CV #0\n",
            "training model for CV #1\n",
            "training model for CV #2\n",
            "training model for CV #3\n",
            "training model for CV #4\n"
          ],
          "name": "stdout"
        }
      ]
    },
    {
      "cell_type": "code",
      "metadata": {
        "colab": {
          "base_uri": "https://localhost:8080/"
        },
        "id": "VZVusP3mh6Bm",
        "outputId": "97dc5ee2-4cbe-4765-cd36-81d0eb26b382"
      },
      "source": [
        "log_loss(y, result_val)"
      ],
      "execution_count": null,
      "outputs": [
        {
          "output_type": "execute_result",
          "data": {
            "text/plain": [
              "0.8779763981371089"
            ]
          },
          "metadata": {
            "tags": []
          },
          "execution_count": 66
        }
      ]
    },
    {
      "cell_type": "markdown",
      "metadata": {
        "id": "M7DEuroaQD0i"
      },
      "source": [
        "### 1.7.2 one-hot 인코딩\n"
      ]
    },
    {
      "cell_type": "markdown",
      "metadata": {
        "id": "C4_qQtHW9g1D"
      },
      "source": [
        "![](https://miro.medium.com/max/2120/1*hZLqbZqqrwiqkGxxl2vYkg.png)\n",
        "\n",
        "- 출처: [medium](https://towardsdatascience.com/categorical-encoding-techniques-93ebd18e1f24)"
      ]
    },
    {
      "cell_type": "code",
      "metadata": {
        "id": "fs3gOv5yjjbq",
        "colab": {
          "base_uri": "https://localhost:8080/",
          "height": 381
        },
        "outputId": "94e348c6-ba0a-44ef-c859-d645f5708faa"
      },
      "source": [
        "train.head()"
      ],
      "execution_count": null,
      "outputs": [
        {
          "output_type": "execute_result",
          "data": {
            "text/html": [
              "<div>\n",
              "<style scoped>\n",
              "    .dataframe tbody tr th:only-of-type {\n",
              "        vertical-align: middle;\n",
              "    }\n",
              "\n",
              "    .dataframe tbody tr th {\n",
              "        vertical-align: top;\n",
              "    }\n",
              "\n",
              "    .dataframe thead th {\n",
              "        text-align: right;\n",
              "    }\n",
              "</style>\n",
              "<table border=\"1\" class=\"dataframe\">\n",
              "  <thead>\n",
              "    <tr style=\"text-align: right;\">\n",
              "      <th></th>\n",
              "      <th>index</th>\n",
              "      <th>gender</th>\n",
              "      <th>car</th>\n",
              "      <th>reality</th>\n",
              "      <th>child_num</th>\n",
              "      <th>income_total</th>\n",
              "      <th>income_type</th>\n",
              "      <th>edu_type</th>\n",
              "      <th>family_type</th>\n",
              "      <th>house_type</th>\n",
              "      <th>DAYS_BIRTH</th>\n",
              "      <th>DAYS_EMPLOYED</th>\n",
              "      <th>FLAG_MOBIL</th>\n",
              "      <th>work_phone</th>\n",
              "      <th>phone</th>\n",
              "      <th>email</th>\n",
              "      <th>occyp_type</th>\n",
              "      <th>family_size</th>\n",
              "      <th>begin_month</th>\n",
              "      <th>credit</th>\n",
              "    </tr>\n",
              "  </thead>\n",
              "  <tbody>\n",
              "    <tr>\n",
              "      <th>0</th>\n",
              "      <td>0</td>\n",
              "      <td>F</td>\n",
              "      <td>N</td>\n",
              "      <td>N</td>\n",
              "      <td>0</td>\n",
              "      <td>202500.0</td>\n",
              "      <td>Commercial associate</td>\n",
              "      <td>Higher education</td>\n",
              "      <td>Married</td>\n",
              "      <td>Municipal apartment</td>\n",
              "      <td>-13899</td>\n",
              "      <td>-4709</td>\n",
              "      <td>1</td>\n",
              "      <td>0</td>\n",
              "      <td>0</td>\n",
              "      <td>0</td>\n",
              "      <td>NaN</td>\n",
              "      <td>2.0</td>\n",
              "      <td>-6.0</td>\n",
              "      <td>1.0</td>\n",
              "    </tr>\n",
              "    <tr>\n",
              "      <th>1</th>\n",
              "      <td>1</td>\n",
              "      <td>F</td>\n",
              "      <td>N</td>\n",
              "      <td>Y</td>\n",
              "      <td>1</td>\n",
              "      <td>247500.0</td>\n",
              "      <td>Commercial associate</td>\n",
              "      <td>Secondary / secondary special</td>\n",
              "      <td>Civil marriage</td>\n",
              "      <td>House / apartment</td>\n",
              "      <td>-11380</td>\n",
              "      <td>-1540</td>\n",
              "      <td>1</td>\n",
              "      <td>0</td>\n",
              "      <td>0</td>\n",
              "      <td>1</td>\n",
              "      <td>Laborers</td>\n",
              "      <td>3.0</td>\n",
              "      <td>-5.0</td>\n",
              "      <td>1.0</td>\n",
              "    </tr>\n",
              "    <tr>\n",
              "      <th>2</th>\n",
              "      <td>2</td>\n",
              "      <td>M</td>\n",
              "      <td>Y</td>\n",
              "      <td>Y</td>\n",
              "      <td>0</td>\n",
              "      <td>450000.0</td>\n",
              "      <td>Working</td>\n",
              "      <td>Higher education</td>\n",
              "      <td>Married</td>\n",
              "      <td>House / apartment</td>\n",
              "      <td>-19087</td>\n",
              "      <td>-4434</td>\n",
              "      <td>1</td>\n",
              "      <td>0</td>\n",
              "      <td>1</td>\n",
              "      <td>0</td>\n",
              "      <td>Managers</td>\n",
              "      <td>2.0</td>\n",
              "      <td>-22.0</td>\n",
              "      <td>2.0</td>\n",
              "    </tr>\n",
              "    <tr>\n",
              "      <th>3</th>\n",
              "      <td>3</td>\n",
              "      <td>F</td>\n",
              "      <td>N</td>\n",
              "      <td>Y</td>\n",
              "      <td>0</td>\n",
              "      <td>202500.0</td>\n",
              "      <td>Commercial associate</td>\n",
              "      <td>Secondary / secondary special</td>\n",
              "      <td>Married</td>\n",
              "      <td>House / apartment</td>\n",
              "      <td>-15088</td>\n",
              "      <td>-2092</td>\n",
              "      <td>1</td>\n",
              "      <td>0</td>\n",
              "      <td>1</td>\n",
              "      <td>0</td>\n",
              "      <td>Sales staff</td>\n",
              "      <td>2.0</td>\n",
              "      <td>-37.0</td>\n",
              "      <td>0.0</td>\n",
              "    </tr>\n",
              "    <tr>\n",
              "      <th>4</th>\n",
              "      <td>4</td>\n",
              "      <td>F</td>\n",
              "      <td>Y</td>\n",
              "      <td>Y</td>\n",
              "      <td>0</td>\n",
              "      <td>157500.0</td>\n",
              "      <td>State servant</td>\n",
              "      <td>Higher education</td>\n",
              "      <td>Married</td>\n",
              "      <td>House / apartment</td>\n",
              "      <td>-15037</td>\n",
              "      <td>-2105</td>\n",
              "      <td>1</td>\n",
              "      <td>0</td>\n",
              "      <td>0</td>\n",
              "      <td>0</td>\n",
              "      <td>Managers</td>\n",
              "      <td>2.0</td>\n",
              "      <td>-26.0</td>\n",
              "      <td>2.0</td>\n",
              "    </tr>\n",
              "  </tbody>\n",
              "</table>\n",
              "</div>"
            ],
            "text/plain": [
              "   index gender car reality  ...   occyp_type  family_size begin_month credit\n",
              "0      0      F   N       N  ...          NaN          2.0        -6.0    1.0\n",
              "1      1      F   N       Y  ...     Laborers          3.0        -5.0    1.0\n",
              "2      2      M   Y       Y  ...     Managers          2.0       -22.0    2.0\n",
              "3      3      F   N       Y  ...  Sales staff          2.0       -37.0    0.0\n",
              "4      4      F   Y       Y  ...     Managers          2.0       -26.0    2.0\n",
              "\n",
              "[5 rows x 20 columns]"
            ]
          },
          "metadata": {
            "tags": []
          },
          "execution_count": 67
        }
      ]
    },
    {
      "cell_type": "code",
      "metadata": {
        "id": "eabrTGZai_69"
      },
      "source": [
        "from sklearn.preprocessing import OneHotEncoder\n",
        "ohe = OneHotEncoder()\n",
        "cat_cols = ['income_type', 'edu_type', 'family_type', 'house_type']\n",
        "ohe_features = ohe.fit_transform(train[cat_cols]).toarray()"
      ],
      "execution_count": null,
      "outputs": []
    },
    {
      "cell_type": "code",
      "metadata": {
        "colab": {
          "base_uri": "https://localhost:8080/"
        },
        "id": "tkDKtnXFeHFp",
        "outputId": "6a5abdbb-b382-4303-cd15-afc09e2fd8bf"
      },
      "source": [
        "for col in cat_cols:\n",
        "    print(len(train[col].unique()))"
      ],
      "execution_count": null,
      "outputs": [
        {
          "output_type": "stream",
          "text": [
            "5\n",
            "5\n",
            "5\n",
            "6\n"
          ],
          "name": "stdout"
        }
      ]
    },
    {
      "cell_type": "code",
      "metadata": {
        "colab": {
          "base_uri": "https://localhost:8080/"
        },
        "id": "69F2IkJNS5Cg",
        "outputId": "00323bc8-cdc8-4c20-abe5-7b16fa5ce435"
      },
      "source": [
        "ohe_features.shape"
      ],
      "execution_count": null,
      "outputs": [
        {
          "output_type": "execute_result",
          "data": {
            "text/plain": [
              "(26457, 21)"
            ]
          },
          "metadata": {
            "tags": []
          },
          "execution_count": 70
        }
      ]
    },
    {
      "cell_type": "code",
      "metadata": {
        "id": "xKoGCYUOj2J9"
      },
      "source": [
        "train_ohe_cat = np.concatenate([train[num_features].values, ohe_features], axis=1)"
      ],
      "execution_count": null,
      "outputs": []
    },
    {
      "cell_type": "code",
      "metadata": {
        "colab": {
          "base_uri": "https://localhost:8080/"
        },
        "id": "rg1WzUJ8ojne",
        "outputId": "1115edc4-2d12-4ef6-9c65-40c80feac8c0"
      },
      "source": [
        "len(num_features)"
      ],
      "execution_count": null,
      "outputs": [
        {
          "output_type": "execute_result",
          "data": {
            "text/plain": [
              "9"
            ]
          },
          "metadata": {
            "tags": []
          },
          "execution_count": 72
        }
      ]
    },
    {
      "cell_type": "code",
      "metadata": {
        "colab": {
          "base_uri": "https://localhost:8080/"
        },
        "id": "yNvMkV5ocsCw",
        "outputId": "27e4aa15-1530-45b0-ec8f-d8fb252b0bf6"
      },
      "source": [
        "train_ohe_cat.shape"
      ],
      "execution_count": null,
      "outputs": [
        {
          "output_type": "execute_result",
          "data": {
            "text/plain": [
              "(26457, 30)"
            ]
          },
          "metadata": {
            "tags": []
          },
          "execution_count": 73
        }
      ]
    },
    {
      "cell_type": "code",
      "metadata": {
        "id": "vQIOuncDi_7K"
      },
      "source": [
        "test_ohe_features = ohe.transform(test[cat_cols]).toarray()\n",
        "test_ohe_cat = np.concatenate([test[num_features].values, test_ohe_features], axis=1)"
      ],
      "execution_count": null,
      "outputs": []
    },
    {
      "cell_type": "code",
      "metadata": {
        "colab": {
          "base_uri": "https://localhost:8080/"
        },
        "id": "lVWloE6DkTaL",
        "outputId": "4c184a21-4258-4ef1-9cf4-edefc8bba71b"
      },
      "source": [
        "train_ohe_cat.shape, test_ohe_cat.shape"
      ],
      "execution_count": null,
      "outputs": [
        {
          "output_type": "execute_result",
          "data": {
            "text/plain": [
              "((26457, 30), (10000, 30))"
            ]
          },
          "metadata": {
            "tags": []
          },
          "execution_count": 75
        }
      ]
    },
    {
      "cell_type": "markdown",
      "metadata": {
        "id": "Q4fBuJH6c-AN"
      },
      "source": [
        "- `train_cat`, `test_cat`: categorical 변수를 ordinal 인코딩 한 데이터\n",
        "- `train_ohe_cat`, `test_ohe_cat`: categorical 변수를 one-hot 인코딩 한 데이터"
      ]
    },
    {
      "cell_type": "code",
      "metadata": {
        "id": "1s81uipyi_7L"
      },
      "source": [
        "trn = train_ohe_cat\n",
        "y = train['credit'].values\n",
        "tst = test_ohe_cat"
      ],
      "execution_count": null,
      "outputs": []
    },
    {
      "cell_type": "code",
      "metadata": {
        "id": "afjejidJi_7M"
      },
      "source": [
        "n_fold = 5\n",
        "seed = 42\n",
        "cv = KFold(n_splits=n_fold, shuffle=True, random_state=seed)"
      ],
      "execution_count": null,
      "outputs": []
    },
    {
      "cell_type": "code",
      "metadata": {
        "colab": {
          "base_uri": "https://localhost:8080/"
        },
        "id": "0xrTh0RZi_7N",
        "outputId": "2de18048-4a15-47c2-ce3f-35821f3b76a9"
      },
      "source": [
        "result_val = np.zeros((trn.shape[0], 3))\n",
        "result_tst = np.zeros((tst.shape[0], 3))\n",
        "\n",
        "for i, (i_trn, i_val) in enumerate(cv.split(trn)):\n",
        "    print(f'training model for CV #{i}')\n",
        "    model = LogisticRegression()\n",
        "    model.fit(trn[i_trn], y[i_trn])\n",
        "    result_val[i_val, :] = model.predict_proba(trn[i_val])\n",
        "    result_tst += model.predict_proba(tst) / n_fold"
      ],
      "execution_count": null,
      "outputs": [
        {
          "output_type": "stream",
          "text": [
            "training model for CV #0\n",
            "training model for CV #1\n",
            "training model for CV #2\n",
            "training model for CV #3\n",
            "training model for CV #4\n"
          ],
          "name": "stdout"
        }
      ]
    },
    {
      "cell_type": "code",
      "metadata": {
        "colab": {
          "base_uri": "https://localhost:8080/"
        },
        "id": "h_soxxmpi_7N",
        "outputId": "682b9e56-6c02-46c0-82fc-43ead87dc8ee"
      },
      "source": [
        "log_loss(y, result_val)"
      ],
      "execution_count": null,
      "outputs": [
        {
          "output_type": "execute_result",
          "data": {
            "text/plain": [
              "0.877982469218465"
            ]
          },
          "metadata": {
            "tags": []
          },
          "execution_count": 79
        }
      ]
    },
    {
      "cell_type": "code",
      "metadata": {
        "colab": {
          "base_uri": "https://localhost:8080/"
        },
        "id": "FbsuessEeJst",
        "outputId": "354b0002-d5c1-4b6c-8536-dd7e1a7744ae"
      },
      "source": [
        "result_val"
      ],
      "execution_count": null,
      "outputs": [
        {
          "output_type": "execute_result",
          "data": {
            "text/plain": [
              "array([[0.13248901, 0.24083157, 0.62667942],\n",
              "       [0.15763864, 0.24751158, 0.59484978],\n",
              "       [0.07870067, 0.16642403, 0.7548753 ],\n",
              "       ...,\n",
              "       [0.16507992, 0.25249495, 0.58242513],\n",
              "       [0.17720615, 0.27137598, 0.55141787],\n",
              "       [0.09395693, 0.21957747, 0.6864656 ]])"
            ]
          },
          "metadata": {
            "tags": []
          },
          "execution_count": 80
        }
      ]
    },
    {
      "cell_type": "markdown",
      "metadata": {
        "id": "HGkUwiscQlqE"
      },
      "source": [
        "## 1.8 알고리즘 변경을 통한 모델 고도화"
      ]
    },
    {
      "cell_type": "markdown",
      "metadata": {
        "id": "JKp8r68ZRJ53"
      },
      "source": [
        "### 1.8.1 결정트리"
      ]
    },
    {
      "cell_type": "markdown",
      "metadata": {
        "id": "vXsGhBjL9nJ2"
      },
      "source": [
        "![](https://github.com/kaggler-tv/dku-kaggle-class/blob/master/course-website/imgs/ch06-img15.jpg?raw=true)\n",
        "\n",
        "- 출처: [dku-kaggle-class](https://kaggler-tv.github.io/dku-kaggle-class/lectures/06-scikit-learn.html#id2)\n",
        "\n",
        "- [시각화로 보는 결정트리](http://www.r2d3.us/visual-intro-to-machine-learning-part-1/)"
      ]
    },
    {
      "cell_type": "code",
      "metadata": {
        "colab": {
          "base_uri": "https://localhost:8080/"
        },
        "id": "ArQNT-eQlAfx",
        "outputId": "ab17ee38-3320-4cbd-e2e9-41fa71b1a029"
      },
      "source": [
        "from sklearn.tree import DecisionTreeClassifier\n",
        "\n",
        "## ordinal 인코딩\n",
        "features = num_features + cat_cols\n",
        "trn = train_cat[features].values\n",
        "y = train['credit'].values\n",
        "tst = test_cat[features].values\n",
        "\n",
        "n_fold = 5\n",
        "seed = 42\n",
        "cv = KFold(n_splits=n_fold, shuffle=True, random_state=seed)\n",
        "\n",
        "result_val = np.zeros((trn.shape[0], 3))\n",
        "result_tst = np.zeros((tst.shape[0], 3))\n",
        "\n",
        "for i, (i_trn, i_val) in enumerate(cv.split(trn)):\n",
        "    print(f'training model for CV #{i}')\n",
        "    ###\n",
        "    model = DecisionTreeClassifier(random_state=seed, min_samples_split=1000)\n",
        "    ###\n",
        "    model.fit(trn[i_trn], y[i_trn])\n",
        "    result_val[i_val, :] = model.predict_proba(trn[i_val])\n",
        "    result_tst += model.predict_proba(tst) / n_fold"
      ],
      "execution_count": null,
      "outputs": [
        {
          "output_type": "stream",
          "text": [
            "training model for CV #0\n",
            "training model for CV #1\n",
            "training model for CV #2\n",
            "training model for CV #3\n",
            "training model for CV #4\n"
          ],
          "name": "stdout"
        }
      ]
    },
    {
      "cell_type": "code",
      "metadata": {
        "id": "jysuMbrilHhn"
      },
      "source": [
        "?DecisionTreeClassifier"
      ],
      "execution_count": null,
      "outputs": []
    },
    {
      "cell_type": "code",
      "metadata": {
        "colab": {
          "base_uri": "https://localhost:8080/"
        },
        "id": "EDQtH0Xif75D",
        "outputId": "0ff9d92f-4e50-4090-bad6-f14286c8c73e"
      },
      "source": [
        "result_val"
      ],
      "execution_count": null,
      "outputs": [
        {
          "output_type": "execute_result",
          "data": {
            "text/plain": [
              "array([[0.18766067, 0.20308483, 0.6092545 ],\n",
              "       [0.12845528, 0.29593496, 0.57560976],\n",
              "       [0.09202454, 0.13292434, 0.77505112],\n",
              "       ...,\n",
              "       [0.10416667, 0.246875  , 0.64895833],\n",
              "       [0.06827309, 0.18473896, 0.74698795],\n",
              "       [0.14776632, 0.19014891, 0.66208477]])"
            ]
          },
          "metadata": {
            "tags": []
          },
          "execution_count": 71
        }
      ]
    },
    {
      "cell_type": "code",
      "metadata": {
        "colab": {
          "base_uri": "https://localhost:8080/"
        },
        "id": "CO6YGAUmlAf1",
        "outputId": "a689005a-b4cf-49d8-eb3a-37f27ebdfcfb"
      },
      "source": [
        "log_loss(y, result_val)"
      ],
      "execution_count": null,
      "outputs": [
        {
          "output_type": "execute_result",
          "data": {
            "text/plain": [
              "0.8323119000925706"
            ]
          },
          "metadata": {
            "tags": []
          },
          "execution_count": 72
        }
      ]
    },
    {
      "cell_type": "markdown",
      "metadata": {
        "id": "yIMOr2X9RNqv"
      },
      "source": [
        "### 1.8.2 랜덤포레스트\n",
        "\n",
        "![](https://github.com/kaggler-tv/dku-kaggle-class/blob/master/course-website/imgs/ch07-img03.jpg?raw=true)\n",
        "\n",
        "- 출처: [dku-kaggle-class](https://kaggler-tv.github.io/dku-kaggle-class/lectures/06-scikit-learn.html#id2)"
      ]
    },
    {
      "cell_type": "markdown",
      "metadata": {
        "id": "0gFL0n3gpH3h"
      },
      "source": [
        "주요 하이퍼파라미터\n",
        "\n",
        "- n_estimators: 의사결정 나무의 개수\n",
        "- max_depth: 최대 깊이\n",
        "- min_samples_split: 가지를 나눌 때 필요한 최소 샘플 개수\n",
        "- min_samples_leaf: 가지를 나눈 후 왼쪽, 오른쪽 노드 각각에 존재해야 하는 최소 샘플 개수 \n",
        "- max_features: 사용할 피쳐 개수\n"
      ]
    },
    {
      "cell_type": "code",
      "metadata": {
        "id": "39758C5ll7xa"
      },
      "source": [
        "?RandomForestClassifier"
      ],
      "execution_count": null,
      "outputs": []
    },
    {
      "cell_type": "code",
      "metadata": {
        "id": "ZWLmYQunlWwC",
        "colab": {
          "base_uri": "https://localhost:8080/"
        },
        "outputId": "453b359c-c38a-4565-ff37-3a35920e2004"
      },
      "source": [
        "from sklearn.ensemble import RandomForestClassifier\n",
        "\n",
        "## ordinal 인코딩\n",
        "trn = train_cat[features].values\n",
        "y = train['credit'].values\n",
        "tst = test_cat[features].values\n",
        "\n",
        "n_fold = 5\n",
        "seed = 42\n",
        "cv = KFold(n_splits=n_fold, shuffle=True, random_state=seed)\n",
        "\n",
        "result_val = np.zeros((trn.shape[0], 3))\n",
        "result_tst = np.zeros((tst.shape[0], 3))\n",
        "\n",
        "for i, (i_trn, i_val) in enumerate(cv.split(trn)):\n",
        "    print(f'training model for CV #{i}')\n",
        "    ###\n",
        "    model = RandomForestClassifier(random_state=seed, n_jobs=-1, min_samples_split=30)\n",
        "    ###\n",
        "    model.fit(trn[i_trn], y[i_trn])\n",
        "    result_val[i_val, :] = model.predict_proba(trn[i_val])\n",
        "    result_tst += model.predict_proba(tst) / n_fold"
      ],
      "execution_count": null,
      "outputs": [
        {
          "output_type": "stream",
          "text": [
            "training model for CV #0\n",
            "training model for CV #1\n",
            "training model for CV #2\n",
            "training model for CV #3\n",
            "training model for CV #4\n"
          ],
          "name": "stdout"
        }
      ]
    },
    {
      "cell_type": "code",
      "metadata": {
        "colab": {
          "base_uri": "https://localhost:8080/"
        },
        "id": "FBwRpLwdffqE",
        "outputId": "315e5996-3417-4dd1-cf47-846857696c4e"
      },
      "source": [
        "result_val"
      ],
      "execution_count": null,
      "outputs": [
        {
          "output_type": "execute_result",
          "data": {
            "text/plain": [
              "array([[0.1624954 , 0.14847735, 0.68902725],\n",
              "       [0.25759554, 0.17912168, 0.56328278],\n",
              "       [0.13591916, 0.15966468, 0.70441615],\n",
              "       ...,\n",
              "       [0.1925775 , 0.24123466, 0.56618784],\n",
              "       [0.12622696, 0.19619103, 0.67758202],\n",
              "       [0.12349422, 0.14199797, 0.73450781]])"
            ]
          },
          "metadata": {
            "tags": []
          },
          "execution_count": 120
        }
      ]
    },
    {
      "cell_type": "code",
      "metadata": {
        "id": "FjK-_Q0xleaf",
        "colab": {
          "base_uri": "https://localhost:8080/"
        },
        "outputId": "28e50dbb-35fa-45e4-a940-b5df9e680860"
      },
      "source": [
        "log_loss(y, result_val)"
      ],
      "execution_count": null,
      "outputs": [
        {
          "output_type": "execute_result",
          "data": {
            "text/plain": [
              "0.7430723773945486"
            ]
          },
          "metadata": {
            "tags": []
          },
          "execution_count": 121
        }
      ]
    },
    {
      "cell_type": "code",
      "metadata": {
        "colab": {
          "base_uri": "https://localhost:8080/"
        },
        "id": "xzeCh3j1lzHt",
        "outputId": "7705b0cf-28f1-48c0-ad2c-d6f4d65e6471"
      },
      "source": [
        "from sklearn.preprocessing import OneHotEncoder\n",
        "\n",
        "### one hot 인코딩\n",
        "trn = train_ohe_cat\n",
        "y = train['credit'].values\n",
        "tst = test_ohe_cat\n",
        "\n",
        "n_fold = 5\n",
        "seed = 42\n",
        "cv = KFold(n_splits=n_fold, shuffle=True, random_state=seed)\n",
        "\n",
        "result_val = np.zeros((trn.shape[0], 3))\n",
        "result_tst = np.zeros((tst.shape[0], 3))\n",
        "\n",
        "for i, (i_trn, i_val) in enumerate(cv.split(trn)):\n",
        "    print(f'training model for CV #{i}')\n",
        "    model = RandomForestClassifier(random_state=seed, n_jobs=-1, min_samples_split=30)\n",
        "    model.fit(trn[i_trn], y[i_trn])\n",
        "    result_val[i_val, :] = model.predict_proba(trn[i_val])\n",
        "    result_tst += model.predict_proba(tst) / n_fold\n",
        "\n",
        "print(log_loss(y, result_val))"
      ],
      "execution_count": null,
      "outputs": [
        {
          "output_type": "stream",
          "text": [
            "training model for CV #0\n",
            "training model for CV #1\n",
            "training model for CV #2\n",
            "training model for CV #3\n",
            "training model for CV #4\n",
            "0.745201916927706\n"
          ],
          "name": "stdout"
        }
      ]
    },
    {
      "cell_type": "code",
      "metadata": {
        "colab": {
          "base_uri": "https://localhost:8080/"
        },
        "id": "21QbashXmx-_",
        "outputId": "56db95d8-3588-49bf-93be-1f7584fe6c64"
      },
      "source": [
        "from sklearn.preprocessing import label_binarize\n",
        "\n",
        "label_binarize(y, classes=[0,1,2])"
      ],
      "execution_count": null,
      "outputs": [
        {
          "output_type": "execute_result",
          "data": {
            "text/plain": [
              "array([[0, 1, 0],\n",
              "       [0, 1, 0],\n",
              "       [0, 0, 1],\n",
              "       ...,\n",
              "       [0, 0, 1],\n",
              "       [0, 0, 1],\n",
              "       [0, 0, 1]])"
            ]
          },
          "metadata": {
            "tags": []
          },
          "execution_count": 123
        }
      ]
    },
    {
      "cell_type": "code",
      "metadata": {
        "id": "N45JdFQG3MMB"
      },
      "source": [
        "np.savetxt('rf_cv.txt', result_val, fmt='%.6f', delimiter=',')\n",
        "np.savetxt('rf_tst.txt', result_tst, fmt='%.6f', delimiter=',')"
      ],
      "execution_count": null,
      "outputs": []
    },
    {
      "cell_type": "markdown",
      "metadata": {
        "id": "E5SUrGbaRQGf"
      },
      "source": [
        "### 1.8.3 lightGBM\n",
        "\n",
        "![](https://github.com/kaggler-tv/dku-kaggle-class/blob/master/course-website/imgs/ch07-img07.jpg?raw=true)\n",
        "\n",
        "- 출처: [dku-kaggle-class](https://kaggler-tv.github.io/dku-kaggle-class/lectures/06-scikit-learn.html#id2)"
      ]
    },
    {
      "cell_type": "code",
      "metadata": {
        "id": "HKDUtcntnNKz"
      },
      "source": [
        "?lgb.LGBMClassifier"
      ],
      "execution_count": null,
      "outputs": []
    },
    {
      "cell_type": "code",
      "metadata": {
        "id": "MwzB3tPtm7Y2"
      },
      "source": [
        "import lightgbm as lgb\n",
        "\n",
        "## ordinal 인코딩\n",
        "trn = train_cat[features].values\n",
        "y = train['credit'].values\n",
        "tst = test_cat[features].values\n",
        "\n",
        "n_fold = 5\n",
        "seed = 42\n",
        "cv = KFold(n_splits=n_fold, shuffle=True, random_state=seed)\n",
        "\n",
        "result_val = np.zeros((trn.shape[0], 3))\n",
        "result_tst = np.zeros((tst.shape[0], 3))\n",
        "\n",
        "for i, (i_trn, i_val) in enumerate(cv.split(trn)):\n",
        "    print(f'training model for CV #{i}')\n",
        "    model = lgb.LGBMClassifier(n_estimators=150,\n",
        "                         num_leaves=50,\n",
        "                         learning_rate=0.01,\n",
        "                         min_child_samples=50,\n",
        "                         random_state=seed,\n",
        "                         n_jobs=-1)\n",
        "    model.fit(trn[i_trn], y[i_trn], \n",
        "              eval_set=[(trn[i_val], y[i_val])], \n",
        "              early_stopping_rounds=10,\n",
        "              verbose=10)\n",
        "    result_val[i_val, :] = model.predict_proba(trn[i_val])\n",
        "    result_tst += model.predict_proba(tst) / n_fold\n",
        "\n",
        "print(log_loss(y, result_val))"
      ],
      "execution_count": null,
      "outputs": []
    },
    {
      "cell_type": "code",
      "metadata": {
        "id": "gMF6QMIcut0d"
      },
      "source": [
        "?lgb.LGBMClassifier"
      ],
      "execution_count": null,
      "outputs": []
    },
    {
      "cell_type": "markdown",
      "metadata": {
        "id": "hYab45NBd65J"
      },
      "source": [
        "## 1.9 파이프라인 구축\n",
        "\n",
        "- https://stackoverflow.com/questions/28178763/sklearn-use-pipeline-in-a-randomizedsearchcv"
      ]
    },
    {
      "cell_type": "markdown",
      "metadata": {
        "id": "l_rYTMZ9eAQJ"
      },
      "source": [
        "Pipeline: '명칭'과 '모델' 쌍을 같이 입력  "
      ]
    },
    {
      "cell_type": "code",
      "metadata": {
        "id": "8TrNAVFJjgIE"
      },
      "source": [
        "from sklearn.tree import DecisionTreeClassifier\n",
        "from sklearn.preprocessing import OrdinalEncoder\n",
        "from sklearn.pipeline import Pipeline\n",
        "from sklearn.compose import ColumnTransformer"
      ],
      "execution_count": null,
      "outputs": []
    },
    {
      "cell_type": "code",
      "metadata": {
        "id": "BSp4qdQKwUcO"
      },
      "source": [
        "column_trans = ColumnTransformer(\n",
        "     [('category', OrdinalEncoder(), cat_cols)],\n",
        "     remainder='passthrough')"
      ],
      "execution_count": null,
      "outputs": []
    },
    {
      "cell_type": "code",
      "metadata": {
        "colab": {
          "base_uri": "https://localhost:8080/"
        },
        "id": "2DAClVrsxSyE",
        "outputId": "dfa509a1-33cf-464f-b295-0ed33fbe97be"
      },
      "source": [
        "train.select_dtypes(['int', 'float']).columns"
      ],
      "execution_count": null,
      "outputs": [
        {
          "output_type": "execute_result",
          "data": {
            "text/plain": [
              "Index(['index', 'child_num', 'income_total', 'DAYS_BIRTH', 'DAYS_EMPLOYED',\n",
              "       'FLAG_MOBIL', 'work_phone', 'phone', 'email', 'family_size',\n",
              "       'begin_month', 'credit'],\n",
              "      dtype='object')"
            ]
          },
          "metadata": {
            "tags": []
          },
          "execution_count": 141
        }
      ]
    },
    {
      "cell_type": "code",
      "metadata": {
        "colab": {
          "base_uri": "https://localhost:8080/"
        },
        "id": "7KJTzeFrxoKs",
        "outputId": "6a42abd3-ffee-4780-d5b7-9a1fa59cb896"
      },
      "source": [
        "train.info()"
      ],
      "execution_count": null,
      "outputs": [
        {
          "output_type": "stream",
          "text": [
            "<class 'pandas.core.frame.DataFrame'>\n",
            "RangeIndex: 26457 entries, 0 to 26456\n",
            "Data columns (total 20 columns):\n",
            " #   Column         Non-Null Count  Dtype  \n",
            "---  ------         --------------  -----  \n",
            " 0   index          26457 non-null  int64  \n",
            " 1   gender         26457 non-null  object \n",
            " 2   car            26457 non-null  object \n",
            " 3   reality        26457 non-null  object \n",
            " 4   child_num      26457 non-null  int64  \n",
            " 5   income_total   26457 non-null  float64\n",
            " 6   income_type    26457 non-null  object \n",
            " 7   edu_type       26457 non-null  object \n",
            " 8   family_type    26457 non-null  object \n",
            " 9   house_type     26457 non-null  object \n",
            " 10  DAYS_BIRTH     26457 non-null  int64  \n",
            " 11  DAYS_EMPLOYED  26457 non-null  int64  \n",
            " 12  FLAG_MOBIL     26457 non-null  int64  \n",
            " 13  work_phone     26457 non-null  int64  \n",
            " 14  phone          26457 non-null  int64  \n",
            " 15  email          26457 non-null  int64  \n",
            " 16  occyp_type     18286 non-null  object \n",
            " 17  family_size    26457 non-null  float64\n",
            " 18  begin_month    26457 non-null  float64\n",
            " 19  credit         26457 non-null  float64\n",
            "dtypes: float64(4), int64(8), object(8)\n",
            "memory usage: 4.0+ MB\n"
          ],
          "name": "stdout"
        }
      ]
    },
    {
      "cell_type": "code",
      "metadata": {
        "colab": {
          "base_uri": "https://localhost:8080/"
        },
        "id": "aX5zVn8AxPTr",
        "outputId": "ea1ab10e-34b6-4645-b869-935974b2d593"
      },
      "source": [
        "num_features"
      ],
      "execution_count": null,
      "outputs": [
        {
          "output_type": "execute_result",
          "data": {
            "text/plain": [
              "['income_total',\n",
              " 'DAYS_BIRTH',\n",
              " 'DAYS_EMPLOYED',\n",
              " 'FLAG_MOBIL',\n",
              " 'work_phone',\n",
              " 'phone',\n",
              " 'email',\n",
              " 'family_size',\n",
              " 'begin_month']"
            ]
          },
          "metadata": {
            "tags": []
          },
          "execution_count": 139
        }
      ]
    },
    {
      "cell_type": "code",
      "metadata": {
        "id": "EtE1k04L6cuT"
      },
      "source": [
        "pipe = Pipeline([('col_trans', column_trans), ('dt', DecisionTreeClassifier(random_state=seed, min_samples_split=1000))]) # , "
      ],
      "execution_count": null,
      "outputs": []
    },
    {
      "cell_type": "code",
      "metadata": {
        "colab": {
          "base_uri": "https://localhost:8080/"
        },
        "id": "GPk9qGQ56wCf",
        "outputId": "5e0a0b69-fedb-480d-8040-c5f3a4006731"
      },
      "source": [
        "features"
      ],
      "execution_count": null,
      "outputs": [
        {
          "output_type": "execute_result",
          "data": {
            "text/plain": [
              "['income_total',\n",
              " 'DAYS_BIRTH',\n",
              " 'DAYS_EMPLOYED',\n",
              " 'FLAG_MOBIL',\n",
              " 'work_phone',\n",
              " 'phone',\n",
              " 'email',\n",
              " 'family_size',\n",
              " 'begin_month',\n",
              " 'income_type',\n",
              " 'edu_type',\n",
              " 'family_type',\n",
              " 'house_type']"
            ]
          },
          "metadata": {
            "tags": []
          },
          "execution_count": 107
        }
      ]
    },
    {
      "cell_type": "code",
      "metadata": {
        "colab": {
          "base_uri": "https://localhost:8080/"
        },
        "id": "f7lDeft86iLY",
        "outputId": "cac4af36-4d25-4267-cac5-dbdbc729c1ee"
      },
      "source": [
        "from sklearn.tree import DecisionTreeClassifier\n",
        "\n",
        "## ordinal 인코딩\n",
        "features = num_features + cat_cols\n",
        "trn = train[features]\n",
        "y = train['credit'].values\n",
        "tst = test[features]\n",
        "\n",
        "n_fold = 5\n",
        "seed = 42\n",
        "cv = KFold(n_splits=n_fold, shuffle=True, random_state=seed)\n",
        "\n",
        "result_val = np.zeros((trn.shape[0], 3))\n",
        "result_tst = np.zeros((tst.shape[0], 3))\n",
        "\n",
        "for i, (i_trn, i_val) in enumerate(cv.split(trn)):\n",
        "    print(f'training model for CV #{i}')\n",
        "    ###\n",
        "    model = pipe\n",
        "    ###\n",
        "    model.fit(trn.loc[i_trn], y[i_trn])\n",
        "    result_val[i_val, :] = model.predict_proba(trn.loc[i_val])\n",
        "    result_tst += model.predict_proba(tst) / n_fold"
      ],
      "execution_count": null,
      "outputs": [
        {
          "output_type": "stream",
          "text": [
            "training model for CV #0\n",
            "training model for CV #1\n",
            "training model for CV #2\n",
            "training model for CV #3\n",
            "training model for CV #4\n"
          ],
          "name": "stdout"
        }
      ]
    },
    {
      "cell_type": "code",
      "metadata": {
        "colab": {
          "base_uri": "https://localhost:8080/",
          "height": 235
        },
        "id": "8jkQjIQYnL3A",
        "outputId": "df758f11-1be9-405b-96e7-5c4b26ea3932"
      },
      "source": [
        "from sklearn import set_config\n",
        "set_config(display='diagram')   \n",
        "# diplays HTML representation in a jupyter context\n",
        "pipe"
      ],
      "execution_count": null,
      "outputs": [
        {
          "output_type": "execute_result",
          "data": {
            "text/html": [
              "<style>#sk-19800e18-0f40-4739-b707-f84b08006698 {color: black;background-color: white;}#sk-19800e18-0f40-4739-b707-f84b08006698 pre{padding: 0;}#sk-19800e18-0f40-4739-b707-f84b08006698 div.sk-toggleable {background-color: white;}#sk-19800e18-0f40-4739-b707-f84b08006698 label.sk-toggleable__label {cursor: pointer;display: block;width: 100%;margin-bottom: 0;padding: 0.2em 0.3em;box-sizing: border-box;text-align: center;}#sk-19800e18-0f40-4739-b707-f84b08006698 div.sk-toggleable__content {max-height: 0;max-width: 0;overflow: hidden;text-align: left;background-color: #f0f8ff;}#sk-19800e18-0f40-4739-b707-f84b08006698 div.sk-toggleable__content pre {margin: 0.2em;color: black;border-radius: 0.25em;background-color: #f0f8ff;}#sk-19800e18-0f40-4739-b707-f84b08006698 input.sk-toggleable__control:checked~div.sk-toggleable__content {max-height: 200px;max-width: 100%;overflow: auto;}#sk-19800e18-0f40-4739-b707-f84b08006698 div.sk-estimator input.sk-toggleable__control:checked~label.sk-toggleable__label {background-color: #d4ebff;}#sk-19800e18-0f40-4739-b707-f84b08006698 div.sk-label input.sk-toggleable__control:checked~label.sk-toggleable__label {background-color: #d4ebff;}#sk-19800e18-0f40-4739-b707-f84b08006698 input.sk-hidden--visually {border: 0;clip: rect(1px 1px 1px 1px);clip: rect(1px, 1px, 1px, 1px);height: 1px;margin: -1px;overflow: hidden;padding: 0;position: absolute;width: 1px;}#sk-19800e18-0f40-4739-b707-f84b08006698 div.sk-estimator {font-family: monospace;background-color: #f0f8ff;margin: 0.25em 0.25em;border: 1px dotted black;border-radius: 0.25em;box-sizing: border-box;}#sk-19800e18-0f40-4739-b707-f84b08006698 div.sk-estimator:hover {background-color: #d4ebff;}#sk-19800e18-0f40-4739-b707-f84b08006698 div.sk-parallel-item::after {content: \"\";width: 100%;border-bottom: 1px solid gray;flex-grow: 1;}#sk-19800e18-0f40-4739-b707-f84b08006698 div.sk-label:hover label.sk-toggleable__label {background-color: #d4ebff;}#sk-19800e18-0f40-4739-b707-f84b08006698 div.sk-serial::before {content: \"\";position: absolute;border-left: 1px solid gray;box-sizing: border-box;top: 2em;bottom: 0;left: 50%;}#sk-19800e18-0f40-4739-b707-f84b08006698 div.sk-serial {display: flex;flex-direction: column;align-items: center;background-color: white;}#sk-19800e18-0f40-4739-b707-f84b08006698 div.sk-item {z-index: 1;}#sk-19800e18-0f40-4739-b707-f84b08006698 div.sk-parallel {display: flex;align-items: stretch;justify-content: center;background-color: white;}#sk-19800e18-0f40-4739-b707-f84b08006698 div.sk-parallel-item {display: flex;flex-direction: column;position: relative;background-color: white;}#sk-19800e18-0f40-4739-b707-f84b08006698 div.sk-parallel-item:first-child::after {align-self: flex-end;width: 50%;}#sk-19800e18-0f40-4739-b707-f84b08006698 div.sk-parallel-item:last-child::after {align-self: flex-start;width: 50%;}#sk-19800e18-0f40-4739-b707-f84b08006698 div.sk-parallel-item:only-child::after {width: 0;}#sk-19800e18-0f40-4739-b707-f84b08006698 div.sk-dashed-wrapped {border: 1px dashed gray;margin: 0.2em;box-sizing: border-box;padding-bottom: 0.1em;background-color: white;position: relative;}#sk-19800e18-0f40-4739-b707-f84b08006698 div.sk-label label {font-family: monospace;font-weight: bold;background-color: white;display: inline-block;line-height: 1.2em;}#sk-19800e18-0f40-4739-b707-f84b08006698 div.sk-label-container {position: relative;z-index: 2;text-align: center;}#sk-19800e18-0f40-4739-b707-f84b08006698 div.sk-container {display: inline-block;position: relative;}</style><div id=\"sk-19800e18-0f40-4739-b707-f84b08006698\" class\"sk-top-container\"><div class=\"sk-container\"><div class=\"sk-item sk-dashed-wrapped\"><div class=\"sk-label-container\"><div class=\"sk-label sk-toggleable\"><input class=\"sk-toggleable__control sk-hidden--visually\" id=\"960a970a-b1f7-4101-8fa7-b724e6b24ee8\" type=\"checkbox\" ><label class=\"sk-toggleable__label\" for=\"960a970a-b1f7-4101-8fa7-b724e6b24ee8\">Pipeline</label><div class=\"sk-toggleable__content\"><pre>Pipeline(steps=[('col_trans',\n",
              "                 ColumnTransformer(remainder='passthrough',\n",
              "                                   transformers=[('category', OrdinalEncoder(),\n",
              "                                                  ['income_type', 'edu_type',\n",
              "                                                   'family_type',\n",
              "                                                   'house_type'])])),\n",
              "                ('dt',\n",
              "                 DecisionTreeClassifier(min_samples_split=1000,\n",
              "                                        random_state=42))])</pre></div></div></div><div class=\"sk-serial\"><div class=\"sk-item sk-dashed-wrapped\"><div class=\"sk-label-container\"><div class=\"sk-label sk-toggleable\"><input class=\"sk-toggleable__control sk-hidden--visually\" id=\"7a0f6aeb-ec93-490c-b95a-3bc21a625e43\" type=\"checkbox\" ><label class=\"sk-toggleable__label\" for=\"7a0f6aeb-ec93-490c-b95a-3bc21a625e43\">col_trans: ColumnTransformer</label><div class=\"sk-toggleable__content\"><pre>ColumnTransformer(remainder='passthrough',\n",
              "                  transformers=[('category', OrdinalEncoder(),\n",
              "                                 ['income_type', 'edu_type', 'family_type',\n",
              "                                  'house_type'])])</pre></div></div></div><div class=\"sk-parallel\"><div class=\"sk-parallel-item\"><div class=\"sk-item\"><div class=\"sk-label-container\"><div class=\"sk-label sk-toggleable\"><input class=\"sk-toggleable__control sk-hidden--visually\" id=\"f0ddf3a7-c446-4614-9f83-7c6d71b6f763\" type=\"checkbox\" ><label class=\"sk-toggleable__label\" for=\"f0ddf3a7-c446-4614-9f83-7c6d71b6f763\">category</label><div class=\"sk-toggleable__content\"><pre>['income_type', 'edu_type', 'family_type', 'house_type']</pre></div></div></div><div class=\"sk-serial\"><div class=\"sk-item\"><div class=\"sk-estimator sk-toggleable\"><input class=\"sk-toggleable__control sk-hidden--visually\" id=\"48528063-ad15-4a8e-9245-034748320858\" type=\"checkbox\" ><label class=\"sk-toggleable__label\" for=\"48528063-ad15-4a8e-9245-034748320858\">OrdinalEncoder</label><div class=\"sk-toggleable__content\"><pre>OrdinalEncoder()</pre></div></div></div></div></div></div><div class=\"sk-parallel-item\"><div class=\"sk-item\"><div class=\"sk-label-container\"><div class=\"sk-label sk-toggleable\"><input class=\"sk-toggleable__control sk-hidden--visually\" id=\"60f4243a-dae7-4097-8d90-29df60ed741b\" type=\"checkbox\" ><label class=\"sk-toggleable__label\" for=\"60f4243a-dae7-4097-8d90-29df60ed741b\">remainder</label><div class=\"sk-toggleable__content\"><pre>['income_total', 'DAYS_BIRTH', 'DAYS_EMPLOYED', 'FLAG_MOBIL', 'work_phone', 'phone', 'email', 'family_size', 'begin_month']</pre></div></div></div><div class=\"sk-serial\"><div class=\"sk-item\"><div class=\"sk-estimator sk-toggleable\"><input class=\"sk-toggleable__control sk-hidden--visually\" id=\"38f987e5-8edc-4450-a653-94917f661b2f\" type=\"checkbox\" ><label class=\"sk-toggleable__label\" for=\"38f987e5-8edc-4450-a653-94917f661b2f\">passthrough</label><div class=\"sk-toggleable__content\"><pre>passthrough</pre></div></div></div></div></div></div></div></div><div class=\"sk-item\"><div class=\"sk-estimator sk-toggleable\"><input class=\"sk-toggleable__control sk-hidden--visually\" id=\"f28be551-28c4-4221-93cd-4f7eb36294ba\" type=\"checkbox\" ><label class=\"sk-toggleable__label\" for=\"f28be551-28c4-4221-93cd-4f7eb36294ba\">DecisionTreeClassifier</label><div class=\"sk-toggleable__content\"><pre>DecisionTreeClassifier(min_samples_split=1000, random_state=42)</pre></div></div></div></div></div></div></div>"
            ],
            "text/plain": [
              "Pipeline(steps=[('col_trans',\n",
              "                 ColumnTransformer(remainder='passthrough',\n",
              "                                   transformers=[('category', OrdinalEncoder(),\n",
              "                                                  ['income_type', 'edu_type',\n",
              "                                                   'family_type',\n",
              "                                                   'house_type'])])),\n",
              "                ('dt',\n",
              "                 DecisionTreeClassifier(min_samples_split=1000,\n",
              "                                        random_state=42))])"
            ]
          },
          "metadata": {
            "tags": []
          },
          "execution_count": 109
        }
      ]
    },
    {
      "cell_type": "code",
      "metadata": {
        "colab": {
          "base_uri": "https://localhost:8080/"
        },
        "id": "uvZYC6Uck8Ax",
        "outputId": "a1967e46-9431-466e-f789-f3f38fa9d75b"
      },
      "source": [
        "log_loss(y, result_val)"
      ],
      "execution_count": null,
      "outputs": [
        {
          "output_type": "execute_result",
          "data": {
            "text/plain": [
              "0.8323119000925706"
            ]
          },
          "metadata": {
            "tags": []
          },
          "execution_count": 49
        }
      ]
    },
    {
      "cell_type": "markdown",
      "metadata": {
        "id": "sASk80Vn3tHZ"
      },
      "source": [
        "참고자료\n",
        "\n",
        "- [Column Transformer with Mixed Types](https://scikit-learn.org/stable/auto_examples/compose/plot_column_transformer_mixed_types.html)\n",
        "- [Pipelines and composite estimators](https://scikit-learn.org/stable/modules/compose.html)\n"
      ]
    },
    {
      "cell_type": "markdown",
      "metadata": {
        "id": "GYwnqUJeRVar"
      },
      "source": [
        "## 1.10 하이퍼파라미터 최적화\n",
        "\n",
        "![그리드서치](https://trello-attachments.s3.amazonaws.com/5e0d387cd4f8ba5e8f790d8b/5e634450ee4a88284a40a05a/3e9490f6010aa32e74bfde07398ac603/image.png)\n",
        "\n",
        "![](https://i.stack.imgur.com/cIDuR.png)\n",
        "\n",
        "- 출처: [stack exchange](https://stats.stackexchange.com/questions/160479/practical-hyperparameter-optimization-random-vs-grid-search)"
      ]
    },
    {
      "cell_type": "markdown",
      "metadata": {
        "id": "2uvUHi2yh-Se"
      },
      "source": [
        "### 1.10.1 Grid Search"
      ]
    },
    {
      "cell_type": "markdown",
      "metadata": {
        "id": "J-nIG-Z6rHgE"
      },
      "source": [
        "아래 범위로 탐색해보기\n",
        "\n",
        "- `num_leaves`: [31]\n",
        "- `min_child_samples`: [25, 100]\n",
        "- `learning_rate`: [0.01, 0.003]\n",
        "- `early_stopping_rounds`: [10]\n",
        "\n"
      ]
    },
    {
      "cell_type": "code",
      "metadata": {
        "id": "CGIgjO__fGEy"
      },
      "source": [
        "from sklearn.model_selection import GridSearchCV\n",
        "from sklearn.model_selection import train_test_split\n",
        "\n",
        "### num leaves 후보군  개수 * min_child_samples 후보군 개수 * learning_rate 후보군 개수\n",
        "\n",
        "param_grid = {'num_leaves':[31],}\n",
        "###\n",
        "\n",
        "n_fold = 5\n",
        "seed = 42\n",
        "cv = KFold(n_splits=n_fold, shuffle=True, random_state=seed)\n",
        "\n",
        "features = num_features + cat_cols\n",
        "trn = train_cat[features].values\n",
        "y = train['credit'].values\n",
        "tst = test_cat[features].values\n",
        "\n",
        "X_trn, X_val, y_trn, y_val = train_test_split(trn, y, test_size=.2, random_state=seed)\n",
        "\n",
        "model = lgb.LGBMClassifier(random_state=seed, \n",
        "                          n_estimators=150, \n",
        "                          n_jobs=-1)\n",
        "\n",
        "gs = GridSearchCV(estimator=model,\n",
        "            param_grid=param_grid,\n",
        "            scoring='neg_log_loss',\n",
        "            cv=cv, \n",
        "            verbose=1)\n",
        "\n",
        "gs.fit(X_trn, y_trn, eval_set=[(X_val, y_val)], verbose=50)"
      ],
      "execution_count": null,
      "outputs": []
    },
    {
      "cell_type": "code",
      "metadata": {
        "colab": {
          "base_uri": "https://localhost:8080/"
        },
        "id": "GZRnPf9m0Zh0",
        "outputId": "1874517b-a388-46b3-89d1-9f55b441dad3"
      },
      "source": [
        "X_trn, X_val, y_trn, y_val = train_test_split(trn, y, test_size=.2, random_state=seed)\n",
        "X_trn.shape, y_trn.shape"
      ],
      "execution_count": null,
      "outputs": [
        {
          "output_type": "execute_result",
          "data": {
            "text/plain": [
              "((21165, 13), (21165,))"
            ]
          },
          "metadata": {
            "tags": []
          },
          "execution_count": 138
        }
      ]
    },
    {
      "cell_type": "code",
      "metadata": {
        "colab": {
          "base_uri": "https://localhost:8080/"
        },
        "id": "YCVbNEMQfGTG",
        "outputId": "f3ced979-baaf-4935-d4d3-26f612e0b475"
      },
      "source": [
        "gs.best_params_"
      ],
      "execution_count": null,
      "outputs": [
        {
          "output_type": "execute_result",
          "data": {
            "text/plain": [
              "{'early_stopping_rounds': 10,\n",
              " 'learning_rate': 0.01,\n",
              " 'min_child_samples': 25,\n",
              " 'num_leaves': 31}"
            ]
          },
          "metadata": {
            "tags": []
          },
          "execution_count": 139
        }
      ]
    },
    {
      "cell_type": "code",
      "metadata": {
        "colab": {
          "base_uri": "https://localhost:8080/"
        },
        "id": "QQVYZx1Y1qZh",
        "outputId": "2615a080-22fb-4973-b4d2-7614bacc72f7"
      },
      "source": [
        "gs.best_score_"
      ],
      "execution_count": null,
      "outputs": [
        {
          "output_type": "execute_result",
          "data": {
            "text/plain": [
              "-0.8087189644053374"
            ]
          },
          "metadata": {
            "tags": []
          },
          "execution_count": 140
        }
      ]
    },
    {
      "cell_type": "code",
      "metadata": {
        "id": "M1_f0wG4oFZp"
      },
      "source": [
        "import lightgbm as lgb\n",
        "\n",
        "## ordinal 인코딩\n",
        "features = num_features + cat_cols\n",
        "trn = train_cat[features].values\n",
        "y = train['credit'].values\n",
        "tst = test_cat[features].values\n",
        "\n",
        "n_fold = 5\n",
        "seed = 42\n",
        "cv = KFold(n_splits=n_fold, shuffle=True, random_state=seed)\n",
        "\n",
        "result_val = np.zeros((trn.shape[0], 3))\n",
        "result_tst = np.zeros((tst.shape[0], 3))\n",
        "\n",
        "for i, (i_trn, i_val) in enumerate(cv.split(trn)):\n",
        "    print(f'training model for CV #{i}')\n",
        "    ## ** 연산자 사용하기 \n",
        "    model = lgb.LGBMClassifier(**gs.best_params_, n_jobs=-1, random_state=seed, n_estimators=150)\n",
        "    model.fit(trn[i_trn], y[i_trn], \n",
        "              eval_set=[(trn[i_val], y[i_val])], \n",
        "              early_stopping_rounds=10,\n",
        "              verbose=10)\n",
        "    result_val[i_val, :] = model.predict_proba(trn[i_val])\n",
        "    result_tst += model.predict_proba(tst) / n_fold\n",
        "\n",
        "print(log_loss(y, result_val))"
      ],
      "execution_count": null,
      "outputs": []
    },
    {
      "cell_type": "code",
      "metadata": {
        "colab": {
          "base_uri": "https://localhost:8080/"
        },
        "id": "gP-QEZO_odaK",
        "outputId": "97cee62a-ccea-41d1-9f73-0457dc765b38"
      },
      "source": [
        "model"
      ],
      "execution_count": null,
      "outputs": [
        {
          "output_type": "execute_result",
          "data": {
            "text/plain": [
              "LGBMClassifier(boosting_type='gbdt', class_weight=None, colsample_bytree=1.0,\n",
              "               early_stopping_rounds=10, importance_type='split',\n",
              "               learning_rate=0.01, max_depth=-1, min_child_samples=25,\n",
              "               min_child_weight=0.001, min_split_gain=0.0, n_estimators=150,\n",
              "               n_jobs=-1, num_leaves=31, objective=None, random_state=42,\n",
              "               reg_alpha=0.0, reg_lambda=0.0, silent=True, subsample=1.0,\n",
              "               subsample_for_bin=200000, subsample_freq=0)"
            ]
          },
          "metadata": {
            "tags": []
          },
          "execution_count": 146
        }
      ]
    },
    {
      "cell_type": "code",
      "metadata": {
        "colab": {
          "base_uri": "https://localhost:8080/"
        },
        "id": "9G1mT7jb2xY-",
        "outputId": "094fefaf-216e-4dd5-9a17-06def0caff27"
      },
      "source": [
        "gs.best_params_"
      ],
      "execution_count": null,
      "outputs": [
        {
          "output_type": "execute_result",
          "data": {
            "text/plain": [
              "{'early_stopping_rounds': 10,\n",
              " 'learning_rate': 0.01,\n",
              " 'min_child_samples': 25,\n",
              " 'num_leaves': 31}"
            ]
          },
          "metadata": {
            "tags": []
          },
          "execution_count": 127
        }
      ]
    },
    {
      "cell_type": "code",
      "metadata": {
        "id": "6SF-hXpz3VpF"
      },
      "source": [
        "np.savetxt('lgb_cv.txt', result_val, fmt='%.6f', delimiter=',')\n",
        "np.savetxt('lgb_tst.txt', result_tst, fmt='%.6f', delimiter=',')"
      ],
      "execution_count": null,
      "outputs": []
    },
    {
      "cell_type": "markdown",
      "metadata": {
        "id": "743cEmy4os5X"
      },
      "source": [
        "### 1.10.2 Random Search"
      ]
    },
    {
      "cell_type": "code",
      "metadata": {
        "colab": {
          "base_uri": "https://localhost:8080/"
        },
        "id": "f7qrxlfv3Duf",
        "outputId": "7d9eb7b9-fc14-40b7-9d78-5f17184a32ef"
      },
      "source": [
        "for i in range(10, 100, 10):\n",
        "    print(i)"
      ],
      "execution_count": null,
      "outputs": [
        {
          "output_type": "stream",
          "text": [
            "10\n",
            "20\n",
            "30\n",
            "40\n",
            "50\n",
            "60\n",
            "70\n",
            "80\n",
            "90\n"
          ],
          "name": "stdout"
        }
      ]
    },
    {
      "cell_type": "code",
      "metadata": {
        "id": "vJ9CFTlZosev"
      },
      "source": [
        "from sklearn.model_selection import RandomizedSearchCV\n",
        "from sklearn.model_selection import train_test_split\n",
        "\n",
        "###\n",
        "param_grid = {'num_leaves':range(18, 30, 5), \n",
        "              'min_child_samples':range(10, 100, 10),\n",
        "              'learning_rate':[0.03, 0.01, 0.003],\n",
        "              'early_stopping_rounds':[10]}\n",
        "###\n",
        "\n",
        "n_fold = 5\n",
        "seed = 42\n",
        "cv = KFold(n_splits=n_fold, shuffle=True, random_state=seed)\n",
        "\n",
        "features = num_features + cat_cols\n",
        "trn = train_cat[features].values\n",
        "y = train['credit'].values\n",
        "tst = test_cat[features].values\n",
        "\n",
        "X_trn, X_val, y_trn, y_val = train_test_split(trn, y, test_size=.2, random_state=seed)\n",
        "\n",
        "model = lgb.LGBMClassifier(random_state=seed, \n",
        "                          n_estimators=150, \n",
        "                          n_jobs=-1)\n",
        "\n",
        "rs = RandomizedSearchCV(estimator=model,\n",
        "            param_distributions=param_grid,\n",
        "            n_iter=4,\n",
        "            scoring='neg_log_loss',\n",
        "            cv=cv, \n",
        "            verbose=1)\n",
        "\n",
        "rs.fit(X_trn, y_trn, eval_set=[(X_val, y_val)], verbose=50)"
      ],
      "execution_count": null,
      "outputs": []
    },
    {
      "cell_type": "code",
      "metadata": {
        "colab": {
          "base_uri": "https://localhost:8080/"
        },
        "id": "prbcbpeCtCti",
        "outputId": "6fc42feb-6c3d-4999-afc8-f6c9ace7b346"
      },
      "source": [
        "rs.best_params_"
      ],
      "execution_count": null,
      "outputs": [
        {
          "output_type": "execute_result",
          "data": {
            "text/plain": [
              "{'early_stopping_rounds': 10,\n",
              " 'learning_rate': 0.03,\n",
              " 'min_child_samples': 20,\n",
              " 'num_leaves': 18}"
            ]
          },
          "metadata": {
            "tags": []
          },
          "execution_count": 116
        }
      ]
    },
    {
      "cell_type": "code",
      "metadata": {
        "colab": {
          "base_uri": "https://localhost:8080/"
        },
        "id": "qu6kdr0qtBM7",
        "outputId": "13d6a02e-793e-456a-91d0-a33a490769a1"
      },
      "source": [
        "rs.best_score_"
      ],
      "execution_count": null,
      "outputs": [
        {
          "output_type": "execute_result",
          "data": {
            "text/plain": [
              "-0.7928320839685943"
            ]
          },
          "metadata": {
            "tags": []
          },
          "execution_count": 117
        }
      ]
    },
    {
      "cell_type": "markdown",
      "metadata": {
        "id": "hthHKzaZRXWo"
      },
      "source": [
        "## 1.11 앙상블"
      ]
    },
    {
      "cell_type": "markdown",
      "metadata": {
        "id": "7TzKm9Wj1lO7"
      },
      "source": [
        "linear regression, random forest, lightgbm 예측값을 평균내어 결합해보겠습니다. "
      ]
    },
    {
      "cell_type": "code",
      "metadata": {
        "id": "jc7bkkaY1knO"
      },
      "source": [
        "lr_cv = np.loadtxt('logistic_cv.txt', delimiter=',')\n",
        "rf_cv = np.loadtxt('rf_cv.txt', delimiter=',')\n",
        "lgb_cv = np.loadtxt('lgb_cv.txt', delimiter=',')\n",
        "\n",
        "lr_tst = np.loadtxt('logistic_tst.txt', delimiter=',')\n",
        "rf_tst = np.loadtxt('rf_tst.txt', delimiter=',')\n",
        "lgb_tst = np.loadtxt('lgb_tst.txt', delimiter=',')\n"
      ],
      "execution_count": null,
      "outputs": []
    },
    {
      "cell_type": "code",
      "metadata": {
        "id": "u16uKIHb31KN"
      },
      "source": [
        "y_pred = (lr_cv + rf_cv + lgb_cv) / 3"
      ],
      "execution_count": null,
      "outputs": []
    },
    {
      "cell_type": "code",
      "metadata": {
        "id": "jCQ35k964W2g",
        "colab": {
          "base_uri": "https://localhost:8080/"
        },
        "outputId": "33cc01c6-4bdb-48af-9124-1a09983e5b15"
      },
      "source": [
        "y_pred"
      ],
      "execution_count": null,
      "outputs": [
        {
          "output_type": "execute_result",
          "data": {
            "text/plain": [
              "array([[0.14163867, 0.179803  , 0.67855833],\n",
              "       [0.203124  , 0.20686967, 0.59000667],\n",
              "       [0.11025367, 0.156837  , 0.73290933],\n",
              "       ...,\n",
              "       [0.14474767, 0.24846867, 0.60678367],\n",
              "       [0.134467  , 0.21837833, 0.64715467],\n",
              "       [0.092626  , 0.18187867, 0.725495  ]])"
            ]
          },
          "metadata": {
            "tags": []
          },
          "execution_count": 131
        }
      ]
    },
    {
      "cell_type": "code",
      "metadata": {
        "colab": {
          "base_uri": "https://localhost:8080/"
        },
        "id": "TMxsIKod4aVB",
        "outputId": "f3134582-237c-4686-c406-cdea956771d5"
      },
      "source": [
        "y.shape, y_pred.shape"
      ],
      "execution_count": null,
      "outputs": [
        {
          "output_type": "execute_result",
          "data": {
            "text/plain": [
              "((26457,), (26457, 3))"
            ]
          },
          "metadata": {
            "tags": []
          },
          "execution_count": 132
        }
      ]
    },
    {
      "cell_type": "code",
      "metadata": {
        "colab": {
          "base_uri": "https://localhost:8080/"
        },
        "id": "Olj1JH0B38g2",
        "outputId": "73964de9-631a-4b80-b26b-3f0e522f3a59"
      },
      "source": [
        "log_loss(y, y_pred)"
      ],
      "execution_count": null,
      "outputs": [
        {
          "output_type": "execute_result",
          "data": {
            "text/plain": [
              "0.7943893138007067"
            ]
          },
          "metadata": {
            "tags": []
          },
          "execution_count": 133
        }
      ]
    },
    {
      "cell_type": "code",
      "metadata": {
        "id": "4Aq9hXNK4kum"
      },
      "source": [
        "y_tst_pred = (lr_tst + rf_tst + lgb_tst) / 3"
      ],
      "execution_count": null,
      "outputs": []
    },
    {
      "cell_type": "code",
      "metadata": {
        "colab": {
          "base_uri": "https://localhost:8080/"
        },
        "id": "luqKGeOZ4ryB",
        "outputId": "231b2678-2257-4459-80a7-043063fc22df"
      },
      "source": [
        "y_tst_pred.shape"
      ],
      "execution_count": null,
      "outputs": [
        {
          "output_type": "execute_result",
          "data": {
            "text/plain": [
              "(10000, 3)"
            ]
          },
          "metadata": {
            "tags": []
          },
          "execution_count": 135
        }
      ]
    },
    {
      "cell_type": "code",
      "metadata": {
        "colab": {
          "base_uri": "https://localhost:8080/",
          "height": 205
        },
        "id": "SVHqM9ic4uU2",
        "outputId": "cb9ff351-d0a6-4bbe-b7c2-98a507c72947"
      },
      "source": [
        "submission.head()"
      ],
      "execution_count": null,
      "outputs": [
        {
          "output_type": "execute_result",
          "data": {
            "text/html": [
              "<div>\n",
              "<style scoped>\n",
              "    .dataframe tbody tr th:only-of-type {\n",
              "        vertical-align: middle;\n",
              "    }\n",
              "\n",
              "    .dataframe tbody tr th {\n",
              "        vertical-align: top;\n",
              "    }\n",
              "\n",
              "    .dataframe thead th {\n",
              "        text-align: right;\n",
              "    }\n",
              "</style>\n",
              "<table border=\"1\" class=\"dataframe\">\n",
              "  <thead>\n",
              "    <tr style=\"text-align: right;\">\n",
              "      <th></th>\n",
              "      <th>index</th>\n",
              "      <th>0</th>\n",
              "      <th>1</th>\n",
              "      <th>2</th>\n",
              "    </tr>\n",
              "  </thead>\n",
              "  <tbody>\n",
              "    <tr>\n",
              "      <th>0</th>\n",
              "      <td>26457</td>\n",
              "      <td>0</td>\n",
              "      <td>0</td>\n",
              "      <td>0</td>\n",
              "    </tr>\n",
              "    <tr>\n",
              "      <th>1</th>\n",
              "      <td>26458</td>\n",
              "      <td>0</td>\n",
              "      <td>0</td>\n",
              "      <td>0</td>\n",
              "    </tr>\n",
              "    <tr>\n",
              "      <th>2</th>\n",
              "      <td>26459</td>\n",
              "      <td>0</td>\n",
              "      <td>0</td>\n",
              "      <td>0</td>\n",
              "    </tr>\n",
              "    <tr>\n",
              "      <th>3</th>\n",
              "      <td>26460</td>\n",
              "      <td>0</td>\n",
              "      <td>0</td>\n",
              "      <td>0</td>\n",
              "    </tr>\n",
              "    <tr>\n",
              "      <th>4</th>\n",
              "      <td>26461</td>\n",
              "      <td>0</td>\n",
              "      <td>0</td>\n",
              "      <td>0</td>\n",
              "    </tr>\n",
              "  </tbody>\n",
              "</table>\n",
              "</div>"
            ],
            "text/plain": [
              "   index  0  1  2\n",
              "0  26457  0  0  0\n",
              "1  26458  0  0  0\n",
              "2  26459  0  0  0\n",
              "3  26460  0  0  0\n",
              "4  26461  0  0  0"
            ]
          },
          "metadata": {
            "tags": []
          },
          "execution_count": 136
        }
      ]
    },
    {
      "cell_type": "code",
      "metadata": {
        "id": "n3loxSnB4wa2"
      },
      "source": [
        "submission.iloc[:, 1:] = y_tst_pred"
      ],
      "execution_count": null,
      "outputs": []
    },
    {
      "cell_type": "code",
      "metadata": {
        "colab": {
          "base_uri": "https://localhost:8080/",
          "height": 205
        },
        "id": "011Gh5WS47IB",
        "outputId": "063102e5-6adc-4c54-99a7-79f8b851abc6"
      },
      "source": [
        "submission.head()"
      ],
      "execution_count": null,
      "outputs": [
        {
          "output_type": "execute_result",
          "data": {
            "text/html": [
              "<div>\n",
              "<style scoped>\n",
              "    .dataframe tbody tr th:only-of-type {\n",
              "        vertical-align: middle;\n",
              "    }\n",
              "\n",
              "    .dataframe tbody tr th {\n",
              "        vertical-align: top;\n",
              "    }\n",
              "\n",
              "    .dataframe thead th {\n",
              "        text-align: right;\n",
              "    }\n",
              "</style>\n",
              "<table border=\"1\" class=\"dataframe\">\n",
              "  <thead>\n",
              "    <tr style=\"text-align: right;\">\n",
              "      <th></th>\n",
              "      <th>index</th>\n",
              "      <th>0</th>\n",
              "      <th>1</th>\n",
              "      <th>2</th>\n",
              "    </tr>\n",
              "  </thead>\n",
              "  <tbody>\n",
              "    <tr>\n",
              "      <th>0</th>\n",
              "      <td>26457</td>\n",
              "      <td>0.094836</td>\n",
              "      <td>0.183996</td>\n",
              "      <td>0.721168</td>\n",
              "    </tr>\n",
              "    <tr>\n",
              "      <th>1</th>\n",
              "      <td>26458</td>\n",
              "      <td>0.123213</td>\n",
              "      <td>0.178404</td>\n",
              "      <td>0.698383</td>\n",
              "    </tr>\n",
              "    <tr>\n",
              "      <th>2</th>\n",
              "      <td>26459</td>\n",
              "      <td>0.109112</td>\n",
              "      <td>0.172679</td>\n",
              "      <td>0.718208</td>\n",
              "    </tr>\n",
              "    <tr>\n",
              "      <th>3</th>\n",
              "      <td>26460</td>\n",
              "      <td>0.107137</td>\n",
              "      <td>0.171431</td>\n",
              "      <td>0.721432</td>\n",
              "    </tr>\n",
              "    <tr>\n",
              "      <th>4</th>\n",
              "      <td>26461</td>\n",
              "      <td>0.115829</td>\n",
              "      <td>0.206099</td>\n",
              "      <td>0.678072</td>\n",
              "    </tr>\n",
              "  </tbody>\n",
              "</table>\n",
              "</div>"
            ],
            "text/plain": [
              "   index         0         1         2\n",
              "0  26457  0.094836  0.183996  0.721168\n",
              "1  26458  0.123213  0.178404  0.698383\n",
              "2  26459  0.109112  0.172679  0.718208\n",
              "3  26460  0.107137  0.171431  0.721432\n",
              "4  26461  0.115829  0.206099  0.678072"
            ]
          },
          "metadata": {
            "tags": []
          },
          "execution_count": 138
        }
      ]
    },
    {
      "cell_type": "code",
      "metadata": {
        "id": "FunN8uBV4-h3"
      },
      "source": [
        "submission.to_csv('submission.csv', index=False)"
      ],
      "execution_count": null,
      "outputs": []
    },
    {
      "cell_type": "markdown",
      "metadata": {
        "id": "zSsW7zACRZ0E"
      },
      "source": [
        "짧은 시간내 많은 개념들을 살펴보느라 혼란스러울 수도 있습니다. 개인 시간에 참고자료들을 활용해서 천천히 하나씩 개념을 복습하고 학습하시길 권장드립니다. \n",
        "\n",
        "하나씩 천천히 해내간다면 분명 좋은 결과가 있으리라 확신합니다. 감사합니다. "
      ]
    }
  ]
}