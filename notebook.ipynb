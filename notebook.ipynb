{
  "nbformat": 4,
  "nbformat_minor": 0,
  "metadata": {
    "colab": {
      "name": "notebook.ipynb",
      "provenance": [],
      "collapsed_sections": [
        "9IAx7pkThN8z"
      ]
    },
    "kernelspec": {
      "display_name": "Python 3",
      "language": "python",
      "name": "python3"
    },
    "language_info": {
      "codemirror_mode": {
        "name": "ipython",
        "version": 3
      },
      "file_extension": ".py",
      "mimetype": "text/x-python",
      "name": "python",
      "nbconvert_exporter": "python",
      "pygments_lexer": "ipython3",
      "version": "3.8.5"
    }
  },
  "cells": [
    {
      "cell_type": "markdown",
      "metadata": {
        "id": "HXO69Xc02m8C"
      },
      "source": [
        "# 1. 2021-06 제주대학교 파이썬을 활용한 머신러닝 응용"
      ]
    },
    {
      "cell_type": "markdown",
      "metadata": {
        "id": "CXi4iNNx4x5b"
      },
      "source": [
        "[![Open In Colab](https://colab.research.google.com/assets/colab-badge.svg)](https://colab.research.google.com/github/SDSTony/2021-JNU-ML-lab-session/blob/main/notebook.ipynb)\n"
      ]
    },
    {
      "cell_type": "markdown",
      "metadata": {
        "id": "qqNkDlCW2s5d"
      },
      "source": [
        "강사: 안성진 <img src=\"https://github.com/kaggler-tv/dku-kaggle-class/blob/master/course-website/imgs/Sungjin.png?raw=true\" width=\"5%\" height=\"7%\">"
      ]
    },
    {
      "cell_type": "markdown",
      "metadata": {
        "id": "sqcMl5gAt6Qo"
      },
      "source": [
        "## 1.1 데이터과학 대회 소개"
      ]
    },
    {
      "cell_type": "markdown",
      "metadata": {
        "id": "uKPo82WWt6Qo"
      },
      "source": [
        "- 데이터과학 대회: **주어진 기간** 동안 모델의 성능을 **경쟁적으로** 높이는 **배움의 장**\n",
        "    - `주어진 기간`: 대회 기간\n",
        "        - 종료된 대회 참여시 기한 없음\n",
        "    - `경쟁적으로`: 참가자들과 공개 리더보드를 통한 경쟁\n",
        "        - 나의 현재 위치를 확인하며 지속적인 동기부여와 성취감\n",
        "    - `배움의 장`: 다양한 데이터에 여러 머신러닝 기법을 적용해보면서 배우는 PBL(Project Based Learning)\n",
        "\n",
        "- 참가 이유\n",
        "\n",
        "    - 재미, 배움, **경력 개발**을 실현할 수 있는 기회\n",
        "    ![image.png](https://drive.google.com/uc?id=1DdVFF_PXr3fAcCsZgiS6LK7TgDWM8ZFB) \n",
        "        - 대회 출전자/수상자 우대 예시 1\n",
        "\n",
        "    ![image.png](https://drive.google.com/uc?id=1tzGofJu2h7Hmd6VlaO4DCYPEH_fmDPZq)\n",
        "        - 대회 출전자/수상자 우대 예시 2\n",
        "    - 나의 가설이 맞았을 때 느끼는 카타르시스\n",
        "\n",
        "\n"
      ]
    },
    {
      "cell_type": "markdown",
      "metadata": {
        "id": "mFzd5W7At6Qp"
      },
      "source": [
        "## 1.2 머신러닝 파이프라인/실험과정 소개"
      ]
    },
    {
      "cell_type": "markdown",
      "metadata": {
        "id": "2iFmJPFgt6Qp"
      },
      "source": [
        "- 데이터과학 대회(머신러닝 응용 프로젝트)를 위한 모델 구축 파이프라인은 아래와 같습니다. \n",
        "\n",
        "![image.png](https://drive.google.com/uc?id=1eoPn1YGwWs1wIHYKXsaVdzagbgSabH0y)\n",
        "\n",
        "- 먼저 데이터를 불러옵니다. \n",
        "- 불러온 데이터에 대한 탐색을 진행합니다. \n",
        "- 간단한 베이스라인 모델을 구축합니다. \n",
        "- 최적의 모델 탐색 과정을 반복하여 모델의 성능을 고도화 합니다. \n",
        "- 최종 모델을 산출합니다. "
      ]
    },
    {
      "cell_type": "code",
      "metadata": {
        "id": "6GEYijohW9CW"
      },
      "source": [
        "# 한글폰트 사용 in colab #출처: https://velog.io/@jonsyou/colabsetting1\n",
        "%matplotlib inline  \n",
        "\n",
        "import matplotlib as mpl \n",
        "import matplotlib.pyplot as plt \n",
        "import matplotlib.font_manager as fm  \n",
        "\n",
        "!apt-get update -qq\n",
        "!apt-get install fonts-nanum* -qq\n",
        "\n",
        "path = '/usr/share/fonts/truetype/nanum/NanumBarunGothic.ttf' \n",
        "font_name = fm.FontProperties(fname=path, size=10).get_name()\n",
        "print(font_name)\n",
        "plt.rc('font', family=font_name)\n",
        "\n",
        "fm._rebuild()\n",
        "mpl.rcParams['axes.unicode_minus'] = False"
      ],
      "execution_count": null,
      "outputs": []
    },
    {
      "cell_type": "markdown",
      "metadata": {
        "id": "daQNZy93bSg4"
      },
      "source": [
        "1. 위 코드를 한번 실행 시킨다\n",
        "2. 런타임 > 런타임 다시 시작 을 누른다.\n",
        "3. 다시 한번 더 위 코드를 실행 시킨다. "
      ]
    },
    {
      "cell_type": "code",
      "metadata": {
        "id": "k8lHjMI2sQGT"
      },
      "source": [
        "!pip install -U scikit-learn"
      ],
      "execution_count": null,
      "outputs": []
    },
    {
      "cell_type": "markdown",
      "metadata": {
        "id": "q0cR7t3V2xH6"
      },
      "source": [
        "## 1.3 Pandas 탐색\n"
      ]
    },
    {
      "cell_type": "code",
      "metadata": {
        "id": "3qOP9c2Iv2jh",
        "colab": {
          "base_uri": "https://localhost:8080/"
        },
        "outputId": "74dca493-f27a-45b5-9af5-29fd84102863"
      },
      "source": [
        "# 데이터 접근을 위해 구글 드라이브에 연결\n",
        "# 데이터는 본인 구글 드라이브에 업로드\n",
        "# https://chancoding.tistory.com/103 참고\n",
        "from google.colab import drive\n",
        "drive.mount('/content/drive')"
      ],
      "execution_count": 2,
      "outputs": [
        {
          "output_type": "stream",
          "text": [
            "Mounted at /content/drive\n"
          ],
          "name": "stdout"
        }
      ]
    },
    {
      "cell_type": "code",
      "metadata": {
        "id": "pb0OD3v82lnT"
      },
      "source": [
        "import pandas as pd "
      ],
      "execution_count": 3,
      "outputs": []
    },
    {
      "cell_type": "code",
      "metadata": {
        "id": "RzzCqQ8i1Vu7"
      },
      "source": [
        "# 데이터 불러오기\n",
        "path = '/content/drive/MyDrive/04. 데이콘/09. 데이콘 제주대 2021/data'\n",
        "train = pd.read_csv(path + '/train.csv')\n",
        "# 실습\n",
        "test = pd.read_csv(path + '/test.csv')\n",
        "submission = pd.read_csv(path + '/sample_submission.csv')"
      ],
      "execution_count": 4,
      "outputs": []
    },
    {
      "cell_type": "markdown",
      "metadata": {
        "id": "SeMTXuTthA6s"
      },
      "source": [
        "#### pd.DataFrame.head()"
      ]
    },
    {
      "cell_type": "code",
      "metadata": {
        "id": "7ivpXAVykQhp"
      },
      "source": [
        "train.head()"
      ],
      "execution_count": null,
      "outputs": []
    },
    {
      "cell_type": "code",
      "metadata": {
        "id": "Lxo9k86b41Bs"
      },
      "source": [
        "train.tail()"
      ],
      "execution_count": null,
      "outputs": []
    },
    {
      "cell_type": "markdown",
      "metadata": {
        "id": "6LcH-7xT1WTq"
      },
      "source": [
        "- 전처리 할 수 있는 것들\n",
        "    - 문자열 컬럼\n",
        "        - ordinal 인코딩\n",
        "        - one-hot 인코딩\n",
        "        - etc.\n",
        "    - 음수로 입력된 컬럼\n",
        "    - 결측값\n",
        "        - 최빈값\n",
        "        - 제거\n",
        "        - etc.\n",
        "- 여러 실험/가설들을 생각해볼 수 있음"
      ]
    },
    {
      "cell_type": "code",
      "metadata": {
        "id": "1lmSoJUHgwkF"
      },
      "source": [
        "test.head()"
      ],
      "execution_count": null,
      "outputs": []
    },
    {
      "cell_type": "code",
      "metadata": {
        "id": "9Q6R3QIlg1T2"
      },
      "source": [
        "submission.head()"
      ],
      "execution_count": null,
      "outputs": []
    },
    {
      "cell_type": "markdown",
      "metadata": {
        "id": "9IAx7pkThN8z"
      },
      "source": [
        "#### log loss\n",
        "\n",
        "- 분류 모델 평가 시 사용\n",
        "- 모델이 예측한 확률을 직접적으로 반영하여 계산\n",
        "\n",
        "    - 예시) 3 곱하기 5는? (1점)\n",
        "\n",
        "|        | 학생 A | 학생 B |\n",
        "| ------ | ------ | ------ |\n",
        "| (1) 15 |**0.99**   | **0.2**   |\n",
        "| (2) 2  | 0      | 0.2    |\n",
        "| (3) 8  | 0.01   | 0.2    |\n",
        "| (4) 1  | 0      | 0.2    |\n",
        "| (5) -2 | 0      | 0.2    |\n",
        "\n",
        "- 학생 A, 학생 B 모두 1번을 선택했으나 학생 A는 확신에 찬 상태로 선택했으며 학생 B는 찍었음\n",
        "- accuracy(정확도)로 평가를 하게 되면 맞춘 여부만 고려하기 때문에 두 학생 모두 1점을 획득\n",
        "- 확률 값으로 점수를 매기면 학생 A는 0.99점, 학생 B는 0.2점을 획득\n",
        "- log loss는 확률 값을 음의 로그 취한뒤 평균을 산출\n",
        "\n",
        "![](https://miro.medium.com/max/1162/0*i2_eUc_t8A1EJObd.png)\n",
        "- 출처: [medium](https://medium.com/usf-msds/choosing-the-right-metric-for-evaluating-machine-learning-models-part-2-86d5649a5428)\n",
        "\n",
        "- **참고)** 모델 평가시에는 확률값 산출이 가능하지만, 현실 세계에서는 학생이 해당 답을 선택한 확률을 알기 어려움\n",
        "- [log loss에 대해 알아보자 영상](https://www.youtube.com/watch?v=i5U2inxzXx4) 참고\n"
      ]
    },
    {
      "cell_type": "markdown",
      "metadata": {
        "id": "S2N02puchEcw"
      },
      "source": [
        "#### pd.DataFrame.shape"
      ]
    },
    {
      "cell_type": "code",
      "metadata": {
        "id": "NF7F3UfSxr3g"
      },
      "source": [
        "train.shape, test.shape, submission.shape"
      ],
      "execution_count": null,
      "outputs": []
    },
    {
      "cell_type": "markdown",
      "metadata": {
        "id": "luXBMI8ShG9q"
      },
      "source": [
        "#### pd.DataFrame.info()"
      ]
    },
    {
      "cell_type": "code",
      "metadata": {
        "id": "Em0NvFjox7PT"
      },
      "source": [
        "train.info()"
      ],
      "execution_count": null,
      "outputs": []
    },
    {
      "cell_type": "markdown",
      "metadata": {
        "id": "FdiFC9j5vdkc"
      },
      "source": [
        "#### pd.DataFrame.select_dtypes(include=[ ])"
      ]
    },
    {
      "cell_type": "markdown",
      "metadata": {
        "id": "GenYP0z_lLjP"
      },
      "source": [
        "- object: 문자열\n",
        "- int64, float64: 정수, 실수"
      ]
    },
    {
      "cell_type": "code",
      "metadata": {
        "id": "q4roPSAJhNEw"
      },
      "source": [
        "train.select_dtypes(include=['object'])"
      ],
      "execution_count": null,
      "outputs": []
    },
    {
      "cell_type": "code",
      "metadata": {
        "id": "HIwgR7qQlE-C"
      },
      "source": [
        "train.select_dtypes(include=['int64', 'float64'])"
      ],
      "execution_count": null,
      "outputs": []
    },
    {
      "cell_type": "markdown",
      "metadata": {
        "id": "72T5cYGo3NA-"
      },
      "source": [
        "#### pd.DataFrame.groupby()"
      ]
    },
    {
      "cell_type": "code",
      "metadata": {
        "id": "vXVqTLgavx-C"
      },
      "source": [
        "train[['occyp_type', 'credit']].groupby(['occyp_type']).mean().sort_values(by='credit')"
      ],
      "execution_count": null,
      "outputs": []
    },
    {
      "cell_type": "markdown",
      "metadata": {
        "id": "XAwfVs2nk0MI"
      },
      "source": [
        "Q. edu_type 범주별 credit의 평균을 오름차순으로 나렬하시오."
      ]
    },
    {
      "cell_type": "code",
      "metadata": {
        "id": "JTJJp2zrkzfo"
      },
      "source": [
        ""
      ],
      "execution_count": null,
      "outputs": []
    },
    {
      "cell_type": "markdown",
      "metadata": {
        "id": "-68Vc5fQ3Qxd"
      },
      "source": [
        "#### pd.DataFrame.agg()"
      ]
    },
    {
      "cell_type": "code",
      "metadata": {
        "id": "6C4unaOSw6Qe"
      },
      "source": [
        "train[['occyp_type', 'credit']].groupby(['occyp_type']).agg(['mean', 'count', 'min', 'max']).droplevel(level=0, axis=1)"
      ],
      "execution_count": null,
      "outputs": []
    },
    {
      "cell_type": "markdown",
      "metadata": {
        "id": "JcO5N6hEAP7G"
      },
      "source": [
        "#### pd.DataFrame.describe()"
      ]
    },
    {
      "cell_type": "code",
      "metadata": {
        "id": "xqcP_IGfXw_3"
      },
      "source": [
        "train.describe()"
      ],
      "execution_count": null,
      "outputs": []
    },
    {
      "cell_type": "markdown",
      "metadata": {
        "id": "3Rp_rCW-lXY1"
      },
      "source": [
        "#### pd.DataFrame.plot()\n",
        "\n",
        "- pandas만 사용해서 기본적인 시각화 가능\n",
        "- 인사이트를 도출하기 위해 사용"
      ]
    },
    {
      "cell_type": "markdown",
      "metadata": {
        "id": "xxQm6H33VA0a"
      },
      "source": [
        "kind : str\n",
        "\n",
        "- `line` : line plot (default)\n",
        "- `bar` : vertical bar plot\n",
        "- `barh` : horizontal bar plot\n",
        "- `hist` : histogram\n",
        "- `box` : boxplot\n",
        "- `scatter` : scatter plot"
      ]
    },
    {
      "cell_type": "code",
      "metadata": {
        "id": "-VK46wnOubmm"
      },
      "source": [
        "train.plot(x='child_num', y='credit', kind='scatter')"
      ],
      "execution_count": null,
      "outputs": []
    },
    {
      "cell_type": "code",
      "metadata": {
        "id": "HNfh88amxd8m"
      },
      "source": [
        "train.plot(x='DAYS_EMPLOYED', y='DAYS_BIRTH', kind='scatter', alpha=0.2)"
      ],
      "execution_count": null,
      "outputs": []
    },
    {
      "cell_type": "markdown",
      "metadata": {
        "id": "Vfu5JJNty1P7"
      },
      "source": [
        "- 데이터 탐색 과정에서 데이터에 대한 이해도 증가\n",
        "    - 위 예시에서는 이상치 발견\n",
        "\n",
        "- 도메인 지식이 없을 때는 모든 컬럼을 하나씩 탐색 하면서 인사이트 도출, 이상치 탐지, 실험 아이디어 기록을 하게 되서, 일반적으로 가장 많이 시간 투자하는 단계\n",
        "\n",
        "- 도메인 지식을 알고 있으면 효율적인 탐색 시작 위치를 알고 있기 때문에 탐색 시간이 줄어들 수 있음"
      ]
    },
    {
      "cell_type": "code",
      "metadata": {
        "id": "PMp6Zpeezaz-"
      },
      "source": [
        "train[train['DAYS_EMPLOYED'] < 0].plot(x='DAYS_EMPLOYED', y='DAYS_BIRTH', kind='scatter', alpha=0.01)"
      ],
      "execution_count": null,
      "outputs": []
    },
    {
      "cell_type": "code",
      "metadata": {
        "id": "2PkiORymyESx"
      },
      "source": [
        "train['DAYS_EMPLOYED'].describe()"
      ],
      "execution_count": null,
      "outputs": []
    },
    {
      "cell_type": "code",
      "metadata": {
        "id": "s0Z8nvEbyWaw"
      },
      "source": [
        "train[train['DAYS_EMPLOYED'] > 0]['DAYS_EMPLOYED'].unique()"
      ],
      "execution_count": null,
      "outputs": []
    },
    {
      "cell_type": "markdown",
      "metadata": {
        "id": "xxRH1cOl1rdX"
      },
      "source": [
        "#### 튜토리얼 보면서, 본인 데이터에 적용해보기\n",
        "\n",
        "- 일반적으로 시각화를 할 때 다양한 기능을 외우는 것도 좋지만, 공식 문서를 함께 참조하여 사용합니다. \n",
        "- 시각화를 할 때 다양한 공개 문서를 참조하여 본인 데이터에 적용하는 방법을 실습해보겠습니다. \n",
        "- 함수가 입력받는 데이터 형태를 확인\n",
        "- [공개된 코드 예시](https://pandas.pydata.org/pandas-docs/stable/user_guide/visualization.html)\n"
      ]
    },
    {
      "cell_type": "code",
      "metadata": {
        "id": "uDCfcyz6Nxgr"
      },
      "source": [
        "import numpy as np \n",
        "\n",
        "df2 = pd.DataFrame(np.random.rand(10, 4), columns=[\"a\", \"b\", \"c\", \"d\"])\n",
        "df2.plot.bar()"
      ],
      "execution_count": null,
      "outputs": []
    },
    {
      "cell_type": "code",
      "metadata": {
        "id": "PnL9bbDlOOIr"
      },
      "source": [
        "df2"
      ],
      "execution_count": null,
      "outputs": []
    },
    {
      "cell_type": "code",
      "metadata": {
        "id": "eq13jmnK2dTo"
      },
      "source": [
        "train[['edu_type', 'credit']].value_counts().reset_index().pivot(index='edu_type', columns='credit', values=0).plot.barh()"
      ],
      "execution_count": null,
      "outputs": []
    },
    {
      "cell_type": "markdown",
      "metadata": {
        "id": "wnFON6qMTh8i"
      },
      "source": [
        "참고자료\n",
        "\n",
        "- [Pandas 10분 완성](https://dataitgirls2.github.io/10minutes2pandas/)\n",
        "    - [데잇걸즈](https://dataitgirls3.github.io/) 단체에서 번역한 pandas 튜토리얼\n",
        "- [Pandas 공식 튜토리얼](https://pandas.pydata.org/docs/user_guide/cookbook.html#cookbook)\n",
        "    - Pandas 공식 홈페이지에서 제공하는 문서\n",
        "\n",
        "- [Pandas 공식 시각화 튜토리얼](https://pandas.pydata.org/pandas-docs/stable/user_guide/visualization.html)"
      ]
    },
    {
      "cell_type": "markdown",
      "metadata": {
        "id": "dNSKkUl1PKZs"
      },
      "source": [
        "## 1.4 Matplotlib, Seaborn 탐색"
      ]
    },
    {
      "cell_type": "code",
      "metadata": {
        "id": "POCXcnKrTfrs"
      },
      "source": [
        "import matplotlib.pyplot as plt\n",
        "import seaborn as sns"
      ],
      "execution_count": null,
      "outputs": []
    },
    {
      "cell_type": "code",
      "metadata": {
        "id": "oilihBGjUebo"
      },
      "source": [
        "train.head()"
      ],
      "execution_count": null,
      "outputs": []
    },
    {
      "cell_type": "markdown",
      "metadata": {
        "id": "GZJT2XbgR4bU"
      },
      "source": [
        "[샘플 코드](https://www.python-graph-gallery.com/basic-barplot-with-seaborn) 확인 후 `occyp_type`별 `credit`의 평균을 막대그리프로 시각화 해보기 (estimator는 np.mean 으로 설정)"
      ]
    },
    {
      "cell_type": "code",
      "metadata": {
        "colab": {
          "base_uri": "https://localhost:8080/",
          "height": 466
        },
        "id": "H4QqB8P7iZ8_",
        "outputId": "ed8730c0-c475-4272-dc58-c54c6ae18a7a"
      },
      "source": [
        "# import libraries\n",
        "import seaborn as sns\n",
        "import matplotlib.pyplot as plt\n",
        "\n",
        "# set plot style: grey grid in the background:\n",
        "sns.set(style=\"darkgrid\")\n",
        "\n",
        "# load dataset\n",
        "tips = sns.load_dataset(\"tips\")\n",
        "\n",
        "# Set the figure size\n",
        "plt.figure(figsize=(10, 7))\n",
        "\n",
        "# plot a bar chart\n",
        "sns.barplot(\n",
        "    x=\"total_bill\", \n",
        "    y=\"day\", \n",
        "    data=tips, \n",
        "    estimator=sum, \n",
        "    ci=None)"
      ],
      "execution_count": 9,
      "outputs": [
        {
          "output_type": "execute_result",
          "data": {
            "text/plain": [
              "<matplotlib.axes._subplots.AxesSubplot at 0x7f6839c491d0>"
            ]
          },
          "metadata": {
            "tags": []
          },
          "execution_count": 9
        },
        {
          "output_type": "display_data",
          "data": {
            "image/png": "[encoded data removed]",
            "text/plain": [
              "<Figure size 720x504 with 1 Axes>"
            ]
          },
          "metadata": {
            "tags": []
          }
        }
      ]
    },
    {
      "cell_type": "code",
      "metadata": {
        "id": "x0SwpfCSCKWf"
      },
      "source": [
        ""
      ],
      "execution_count": null,
      "outputs": []
    },
    {
      "cell_type": "code",
      "metadata": {
        "id": "NhQBQx4kUkxz",
        "colab": {
          "base_uri": "https://localhost:8080/",
          "height": 303
        },
        "outputId": "87635ab5-5cba-4838-b7e5-22ca2f5b8d3b"
      },
      "source": [
        ""
      ],
      "execution_count": 6,
      "outputs": [
        {
          "output_type": "execute_result",
          "data": {
            "text/plain": [
              "<matplotlib.axes._subplots.AxesSubplot at 0x7f6839eaa950>"
            ]
          },
          "metadata": {
            "tags": []
          },
          "execution_count": 6
        },
        {
          "output_type": "display_data",
          "data": {
            "image/png": "[encoded data removed]",
            "text/plain": [
              "<Figure size 432x288 with 1 Axes>"
            ]
          },
          "metadata": {
            "tags": [],
            "needs_background": "light"
          }
        }
      ]
    },
    {
      "cell_type": "markdown",
      "metadata": {
        "id": "BKAkZvhZPg8n"
      },
      "source": [
        "참고자료\n",
        "\n",
        "- [Matplotlib.pyplot 기본 튜토리얼, 스타일, 캔버스](https://teddylee777.github.io/visualization/matplotlib-tutorial)\n",
        "- [Matplotlib을 활용한 데이터 시각화 그래프 예제](https://teddylee777.github.io/visualization/matplotlib-tutorial-2)\n",
        "- [Seaborn의 통계 차트 및 데이터 시각화 예제](https://teddylee777.github.io/visualization/seaborn-tutorial-1)\n",
        "- [Python Graph Gallery](https://www.python-graph-gallery.com/)"
      ]
    },
    {
      "cell_type": "markdown",
      "metadata": {
        "id": "zQ4ua2SmQwXd"
      },
      "source": [
        "## 1.5 베이스라인 모델 구축"
      ]
    },
    {
      "cell_type": "markdown",
      "metadata": {
        "id": "oMBvGsaQaCeT"
      },
      "source": [
        "- 베이스라인으로 로지스틱회귀 모델을 사용해보겠습니다. "
      ]
    },
    {
      "cell_type": "code",
      "metadata": {
        "id": "HLwQG5UzYLjg"
      },
      "source": [
        "from sklearn.linear_model import LogisticRegression"
      ],
      "execution_count": null,
      "outputs": []
    },
    {
      "cell_type": "code",
      "metadata": {
        "id": "aU69vID2YL3Y"
      },
      "source": [
        "model = LogisticRegression()"
      ],
      "execution_count": null,
      "outputs": []
    },
    {
      "cell_type": "code",
      "metadata": {
        "id": "wrqfSSb4YMUJ"
      },
      "source": [
        "model"
      ],
      "execution_count": null,
      "outputs": []
    },
    {
      "cell_type": "markdown",
      "metadata": {
        "id": "Q3pec9SbQyke"
      },
      "source": [
        "## 1.6 모델 검증 방법"
      ]
    },
    {
      "cell_type": "markdown",
      "metadata": {
        "id": "O3MkJsafaJSy"
      },
      "source": [
        "![image.png](https://drive.google.com/uc?id=1zZpBaXpYszxISryqKWY_ECt13tDWumUE)\n",
        "\n",
        "- K Fold 교차검증 (Cross-Valdation)"
      ]
    },
    {
      "cell_type": "code",
      "metadata": {
        "id": "g6tmm4XDaVNi"
      },
      "source": [
        "from sklearn.model_selection import KFold\n",
        "from sklearn.metrics import log_loss\n",
        "import numpy as np"
      ],
      "execution_count": null,
      "outputs": []
    },
    {
      "cell_type": "code",
      "metadata": {
        "id": "SWTCsvGBM91a"
      },
      "source": [
        "train.head()"
      ],
      "execution_count": null,
      "outputs": []
    },
    {
      "cell_type": "code",
      "metadata": {
        "id": "s2anAOCccZGP"
      },
      "source": [
        "# numeric column만 추출 \n",
        "num_features = ['income_total', 'DAYS_BIRTH', 'DAYS_EMPLOYED', 'FLAG_MOBIL', 'work_phone', 'phone', 'email', 'family_size', 'begin_month']\n",
        "trn = train[num_features].values\n",
        "y = train['credit'].values\n",
        "tst = test[num_features].values"
      ],
      "execution_count": null,
      "outputs": []
    },
    {
      "cell_type": "code",
      "metadata": {
        "id": "LwsEIWZDnE4N"
      },
      "source": [
        "trn"
      ],
      "execution_count": null,
      "outputs": []
    },
    {
      "cell_type": "code",
      "metadata": {
        "id": "A7OvIQgSNT2t"
      },
      "source": [
        "trn.shape, y.shape, tst.shape"
      ],
      "execution_count": null,
      "outputs": []
    },
    {
      "cell_type": "code",
      "metadata": {
        "id": "S6ASyfLUbAQ2"
      },
      "source": [
        "n_fold = 5\n",
        "seed = 42\n",
        "cv = KFold(n_splits=n_fold, shuffle=True, random_state=seed)"
      ],
      "execution_count": null,
      "outputs": []
    },
    {
      "cell_type": "code",
      "metadata": {
        "id": "KOitPhVTN4cs"
      },
      "source": [
        "cv"
      ],
      "execution_count": null,
      "outputs": []
    },
    {
      "cell_type": "code",
      "metadata": {
        "id": "eeJUgmQiaiL1"
      },
      "source": [
        "# 입력 값의 형태 파악이 중요\n",
        "result_val = np.zeros((trn.shape[0], 3)) # 600 X 3 행렬 생성\n",
        "result_tst = np.zeros((tst.shape[0], 3))\n",
        "\n",
        "for i, (i_trn, i_val) in enumerate(cv.split(trn)):\n",
        "    print(f'training model for CV #{i}')\n",
        "    model = LogisticRegression()\n",
        "    model.fit(trn[i_trn], y[i_trn])\n",
        "    result_val[i_val, :] = model.predict_proba(trn[i_val])\n",
        "    result_tst += model.predict_proba(tst) / n_fold"
      ],
      "execution_count": null,
      "outputs": []
    },
    {
      "cell_type": "code",
      "metadata": {
        "id": "dJC-B71vZ1W7"
      },
      "source": [
        "log_loss(y, np.zeros((trn.shape[0], 3)))"
      ],
      "execution_count": null,
      "outputs": []
    },
    {
      "cell_type": "code",
      "metadata": {
        "id": "-3DsnuOqV2Dw"
      },
      "source": [
        "log_loss(y, result_val)"
      ],
      "execution_count": null,
      "outputs": []
    },
    {
      "cell_type": "code",
      "metadata": {
        "id": "q7R02VssPVKQ"
      },
      "source": [
        "result_val.shape"
      ],
      "execution_count": null,
      "outputs": []
    },
    {
      "cell_type": "code",
      "metadata": {
        "id": "PKAp35XU1z75"
      },
      "source": [
        "np.savetxt('logistic_cv.txt', result_val, fmt='%.6f', delimiter=',')\n",
        "np.savetxt('logistic_tst.txt', result_tst, fmt='%.6f', delimiter=',')"
      ],
      "execution_count": null,
      "outputs": []
    },
    {
      "cell_type": "markdown",
      "metadata": {
        "id": "X7diPJnTailF"
      },
      "source": [
        "참고자료\n",
        "\n",
        "- [모델 성능 평가 지표 (회귀 모델, 분류 모델)](https://rk1993.tistory.com/entry/%EB%AA%A8%EB%8D%B8-%EC%84%B1%EB%8A%A5-%ED%8F%89%EA%B0%80-%EC%A7%80%ED%91%9C-%ED%9A%8C%EA%B7%80-%EB%AA%A8%EB%8D%B8-%EB%B6%84%EB%A5%98-%EB%AA%A8%EB%8D%B8)\n",
        "- [Cross-Validation, Stacking](https://kaggler-tv.github.io/dku-kaggle-class/lectures/08-cv-stacking.html)"
      ]
    },
    {
      "cell_type": "markdown",
      "metadata": {
        "id": "u7TU3AZbP4gp"
      },
      "source": [
        "## 1.7 범주형 데이터 전처리 방법"
      ]
    },
    {
      "cell_type": "markdown",
      "metadata": {
        "id": "fxXzxmj3QDUd"
      },
      "source": [
        "### 1.7.1 ordinal/label 인코딩"
      ]
    },
    {
      "cell_type": "markdown",
      "metadata": {
        "id": "Y3UkR8Wb9L_G"
      },
      "source": [
        "![](https://miro.medium.com/max/700/1*kPKvp4c462GB1NS8UotXYQ.png)\n",
        "\n",
        "- 출처: [medium](https://towardsdatascience.com/categorical-encoding-techniques-93ebd18e1f24)"
      ]
    },
    {
      "cell_type": "code",
      "metadata": {
        "id": "aLv67pXdgwO0"
      },
      "source": [
        "train.head()"
      ],
      "execution_count": null,
      "outputs": []
    },
    {
      "cell_type": "code",
      "metadata": {
        "id": "AF6PYzz4pmAb"
      },
      "source": [
        "train.info()"
      ],
      "execution_count": null,
      "outputs": []
    },
    {
      "cell_type": "code",
      "metadata": {
        "id": "EmRutaeZg1jM"
      },
      "source": [
        "from sklearn.preprocessing import OrdinalEncoder\n",
        "train_cat = train.copy()\n",
        "oe = OrdinalEncoder()\n",
        "# categorical columns\n",
        "cat_cols = ['income_type', 'edu_type', 'family_type', 'house_type']\n",
        "train_cat[cat_cols] = oe.fit_transform(train_cat[cat_cols])\n",
        "train_cat[cat_cols].head()"
      ],
      "execution_count": null,
      "outputs": []
    },
    {
      "cell_type": "code",
      "metadata": {
        "id": "csPKPlcEiDTZ"
      },
      "source": [
        "test_cat = test.copy()\n",
        "test_cat[cat_cols] = oe.transform(test_cat[cat_cols])\n",
        "test_cat[cat_cols]"
      ],
      "execution_count": null,
      "outputs": []
    },
    {
      "cell_type": "code",
      "metadata": {
        "id": "D3b4Jwjlh6Bk"
      },
      "source": [
        "features = num_features + cat_cols\n",
        "trn = train_cat[features].values\n",
        "y = train_cat['credit'].values\n",
        "tst = test_cat[features].values"
      ],
      "execution_count": null,
      "outputs": []
    },
    {
      "cell_type": "code",
      "metadata": {
        "id": "uCQXRUYdh6Bl"
      },
      "source": [
        "n_fold = 5\n",
        "seed = 42\n",
        "cv = KFold(n_splits=n_fold, shuffle=True, random_state=seed)"
      ],
      "execution_count": null,
      "outputs": []
    },
    {
      "cell_type": "code",
      "metadata": {
        "id": "mSLCdVhHh6Bl"
      },
      "source": [
        "result_val = np.zeros((trn.shape[0], 3))\n",
        "result_tst = np.zeros((tst.shape[0], 3))\n",
        "\n",
        "for i, (i_trn, i_val) in enumerate(cv.split(trn)):\n",
        "    print(f'training model for CV #{i}')\n",
        "    model = LogisticRegression()\n",
        "    model.fit(trn[i_trn], y[i_trn])\n",
        "    result_val[i_val, :] = model.predict_proba(trn[i_val])\n",
        "    result_tst += model.predict_proba(tst) / n_fold"
      ],
      "execution_count": null,
      "outputs": []
    },
    {
      "cell_type": "code",
      "metadata": {
        "id": "VZVusP3mh6Bm"
      },
      "source": [
        "log_loss(y, result_val)"
      ],
      "execution_count": null,
      "outputs": []
    },
    {
      "cell_type": "markdown",
      "metadata": {
        "id": "M7DEuroaQD0i"
      },
      "source": [
        "### 1.7.2 one-hot 인코딩\n"
      ]
    },
    {
      "cell_type": "markdown",
      "metadata": {
        "id": "C4_qQtHW9g1D"
      },
      "source": [
        "![](https://miro.medium.com/max/2120/1*hZLqbZqqrwiqkGxxl2vYkg.png)\n",
        "\n",
        "- 출처: [medium](https://towardsdatascience.com/categorical-encoding-techniques-93ebd18e1f24)"
      ]
    },
    {
      "cell_type": "code",
      "metadata": {
        "id": "fs3gOv5yjjbq"
      },
      "source": [
        "train.head()"
      ],
      "execution_count": null,
      "outputs": []
    },
    {
      "cell_type": "code",
      "metadata": {
        "id": "eabrTGZai_69"
      },
      "source": [
        "from sklearn.preprocessing import OneHotEncoder\n",
        "ohe = OneHotEncoder()\n",
        "cat_cols = ['income_type', 'edu_type', 'family_type', 'house_type']\n",
        "ohe_features = ohe.fit_transform(train[cat_cols]).toarray()"
      ],
      "execution_count": null,
      "outputs": []
    },
    {
      "cell_type": "code",
      "metadata": {
        "id": "tkDKtnXFeHFp"
      },
      "source": [
        "for col in cat_cols:\n",
        "    print(len(train[col].unique()))"
      ],
      "execution_count": null,
      "outputs": []
    },
    {
      "cell_type": "code",
      "metadata": {
        "id": "69F2IkJNS5Cg"
      },
      "source": [
        "ohe_features.shape"
      ],
      "execution_count": null,
      "outputs": []
    },
    {
      "cell_type": "code",
      "metadata": {
        "id": "xKoGCYUOj2J9"
      },
      "source": [
        "train_ohe_cat = np.concatenate([train[num_features].values, ohe_features], axis=1)"
      ],
      "execution_count": null,
      "outputs": []
    },
    {
      "cell_type": "code",
      "metadata": {
        "id": "rg1WzUJ8ojne"
      },
      "source": [
        "len(num_features)"
      ],
      "execution_count": null,
      "outputs": []
    },
    {
      "cell_type": "code",
      "metadata": {
        "id": "yNvMkV5ocsCw"
      },
      "source": [
        "train_ohe_cat.shape"
      ],
      "execution_count": null,
      "outputs": []
    },
    {
      "cell_type": "code",
      "metadata": {
        "id": "vQIOuncDi_7K"
      },
      "source": [
        "test_ohe_features = ohe.transform(test[cat_cols]).toarray()\n",
        "test_ohe_cat = np.concatenate([test[num_features].values, test_ohe_features], axis=1)"
      ],
      "execution_count": null,
      "outputs": []
    },
    {
      "cell_type": "code",
      "metadata": {
        "id": "lVWloE6DkTaL"
      },
      "source": [
        "train_ohe_cat.shape, test_ohe_cat.shape"
      ],
      "execution_count": null,
      "outputs": []
    },
    {
      "cell_type": "markdown",
      "metadata": {
        "id": "Q4fBuJH6c-AN"
      },
      "source": [
        "- `train_cat`, `test_cat`: categorical 변수를 ordinal 인코딩 한 데이터\n",
        "- `train_ohe_cat`, `test_ohe_cat`: categorical 변수를 one-hot 인코딩 한 데이터"
      ]
    },
    {
      "cell_type": "code",
      "metadata": {
        "id": "1s81uipyi_7L"
      },
      "source": [
        "trn = train_ohe_cat\n",
        "y = train['credit'].values\n",
        "tst = test_ohe_cat"
      ],
      "execution_count": null,
      "outputs": []
    },
    {
      "cell_type": "code",
      "metadata": {
        "id": "afjejidJi_7M"
      },
      "source": [
        "n_fold = 5\n",
        "seed = 42\n",
        "cv = KFold(n_splits=n_fold, shuffle=True, random_state=seed)"
      ],
      "execution_count": null,
      "outputs": []
    },
    {
      "cell_type": "code",
      "metadata": {
        "id": "0xrTh0RZi_7N"
      },
      "source": [
        "result_val = np.zeros((trn.shape[0], 3))\n",
        "result_tst = np.zeros((tst.shape[0], 3))\n",
        "\n",
        "for i, (i_trn, i_val) in enumerate(cv.split(trn)):\n",
        "    print(f'training model for CV #{i}')\n",
        "    model = LogisticRegression()\n",
        "    model.fit(trn[i_trn], y[i_trn])\n",
        "    result_val[i_val, :] = model.predict_proba(trn[i_val])\n",
        "    result_tst += model.predict_proba(tst) / n_fold"
      ],
      "execution_count": null,
      "outputs": []
    },
    {
      "cell_type": "code",
      "metadata": {
        "id": "h_soxxmpi_7N"
      },
      "source": [
        "log_loss(y, result_val)"
      ],
      "execution_count": null,
      "outputs": []
    },
    {
      "cell_type": "code",
      "metadata": {
        "id": "FbsuessEeJst"
      },
      "source": [
        "result_val"
      ],
      "execution_count": null,
      "outputs": []
    },
    {
      "cell_type": "markdown",
      "metadata": {
        "id": "HGkUwiscQlqE"
      },
      "source": [
        "## 1.8 알고리즘 변경을 통한 모델 고도화"
      ]
    },
    {
      "cell_type": "markdown",
      "metadata": {
        "id": "JKp8r68ZRJ53"
      },
      "source": [
        "### 1.8.1 결정트리"
      ]
    },
    {
      "cell_type": "markdown",
      "metadata": {
        "id": "vXsGhBjL9nJ2"
      },
      "source": [
        "![](https://github.com/kaggler-tv/dku-kaggle-class/blob/master/course-website/imgs/ch06-img15.jpg?raw=true)\n",
        "\n",
        "- 출처: [dku-kaggle-class](https://kaggler-tv.github.io/dku-kaggle-class/lectures/06-scikit-learn.html#id2)\n",
        "\n",
        "- [시각화로 보는 결정트리](http://www.r2d3.us/visual-intro-to-machine-learning-part-1/)"
      ]
    },
    {
      "cell_type": "code",
      "metadata": {
        "id": "ArQNT-eQlAfx"
      },
      "source": [
        "from sklearn.tree import DecisionTreeClassifier\n",
        "\n",
        "## ordinal 인코딩\n",
        "features = num_features + cat_cols\n",
        "trn = train_cat[features].values\n",
        "y = train['credit'].values\n",
        "tst = test_cat[features].values\n",
        "\n",
        "n_fold = 5\n",
        "seed = 42\n",
        "cv = KFold(n_splits=n_fold, shuffle=True, random_state=seed)\n",
        "\n",
        "result_val = np.zeros((trn.shape[0], 3))\n",
        "result_tst = np.zeros((tst.shape[0], 3))\n",
        "\n",
        "for i, (i_trn, i_val) in enumerate(cv.split(trn)):\n",
        "    print(f'training model for CV #{i}')\n",
        "    ###\n",
        "    model = DecisionTreeClassifier(random_state=seed, min_samples_split=1000)\n",
        "    ###\n",
        "    model.fit(trn[i_trn], y[i_trn])\n",
        "    result_val[i_val, :] = model.predict_proba(trn[i_val])\n",
        "    result_tst += model.predict_proba(tst) / n_fold"
      ],
      "execution_count": null,
      "outputs": []
    },
    {
      "cell_type": "code",
      "metadata": {
        "id": "jysuMbrilHhn"
      },
      "source": [
        "?DecisionTreeClassifier"
      ],
      "execution_count": null,
      "outputs": []
    },
    {
      "cell_type": "code",
      "metadata": {
        "id": "EDQtH0Xif75D"
      },
      "source": [
        "result_val"
      ],
      "execution_count": null,
      "outputs": []
    },
    {
      "cell_type": "code",
      "metadata": {
        "id": "CO6YGAUmlAf1"
      },
      "source": [
        "log_loss(y, result_val)"
      ],
      "execution_count": null,
      "outputs": []
    },
    {
      "cell_type": "markdown",
      "metadata": {
        "id": "yIMOr2X9RNqv"
      },
      "source": [
        "### 1.8.2 랜덤포레스트\n",
        "\n",
        "![](https://github.com/kaggler-tv/dku-kaggle-class/blob/master/course-website/imgs/ch07-img03.jpg?raw=true)\n",
        "\n",
        "- 출처: [dku-kaggle-class](https://kaggler-tv.github.io/dku-kaggle-class/lectures/06-scikit-learn.html#id2)"
      ]
    },
    {
      "cell_type": "markdown",
      "metadata": {
        "id": "0gFL0n3gpH3h"
      },
      "source": [
        "주요 하이퍼파라미터\n",
        "\n",
        "- n_estimators: 의사결정 나무의 개수\n",
        "- max_depth: 최대 깊이\n",
        "- min_samples_split: 가지를 나눌 때 필요한 최소 샘플 개수\n",
        "- min_samples_leaf: 가지를 나눈 후 왼쪽, 오른쪽 노드 각각에 존재해야 하는 최소 샘플 개수 \n",
        "- max_features: 사용할 피쳐 개수\n"
      ]
    },
    {
      "cell_type": "code",
      "metadata": {
        "id": "39758C5ll7xa"
      },
      "source": [
        "?RandomForestClassifier"
      ],
      "execution_count": null,
      "outputs": []
    },
    {
      "cell_type": "code",
      "metadata": {
        "id": "ZWLmYQunlWwC"
      },
      "source": [
        "from sklearn.ensemble import RandomForestClassifier\n",
        "\n",
        "## ordinal 인코딩\n",
        "trn = train_cat[features].values\n",
        "y = train['credit'].values\n",
        "tst = test_cat[features].values\n",
        "\n",
        "n_fold = 5\n",
        "seed = 42\n",
        "cv = KFold(n_splits=n_fold, shuffle=True, random_state=seed)\n",
        "\n",
        "result_val = np.zeros((trn.shape[0], 3))\n",
        "result_tst = np.zeros((tst.shape[0], 3))\n",
        "\n",
        "for i, (i_trn, i_val) in enumerate(cv.split(trn)):\n",
        "    print(f'training model for CV #{i}')\n",
        "    ###\n",
        "    model = RandomForestClassifier(random_state=seed, n_jobs=-1, min_samples_split=30)\n",
        "    ###\n",
        "    model.fit(trn[i_trn], y[i_trn])\n",
        "    result_val[i_val, :] = model.predict_proba(trn[i_val])\n",
        "    result_tst += model.predict_proba(tst) / n_fold"
      ],
      "execution_count": null,
      "outputs": []
    },
    {
      "cell_type": "code",
      "metadata": {
        "id": "FBwRpLwdffqE"
      },
      "source": [
        "result_val"
      ],
      "execution_count": null,
      "outputs": []
    },
    {
      "cell_type": "code",
      "metadata": {
        "id": "FjK-_Q0xleaf"
      },
      "source": [
        "log_loss(y, result_val)"
      ],
      "execution_count": null,
      "outputs": []
    },
    {
      "cell_type": "code",
      "metadata": {
        "id": "xzeCh3j1lzHt"
      },
      "source": [
        "from sklearn.preprocessing import OneHotEncoder\n",
        "\n",
        "### one hot 인코딩\n",
        "trn = train_ohe_cat\n",
        "y = train['credit'].values\n",
        "tst = test_ohe_cat\n",
        "\n",
        "n_fold = 5\n",
        "seed = 42\n",
        "cv = KFold(n_splits=n_fold, shuffle=True, random_state=seed)\n",
        "\n",
        "result_val = np.zeros((trn.shape[0], 3))\n",
        "result_tst = np.zeros((tst.shape[0], 3))\n",
        "\n",
        "for i, (i_trn, i_val) in enumerate(cv.split(trn)):\n",
        "    print(f'training model for CV #{i}')\n",
        "    model = RandomForestClassifier(random_state=seed, n_jobs=-1, min_samples_split=30)\n",
        "    model.fit(trn[i_trn], y[i_trn])\n",
        "    result_val[i_val, :] = model.predict_proba(trn[i_val])\n",
        "    result_tst += model.predict_proba(tst) / n_fold\n",
        "\n",
        "print(log_loss(y, result_val))"
      ],
      "execution_count": null,
      "outputs": []
    },
    {
      "cell_type": "code",
      "metadata": {
        "id": "21QbashXmx-_"
      },
      "source": [
        "from sklearn.preprocessing import label_binarize\n",
        "\n",
        "label_binarize(y, classes=[0,1,2])"
      ],
      "execution_count": null,
      "outputs": []
    },
    {
      "cell_type": "code",
      "metadata": {
        "id": "N45JdFQG3MMB"
      },
      "source": [
        "np.savetxt('rf_cv.txt', result_val, fmt='%.6f', delimiter=',')\n",
        "np.savetxt('rf_tst.txt', result_tst, fmt='%.6f', delimiter=',')"
      ],
      "execution_count": null,
      "outputs": []
    },
    {
      "cell_type": "markdown",
      "metadata": {
        "id": "E5SUrGbaRQGf"
      },
      "source": [
        "### 1.8.3 lightGBM\n",
        "\n",
        "![](https://github.com/kaggler-tv/dku-kaggle-class/blob/master/course-website/imgs/ch07-img07.jpg?raw=true)\n",
        "\n",
        "- 출처: [dku-kaggle-class](https://kaggler-tv.github.io/dku-kaggle-class/lectures/06-scikit-learn.html#id2)"
      ]
    },
    {
      "cell_type": "code",
      "metadata": {
        "id": "HKDUtcntnNKz"
      },
      "source": [
        "?lgb.LGBMClassifier"
      ],
      "execution_count": null,
      "outputs": []
    },
    {
      "cell_type": "code",
      "metadata": {
        "id": "MwzB3tPtm7Y2"
      },
      "source": [
        "import lightgbm as lgb\n",
        "\n",
        "## ordinal 인코딩\n",
        "trn = train_cat[features].values\n",
        "y = train['credit'].values\n",
        "tst = test_cat[features].values\n",
        "\n",
        "n_fold = 5\n",
        "seed = 42\n",
        "cv = KFold(n_splits=n_fold, shuffle=True, random_state=seed)\n",
        "\n",
        "result_val = np.zeros((trn.shape[0], 3))\n",
        "result_tst = np.zeros((tst.shape[0], 3))\n",
        "\n",
        "for i, (i_trn, i_val) in enumerate(cv.split(trn)):\n",
        "    print(f'training model for CV #{i}')\n",
        "    model = lgb.LGBMClassifier(n_estimators=150,\n",
        "                         num_leaves=50,\n",
        "                         learning_rate=0.01,\n",
        "                         min_child_samples=50,\n",
        "                         random_state=seed,\n",
        "                         n_jobs=-1)\n",
        "    model.fit(trn[i_trn], y[i_trn], \n",
        "              eval_set=[(trn[i_val], y[i_val])], \n",
        "              early_stopping_rounds=10,\n",
        "              verbose=10)\n",
        "    result_val[i_val, :] = model.predict_proba(trn[i_val])\n",
        "    result_tst += model.predict_proba(tst) / n_fold\n",
        "\n",
        "print(log_loss(y, result_val))"
      ],
      "execution_count": null,
      "outputs": []
    },
    {
      "cell_type": "code",
      "metadata": {
        "id": "gMF6QMIcut0d"
      },
      "source": [
        "?lgb.LGBMClassifier"
      ],
      "execution_count": null,
      "outputs": []
    },
    {
      "cell_type": "markdown",
      "metadata": {
        "id": "hYab45NBd65J"
      },
      "source": [
        "## 1.9 파이프라인 구축\n",
        "\n",
        "- https://stackoverflow.com/questions/28178763/sklearn-use-pipeline-in-a-randomizedsearchcv"
      ]
    },
    {
      "cell_type": "markdown",
      "metadata": {
        "id": "l_rYTMZ9eAQJ"
      },
      "source": [
        "Pipeline: '명칭'과 '모델' 쌍을 같이 입력  "
      ]
    },
    {
      "cell_type": "code",
      "metadata": {
        "id": "8TrNAVFJjgIE"
      },
      "source": [
        "from sklearn.tree import DecisionTreeClassifier\n",
        "from sklearn.preprocessing import OrdinalEncoder\n",
        "from sklearn.pipeline import Pipeline\n",
        "from sklearn.compose import ColumnTransformer"
      ],
      "execution_count": null,
      "outputs": []
    },
    {
      "cell_type": "code",
      "metadata": {
        "id": "BSp4qdQKwUcO"
      },
      "source": [
        "column_trans = ColumnTransformer(\n",
        "     [('category', OrdinalEncoder(), cat_cols)],\n",
        "     remainder='passthrough')"
      ],
      "execution_count": null,
      "outputs": []
    },
    {
      "cell_type": "code",
      "metadata": {
        "id": "2DAClVrsxSyE"
      },
      "source": [
        "train.select_dtypes(['int', 'float']).columns"
      ],
      "execution_count": null,
      "outputs": []
    },
    {
      "cell_type": "code",
      "metadata": {
        "id": "7KJTzeFrxoKs"
      },
      "source": [
        "train.info()"
      ],
      "execution_count": null,
      "outputs": []
    },
    {
      "cell_type": "code",
      "metadata": {
        "id": "aX5zVn8AxPTr"
      },
      "source": [
        "num_features"
      ],
      "execution_count": null,
      "outputs": []
    },
    {
      "cell_type": "code",
      "metadata": {
        "id": "EtE1k04L6cuT"
      },
      "source": [
        "pipe = Pipeline([('col_trans', column_trans), ('dt', DecisionTreeClassifier(random_state=seed, min_samples_split=1000))]) # , "
      ],
      "execution_count": null,
      "outputs": []
    },
    {
      "cell_type": "code",
      "metadata": {
        "id": "GPk9qGQ56wCf"
      },
      "source": [
        "features"
      ],
      "execution_count": null,
      "outputs": []
    },
    {
      "cell_type": "code",
      "metadata": {
        "id": "f7lDeft86iLY"
      },
      "source": [
        "from sklearn.tree import DecisionTreeClassifier\n",
        "\n",
        "## ordinal 인코딩\n",
        "features = num_features + cat_cols\n",
        "trn = train[features]\n",
        "y = train['credit'].values\n",
        "tst = test[features]\n",
        "\n",
        "n_fold = 5\n",
        "seed = 42\n",
        "cv = KFold(n_splits=n_fold, shuffle=True, random_state=seed)\n",
        "\n",
        "result_val = np.zeros((trn.shape[0], 3))\n",
        "result_tst = np.zeros((tst.shape[0], 3))\n",
        "\n",
        "for i, (i_trn, i_val) in enumerate(cv.split(trn)):\n",
        "    print(f'training model for CV #{i}')\n",
        "    ###\n",
        "    model = pipe\n",
        "    ###\n",
        "    model.fit(trn.loc[i_trn], y[i_trn])\n",
        "    result_val[i_val, :] = model.predict_proba(trn.loc[i_val])\n",
        "    result_tst += model.predict_proba(tst) / n_fold"
      ],
      "execution_count": null,
      "outputs": []
    },
    {
      "cell_type": "code",
      "metadata": {
        "id": "8jkQjIQYnL3A"
      },
      "source": [
        "from sklearn import set_config\n",
        "set_config(display='diagram')   \n",
        "# diplays HTML representation in a jupyter context\n",
        "pipe"
      ],
      "execution_count": null,
      "outputs": []
    },
    {
      "cell_type": "code",
      "metadata": {
        "id": "uvZYC6Uck8Ax"
      },
      "source": [
        "log_loss(y, result_val)"
      ],
      "execution_count": null,
      "outputs": []
    },
    {
      "cell_type": "markdown",
      "metadata": {
        "id": "sASk80Vn3tHZ"
      },
      "source": [
        "참고자료\n",
        "\n",
        "- [Column Transformer with Mixed Types](https://scikit-learn.org/stable/auto_examples/compose/plot_column_transformer_mixed_types.html)\n",
        "- [Pipelines and composite estimators](https://scikit-learn.org/stable/modules/compose.html)\n"
      ]
    },
    {
      "cell_type": "markdown",
      "metadata": {
        "id": "GYwnqUJeRVar"
      },
      "source": [
        "## 1.10 하이퍼파라미터 최적화\n",
        "\n",
        "![그리드서치](https://trello-attachments.s3.amazonaws.com/5e0d387cd4f8ba5e8f790d8b/5e634450ee4a88284a40a05a/3e9490f6010aa32e74bfde07398ac603/image.png)\n",
        "\n",
        "![](https://i.stack.imgur.com/cIDuR.png)\n",
        "\n",
        "- 출처: [stack exchange](https://stats.stackexchange.com/questions/160479/practical-hyperparameter-optimization-random-vs-grid-search)"
      ]
    },
    {
      "cell_type": "markdown",
      "metadata": {
        "id": "2uvUHi2yh-Se"
      },
      "source": [
        "### 1.10.1 Grid Search"
      ]
    },
    {
      "cell_type": "markdown",
      "metadata": {
        "id": "J-nIG-Z6rHgE"
      },
      "source": [
        "아래 범위로 탐색해보기\n",
        "\n",
        "- `num_leaves`: [31]\n",
        "- `min_child_samples`: [25, 100]\n",
        "- `learning_rate`: [0.01, 0.003]\n",
        "- `early_stopping_rounds`: [10]\n",
        "\n"
      ]
    },
    {
      "cell_type": "code",
      "metadata": {
        "id": "CGIgjO__fGEy"
      },
      "source": [
        "from sklearn.model_selection import GridSearchCV\n",
        "from sklearn.model_selection import train_test_split\n",
        "\n",
        "### num leaves 후보군  개수 * min_child_samples 후보군 개수 * learning_rate 후보군 개수\n",
        "\n",
        "param_grid = {'num_leaves':[31],}\n",
        "###\n",
        "\n",
        "n_fold = 5\n",
        "seed = 42\n",
        "cv = KFold(n_splits=n_fold, shuffle=True, random_state=seed)\n",
        "\n",
        "features = num_features + cat_cols\n",
        "trn = train_cat[features].values\n",
        "y = train['credit'].values\n",
        "tst = test_cat[features].values\n",
        "\n",
        "X_trn, X_val, y_trn, y_val = train_test_split(trn, y, test_size=.2, random_state=seed)\n",
        "\n",
        "model = lgb.LGBMClassifier(random_state=seed, \n",
        "                          n_estimators=150, \n",
        "                          n_jobs=-1)\n",
        "\n",
        "gs = GridSearchCV(estimator=model,\n",
        "            param_grid=param_grid,\n",
        "            scoring='neg_log_loss',\n",
        "            cv=cv, \n",
        "            verbose=1)\n",
        "\n",
        "gs.fit(X_trn, y_trn, eval_set=[(X_val, y_val)], verbose=50)"
      ],
      "execution_count": null,
      "outputs": []
    },
    {
      "cell_type": "code",
      "metadata": {
        "id": "GZRnPf9m0Zh0"
      },
      "source": [
        "X_trn, X_val, y_trn, y_val = train_test_split(trn, y, test_size=.2, random_state=seed)\n",
        "X_trn.shape, y_trn.shape"
      ],
      "execution_count": null,
      "outputs": []
    },
    {
      "cell_type": "code",
      "metadata": {
        "id": "YCVbNEMQfGTG"
      },
      "source": [
        "gs.best_params_"
      ],
      "execution_count": null,
      "outputs": []
    },
    {
      "cell_type": "code",
      "metadata": {
        "id": "QQVYZx1Y1qZh"
      },
      "source": [
        "gs.best_score_"
      ],
      "execution_count": null,
      "outputs": []
    },
    {
      "cell_type": "code",
      "metadata": {
        "id": "M1_f0wG4oFZp"
      },
      "source": [
        "import lightgbm as lgb\n",
        "\n",
        "## ordinal 인코딩\n",
        "features = num_features + cat_cols\n",
        "trn = train_cat[features].values\n",
        "y = train['credit'].values\n",
        "tst = test_cat[features].values\n",
        "\n",
        "n_fold = 5\n",
        "seed = 42\n",
        "cv = KFold(n_splits=n_fold, shuffle=True, random_state=seed)\n",
        "\n",
        "result_val = np.zeros((trn.shape[0], 3))\n",
        "result_tst = np.zeros((tst.shape[0], 3))\n",
        "\n",
        "for i, (i_trn, i_val) in enumerate(cv.split(trn)):\n",
        "    print(f'training model for CV #{i}')\n",
        "    ## ** 연산자 사용하기 \n",
        "    model = lgb.LGBMClassifier(**gs.best_params_, n_jobs=-1, random_state=seed, n_estimators=150)\n",
        "    model.fit(trn[i_trn], y[i_trn], \n",
        "              eval_set=[(trn[i_val], y[i_val])], \n",
        "              early_stopping_rounds=10,\n",
        "              verbose=10)\n",
        "    result_val[i_val, :] = model.predict_proba(trn[i_val])\n",
        "    result_tst += model.predict_proba(tst) / n_fold\n",
        "\n",
        "print(log_loss(y, result_val))"
      ],
      "execution_count": null,
      "outputs": []
    },
    {
      "cell_type": "code",
      "metadata": {
        "id": "gP-QEZO_odaK"
      },
      "source": [
        "model"
      ],
      "execution_count": null,
      "outputs": []
    },
    {
      "cell_type": "code",
      "metadata": {
        "id": "9G1mT7jb2xY-"
      },
      "source": [
        "gs.best_params_"
      ],
      "execution_count": null,
      "outputs": []
    },
    {
      "cell_type": "code",
      "metadata": {
        "id": "6SF-hXpz3VpF"
      },
      "source": [
        "np.savetxt('lgb_cv.txt', result_val, fmt='%.6f', delimiter=',')\n",
        "np.savetxt('lgb_tst.txt', result_tst, fmt='%.6f', delimiter=',')"
      ],
      "execution_count": null,
      "outputs": []
    },
    {
      "cell_type": "markdown",
      "metadata": {
        "id": "743cEmy4os5X"
      },
      "source": [
        "### 1.10.2 Random Search"
      ]
    },
    {
      "cell_type": "code",
      "metadata": {
        "id": "f7qrxlfv3Duf"
      },
      "source": [
        "for i in range(10, 100, 10):\n",
        "    print(i)"
      ],
      "execution_count": null,
      "outputs": []
    },
    {
      "cell_type": "code",
      "metadata": {
        "id": "vJ9CFTlZosev"
      },
      "source": [
        "from sklearn.model_selection import RandomizedSearchCV\n",
        "from sklearn.model_selection import train_test_split\n",
        "\n",
        "###\n",
        "param_grid = {'num_leaves':range(18, 30, 5), \n",
        "              'min_child_samples':range(10, 100, 10),\n",
        "              'learning_rate':[0.03, 0.01, 0.003],\n",
        "              'early_stopping_rounds':[10]}\n",
        "###\n",
        "\n",
        "n_fold = 5\n",
        "seed = 42\n",
        "cv = KFold(n_splits=n_fold, shuffle=True, random_state=seed)\n",
        "\n",
        "features = num_features + cat_cols\n",
        "trn = train_cat[features].values\n",
        "y = train['credit'].values\n",
        "tst = test_cat[features].values\n",
        "\n",
        "X_trn, X_val, y_trn, y_val = train_test_split(trn, y, test_size=.2, random_state=seed)\n",
        "\n",
        "model = lgb.LGBMClassifier(random_state=seed, \n",
        "                          n_estimators=150, \n",
        "                          n_jobs=-1)\n",
        "\n",
        "rs = RandomizedSearchCV(estimator=model,\n",
        "            param_distributions=param_grid,\n",
        "            n_iter=4,\n",
        "            scoring='neg_log_loss',\n",
        "            cv=cv, \n",
        "            verbose=1)\n",
        "\n",
        "rs.fit(X_trn, y_trn, eval_set=[(X_val, y_val)], verbose=50)"
      ],
      "execution_count": null,
      "outputs": []
    },
    {
      "cell_type": "code",
      "metadata": {
        "id": "prbcbpeCtCti"
      },
      "source": [
        "rs.best_params_"
      ],
      "execution_count": null,
      "outputs": []
    },
    {
      "cell_type": "code",
      "metadata": {
        "id": "qu6kdr0qtBM7"
      },
      "source": [
        "rs.best_score_"
      ],
      "execution_count": null,
      "outputs": []
    },
    {
      "cell_type": "markdown",
      "metadata": {
        "id": "hthHKzaZRXWo"
      },
      "source": [
        "## 1.11 앙상블"
      ]
    },
    {
      "cell_type": "markdown",
      "metadata": {
        "id": "7TzKm9Wj1lO7"
      },
      "source": [
        "linear regression, random forest, lightgbm 예측값을 평균내어 결합해보겠습니다. "
      ]
    },
    {
      "cell_type": "code",
      "metadata": {
        "id": "jc7bkkaY1knO"
      },
      "source": [
        "lr_cv = np.loadtxt('logistic_cv.txt', delimiter=',')\n",
        "rf_cv = np.loadtxt('rf_cv.txt', delimiter=',')\n",
        "lgb_cv = np.loadtxt('lgb_cv.txt', delimiter=',')\n",
        "\n",
        "lr_tst = np.loadtxt('logistic_tst.txt', delimiter=',')\n",
        "rf_tst = np.loadtxt('rf_tst.txt', delimiter=',')\n",
        "lgb_tst = np.loadtxt('lgb_tst.txt', delimiter=',')\n"
      ],
      "execution_count": null,
      "outputs": []
    },
    {
      "cell_type": "code",
      "metadata": {
        "id": "u16uKIHb31KN"
      },
      "source": [
        "y_pred = (lr_cv + rf_cv + lgb_cv) / 3"
      ],
      "execution_count": null,
      "outputs": []
    },
    {
      "cell_type": "code",
      "metadata": {
        "id": "jCQ35k964W2g"
      },
      "source": [
        "y_pred"
      ],
      "execution_count": null,
      "outputs": []
    },
    {
      "cell_type": "code",
      "metadata": {
        "id": "TMxsIKod4aVB"
      },
      "source": [
        "y.shape, y_pred.shape"
      ],
      "execution_count": null,
      "outputs": []
    },
    {
      "cell_type": "code",
      "metadata": {
        "id": "Olj1JH0B38g2"
      },
      "source": [
        "log_loss(y, y_pred)"
      ],
      "execution_count": null,
      "outputs": []
    },
    {
      "cell_type": "code",
      "metadata": {
        "id": "4Aq9hXNK4kum"
      },
      "source": [
        "y_tst_pred = (lr_tst + rf_tst + lgb_tst) / 3"
      ],
      "execution_count": null,
      "outputs": []
    },
    {
      "cell_type": "code",
      "metadata": {
        "id": "luqKGeOZ4ryB"
      },
      "source": [
        "y_tst_pred.shape"
      ],
      "execution_count": null,
      "outputs": []
    },
    {
      "cell_type": "code",
      "metadata": {
        "id": "SVHqM9ic4uU2"
      },
      "source": [
        "submission.head()"
      ],
      "execution_count": null,
      "outputs": []
    },
    {
      "cell_type": "code",
      "metadata": {
        "id": "n3loxSnB4wa2"
      },
      "source": [
        "submission.iloc[:, 1:] = y_tst_pred"
      ],
      "execution_count": null,
      "outputs": []
    },
    {
      "cell_type": "code",
      "metadata": {
        "id": "011Gh5WS47IB"
      },
      "source": [
        "submission.head()"
      ],
      "execution_count": null,
      "outputs": []
    },
    {
      "cell_type": "code",
      "metadata": {
        "id": "FunN8uBV4-h3"
      },
      "source": [
        "submission.to_csv('submission.csv', index=False)"
      ],
      "execution_count": null,
      "outputs": []
    },
    {
      "cell_type": "markdown",
      "metadata": {
        "id": "zSsW7zACRZ0E"
      },
      "source": [
        "짧은 시간내 많은 개념들을 살펴보느라 혼란스러울 수도 있습니다. 개인 시간에 참고자료들을 활용해서 천천히 하나씩 개념을 복습하고 학습하시길 권장드립니다. \n",
        "\n",
        "하나씩 천천히 해내간다면 분명 좋은 결과가 있으리라 확신합니다. 감사합니다. "
      ]
    },
    {
      "cell_type": "markdown",
      "metadata": {
        "id": "fLVsMLtzT7kF"
      },
      "source": [
        "## 강의\n",
        "\n",
        "- [edwith](https://www.edwith.org/)\n",
        "    - [텐서플로우로 시작하는 딥러닝 기초](https://www.edwith.org/boostcourse-dl-tensorflow)\n",
        "    - [파이토치로 시작하는 딥러닝 기초](https://www.edwith.org/boostcourse-dl-pytorch)\n",
        "    - [부스트캠프 AI Tech 2기 모집 안내](https://boostcamp.connect.or.kr/guide_ai.html)\n",
        "\n",
        "- [Coursera](https://www.coursera.org/)\n",
        "    - [기계 학습](https://www.coursera.org/learn/machine-learning#syllabus)\n",
        "\n",
        "- [SK플래닛 T아카데미](https://tacademy.skplanet.com/frontMain.action)\n",
        "    - [정형데이터 분석 기초](https://www.youtube.com/playlist?list=PL9mhQYIlKEhcaivg3ltnx3DS49AAIc3qv)\n",
        "    - [캐글(Kaggle) 대회 & EDA](https://www.youtube.com/playlist?list=PL9mhQYIlKEhcAt2sm8l3BWx5DOFfhtYe4)\n",
        "\n",
        "\n",
        "- 단국대 2020년 가을학기 캐글 뽀개기 강좌\n",
        "    - [홈페이지](https://kaggler-tv.github.io/dku-kaggle-class/main.html)\n",
        "    - [강의](https://www.youtube.com/watch?v=JjkoII5otj4&list=PLYF-I-Q8h6CtJNVw4VpOtXdlSz3hDvTjE)"
      ]
    },
    {
      "cell_type": "markdown",
      "metadata": {
        "id": "eZfP_wu4VHc7"
      },
      "source": [
        "## 커뮤니티\n",
        "\n",
        "- 텐서플로우 코리아 - 국내 최대 텐서플로우 및 딥러닝 커뮤니티\n",
        "    - [페이스북](https://www.facebook.com/groups/TensorFlowKR/)\n",
        "\n",
        "- AI프렌즈 - 대덕연구단지를 기반으로 하며, 인공지능 기술을 공유하며 함께 성장하는 산-학-연 중심의 비영리 연구모임\n",
        "    - [유튜브 채널](https://www.youtube.com/channel/UC2L1DgDMD5pJ-35G47Objfw)\n",
        "    - [카카오톡 단톡방](https://open.kakao.com/o/ggewxi2)\n",
        "    - [블로그](https://aifrenz.github.io/)\n",
        "\n",
        "- 캐글 코리아 - 캐글, 딥러닝, 데이터 사이언스 관련 각종 정보 교류 커뮤니티\n",
        "    - [페이스북](https://www.facebook.com/groups/KaggleKoreaOpenGroup/)\n",
        "\n",
        "- 데이콘 - 국내 최대 데이터 사이언스 플랫폼\n",
        "    - [카카오톡 단톡방](https://open.kakao.com/o/g2XvVilc)\n",
        "\n",
        "- 가짜연구소 - 머신러닝 연구/스터디 커뮤니티\n",
        "    - [홈페이지](https://pseudo-lab.com/)\n",
        "    - [페이스북](https://www.facebook.com/groups/pseudolab)"
      ]
    }
  ]
}